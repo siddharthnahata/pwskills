{
 "cells": [
  {
   "cell_type": "code",
   "execution_count": 1,
   "id": "cf6b6dc3",
   "metadata": {},
   "outputs": [],
   "source": [
    "import pandas as pd\n",
    "import numpy as np\n",
    "import matplotlib.pyplot as plt\n",
    "import seaborn as sns\n",
    "import warnings\n",
    "warnings.filterwarnings('ignore')"
   ]
  },
  {
   "cell_type": "markdown",
   "id": "1fb0c4a9",
   "metadata": {},
   "source": [
    "1. What is a parameter"
   ]
  },
  {
   "cell_type": "markdown",
   "id": "98339ec9",
   "metadata": {},
   "source": [
    "Ans- A parameter is a specified value for the data which is been present. It is like a rule for the data which represents it's limits which it should or can't breach."
   ]
  },
  {
   "cell_type": "markdown",
   "id": "7c943af8",
   "metadata": {},
   "source": [
    "2.1 What is correlation"
   ]
  },
  {
   "cell_type": "markdown",
   "id": "58360e9a",
   "metadata": {},
   "source": [
    "Ans- Correaltion is a numeric value in range of [-1,1], where it represent the relationship between two datasets. Here 1 being positively related where -1 being negatively realeated and 0 said no relation found. Corr = Cov(X, Y)/sigmaX*sigmaY and here Cov(X, Y) = sub(xi -X_bar)(yi -y_bar)/n-1"
   ]
  },
  {
   "cell_type": "markdown",
   "id": "2e16080e",
   "metadata": {},
   "source": [
    "2.2 What does negative correlation mean"
   ]
  },
  {
   "cell_type": "markdown",
   "id": "398f2d9c",
   "metadata": {},
   "source": [
    "Ans- Negative correlation means that two data points are negatively realated like if one increase other decreases."
   ]
  },
  {
   "cell_type": "markdown",
   "id": "5502fbc8",
   "metadata": {},
   "source": [
    "3. Define Machine Learning. What are the main components in Machine Learning"
   ]
  },
  {
   "cell_type": "markdown",
   "id": "99a8d00c",
   "metadata": {},
   "source": [
    "Ans- Machine learning is all about learing patterns from the data and interperting the results using statistical tools. It is a branch of artifical intelligence. The core components of machine learning are: Data, Algorithms, Models, Training, and Evaluation"
   ]
  },
  {
   "cell_type": "markdown",
   "id": "18b18fff",
   "metadata": {},
   "source": [
    "4. How does loss value help in determining whether the model is good or not"
   ]
  },
  {
   "cell_type": "markdown",
   "id": "791e2c52",
   "metadata": {},
   "source": [
    "Ans- Lower loss values generally signify a better-performing model, indicating a smaller difference between the model's predictions and the actual values. Conversely, higher loss values suggest the model is making more errors."
   ]
  },
  {
   "cell_type": "markdown",
   "id": "972c562a",
   "metadata": {},
   "source": [
    "5. What are continuous and categorical variables"
   ]
  },
  {
   "cell_type": "markdown",
   "id": "40d7ce9c",
   "metadata": {},
   "source": [
    "Ans- Continuous variables represent measurable quantities that can take on any value within a given range, while categorical variables represent groupings or categories"
   ]
  },
  {
   "cell_type": "markdown",
   "id": "dda252aa",
   "metadata": {},
   "source": [
    "6. How do we handle categorical variables in Machine Learning? What are the common t\n",
    "echniques?"
   ]
  },
  {
   "cell_type": "markdown",
   "id": "9bccb2a7",
   "metadata": {},
   "source": [
    "Ans- In Machine Learing we handle categorical value by making them numeric value by data encoding. Few of Techniques are 1. One-Hot Encoding, 2. Label Encoding, 3. Ordinal Encoding, 4. Target Encoding."
   ]
  },
  {
   "cell_type": "markdown",
   "id": "4e09ed06",
   "metadata": {},
   "source": [
    "7. What do you mean by training and testing a dataset"
   ]
  },
  {
   "cell_type": "markdown",
   "id": "37696534",
   "metadata": {},
   "source": [
    "Ans- In Machine Learning traing a dataset means where we train our model with a dataset which is meant for traing purpose here we with the dataset we make our model learn patterns and make best model. While on other hand test dataset means that data is meant for testing like comparing outcomes with actual here model is been test and gets rated with it's accuracy"
   ]
  },
  {
   "cell_type": "markdown",
   "id": "46cceafe",
   "metadata": {},
   "source": [
    "8. What is sklearn.preprocessing"
   ]
  },
  {
   "cell_type": "markdown",
   "id": "5ab5c059",
   "metadata": {},
   "source": [
    "Ans- sklearn.preprocessing is a module within the scikit-learn (sklearn) library in Python that provides a wide range of tools and functions for data preprocessing. Data preprocessing is a crucial step in machine learning workflows, involving transforming raw data into a format suitable for training machine learning models"
   ]
  },
  {
   "cell_type": "markdown",
   "id": "97e9666f",
   "metadata": {},
   "source": [
    "9. What is a Test set"
   ]
  },
  {
   "cell_type": "markdown",
   "id": "8e132a30",
   "metadata": {},
   "source": [
    "Ans- It is a dataset where model is tested."
   ]
  },
  {
   "cell_type": "markdown",
   "id": "69ee729d",
   "metadata": {},
   "source": [
    "10.1 How do we split data for model fitting (training and testing) in Python."
   ]
  },
  {
   "cell_type": "markdown",
   "id": "1ef0f191",
   "metadata": {},
   "source": [
    "Ans- We take a ratio 60% for training 20% for testing and 20% actual data."
   ]
  },
  {
   "cell_type": "markdown",
   "id": "0fde78a9",
   "metadata": {},
   "source": [
    "10.2 How do you approach a Machine Learning problem"
   ]
  },
  {
   "cell_type": "markdown",
   "id": "21a46db6",
   "metadata": {},
   "source": [
    "Ans- To effectively tackle a machine learning problem, one should follow a structured approach that includes defining the problem, gathering and preparing data, selecting and training a model, evaluating its performance, and deploying it for real-world use"
   ]
  },
  {
   "cell_type": "markdown",
   "id": "b5f14e9b",
   "metadata": {},
   "source": [
    "11. Why do we have to perform EDA before fitting a model to the data"
   ]
  },
  {
   "cell_type": "markdown",
   "id": "f33001b8",
   "metadata": {},
   "source": [
    "Ans- Exploratory Data Analysis (EDA) should be performed before model fitting to gain a deep understanding of the data, identify potential issues, and make informed decisions about feature engineering, model selection, and data preparation."
   ]
  },
  {
   "cell_type": "markdown",
   "id": "69b97f13",
   "metadata": {},
   "source": [
    "12. What is correlation?"
   ]
  },
  {
   "cell_type": "markdown",
   "id": "e63e243e",
   "metadata": {},
   "source": [
    "Ans- Correaltion is a numeric value in range of [-1,1], where it represent the relationship between two datasets. Here 1 being positively related where -1 being negatively realeated and 0 said no relation found. Corr = Cov(X, Y)/sigmaX*sigmaY and here Cov(X, Y) = sub(xi -X_bar)(yi -y_bar)/n-1"
   ]
  },
  {
   "cell_type": "markdown",
   "id": "2dc0b100",
   "metadata": {},
   "source": [
    "13. What does negative correlation mean"
   ]
  },
  {
   "cell_type": "markdown",
   "id": "b4b5fc96",
   "metadata": {},
   "source": [
    "Ans- Negative correlation means that two data points are negatively realated like if one increase other decreases."
   ]
  },
  {
   "cell_type": "markdown",
   "id": "8c700854",
   "metadata": {},
   "source": [
    "14. How can you find correlation between variables in Python"
   ]
  },
  {
   "cell_type": "code",
   "execution_count": 16,
   "id": "7f4c079a",
   "metadata": {},
   "outputs": [
    {
     "name": "stdout",
     "output_type": "stream",
     "text": [
      "[[ 1.         -0.14149141]\n",
      " [-0.14149141  1.        ]]\n",
      "          a         b\n",
      "a  1.000000 -0.141491\n",
      "b -0.141491  1.000000\n"
     ]
    },
    {
     "data": {
      "image/png": "[encoded data removed]",
      "text/plain": [
       "<Figure size 640x480 with 2 Axes>"
      ]
     },
     "metadata": {},
     "output_type": "display_data"
    }
   ],
   "source": [
    "x = np.random.randint(100, size=(100))\n",
    "y = np.random.randint(100, size=(100))\n",
    "\n",
    "print(np.corrcoef(x,y))\n",
    "\n",
    "data = {\n",
    "    'a': x,\n",
    "    'b': y\n",
    "}\n",
    "df = pd.DataFrame(data)\n",
    "\n",
    "corrmatrix = df.corr()\n",
    "print(corrmatrix)\n",
    "\n",
    "sns.heatmap(corrmatrix, annot=True)\n",
    "plt.title('Corrmatrix')\n",
    "plt.show()\n"
   ]
  },
  {
   "cell_type": "markdown",
   "id": "6008a24b",
   "metadata": {},
   "source": [
    "15. What is causation? Explain difference between correlation and causation with an example"
   ]
  },
  {
   "cell_type": "markdown",
   "id": "43ddee4a",
   "metadata": {},
   "source": [
    "Ans- Causation means that one event directly causes another to occur, while correlation indicates a relationship or association between two events, but not necessarily a cause-and-effect link"
   ]
  },
  {
   "cell_type": "markdown",
   "id": "30101da7",
   "metadata": {},
   "source": [
    "16. What is an Optimizer? What are different types of optimizers? Explain each with an example"
   ]
  },
  {
   "cell_type": "markdown",
   "id": "da0241c0",
   "metadata": {},
   "source": [
    "Ans- An optimizer in machine learning is an algorithm used to adjust the parameters (weights and biases) of a neural network to minimize the loss function, thereby improving the model's performance."
   ]
  },
  {
   "cell_type": "markdown",
   "id": "6221192c",
   "metadata": {},
   "source": [
    "17. What is sklearn.linear_model?"
   ]
  },
  {
   "cell_type": "markdown",
   "id": "bc9b98d4",
   "metadata": {},
   "source": [
    "Ans- sklearn.linear_model is a module within the scikit-learn (sklearn) library in Python that provides a collection of algorithms for performing machine learning tasks using linear models. Linear models assume a linear relationship between the input features and the target variable. "
   ]
  },
  {
   "cell_type": "markdown",
   "id": "0f4ad94b",
   "metadata": {},
   "source": [
    "18. What does model.fit() do? What arguments must be given?"
   ]
  },
  {
   "cell_type": "markdown",
   "id": "c7cb5ecd",
   "metadata": {},
   "source": [
    "Ans- The model.fit() method, commonly found in machine learning libraries like Keras and Scikit-learn, is used to train a machine learning model. During this process, the model learns patterns and relationships within the provided training data by adjusting its internal parameters (weights and biases) to minimize a predefined loss function."
   ]
  },
  {
   "cell_type": "markdown",
   "id": "7a5ec878",
   "metadata": {},
   "source": [
    "19. What does model.predict() do? What arguments must be given?"
   ]
  },
  {
   "cell_type": "markdown",
   "id": "ed2ac63d",
   "metadata": {},
   "source": [
    "Ans- model. predict() is used to generate predictions from the trained model based on new input data. It does not require true labels and does not compute any metrics."
   ]
  },
  {
   "cell_type": "markdown",
   "id": "2eee54d9",
   "metadata": {},
   "source": [
    "20. What are continuous and categorical variables"
   ]
  },
  {
   "cell_type": "markdown",
   "id": "1e907e80",
   "metadata": {},
   "source": [
    "Ans- Continuous variables represent measurable quantities that can take on any value within a given range, while categorical variables represent groupings or categories"
   ]
  },
  {
   "cell_type": "markdown",
   "id": "2a624e1d",
   "metadata": {},
   "source": [
    "21. What is feature scaling? How does it help in Machine Learning?"
   ]
  },
  {
   "cell_type": "markdown",
   "id": "6f534cc9",
   "metadata": {},
   "source": [
    "Ans- Feature scaling makes data compressed or small but relative and make ML models to compute easily"
   ]
  },
  {
   "cell_type": "markdown",
   "id": "9ea982d9",
   "metadata": {},
   "source": [
    "22. How do we perform scaling in Python"
   ]
  },
  {
   "cell_type": "markdown",
   "id": "8e3678b9",
   "metadata": {},
   "source": [
    "Ans- There are various ways of feature scaling. Following are 1. Standardization- Here we calculate z-score and make it representator for data Z score = (xi-mu)/std_dev, 2. Normalization- here we pre process data using min max values and make it in scale of 0-1 Normalization = x-Xmin/Xmax-Xmin."
   ]
  },
  {
   "cell_type": "markdown",
   "id": "d8c6ed56",
   "metadata": {},
   "source": [
    "23. What is sklearn.preprocessing"
   ]
  },
  {
   "cell_type": "markdown",
   "id": "77347b52",
   "metadata": {},
   "source": [
    "Ans- sklearn is a module in python for various data help where preprocessing is used for data preprocessing like encoding and scaling."
   ]
  },
  {
   "cell_type": "markdown",
   "id": "b451b2dc",
   "metadata": {},
   "source": [
    "24. How do we split data for model fitting (training and testing) in Python"
   ]
  },
  {
   "cell_type": "markdown",
   "id": "22bd410a",
   "metadata": {},
   "source": [
    "Ans- To split data into training and testing sets for model fitting in Python, the train_test_split function from the sklearn.model_selection module is commonly used."
   ]
  },
  {
   "cell_type": "markdown",
   "id": "434f85f7",
   "metadata": {},
   "source": [
    "25. Explain data encoding"
   ]
  },
  {
   "cell_type": "markdown",
   "id": "25227562",
   "metadata": {},
   "source": [
    "Ans- encoding is the process of converting data into a specific format for storage, transmission, or processing."
   ]
  }
 ],
 "metadata": {
  "kernelspec": {
   "display_name": "Python 3",
   "language": "python",
   "name": "python3"
  },
  "language_info": {
   "codemirror_mode": {
    "name": "ipython",
    "version": 3
   },
   "file_extension": ".py",
   "mimetype": "text/x-python",
   "name": "python",
   "nbconvert_exporter": "python",
   "pygments_lexer": "ipython3",
   "version": "3.13.5"
  }
 },
 "nbformat": 4,
 "nbformat_minor": 5
}
