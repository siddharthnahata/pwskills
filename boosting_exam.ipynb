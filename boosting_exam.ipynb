{
 "cells": [
  {
   "cell_type": "code",
   "execution_count": 1,
   "id": "f3a3db0f",
   "metadata": {},
   "outputs": [],
   "source": [
    "import pandas as pd\n",
    "import numpy as np\n",
    "import seaborn as sns\n",
    "import matplotlib.pyplot as plt\n",
    "import warnings\n",
    "warnings.filterwarnings('ignore')"
   ]
  },
  {
   "cell_type": "markdown",
   "id": "3970df22",
   "metadata": {},
   "source": [
    "1. What is Boosting in Machine Learning? Explain how it improves weak \n",
    "learners."
   ]
  },
  {
   "cell_type": "markdown",
   "id": "2eeb7223",
   "metadata": {},
   "source": [
    "Ans- in Boosting we make first model on the training data then identify the error and other things the make another model with all the errors to compress the errors. From the second model onwards the are called weak learners and together they become strong learner."
   ]
  },
  {
   "cell_type": "markdown",
   "id": "c1b8973e",
   "metadata": {},
   "source": [
    "2. What is the difference between AdaBoost and Gradient Boosting in terms \n",
    "of how models are trained?"
   ]
  },
  {
   "cell_type": "markdown",
   "id": "ca89b11a",
   "metadata": {},
   "source": [
    "Ans- AdaBoost focuses on increasing the weights of misclassified data points in each subsequent training round to give them more attention, while Gradient Boosting directly minimizes the loss function by training new models to predict the errors or residuals of the previous models. AdaBoost uses weighted voting for combining weak learners, whereas Gradient Boosting uses a sequential, additive approach to gradient descent on the loss function to build a strong model that gradually corrects mistakes.\n"
   ]
  },
  {
   "cell_type": "markdown",
   "id": "1ea6a2d5",
   "metadata": {},
   "source": [
    "3. How does regularization help in XGBoost?"
   ]
  },
  {
   "cell_type": "markdown",
   "id": "a2aa1869",
   "metadata": {},
   "source": [
    "Ans- Regularization in XGBoost helps prevent overfitting and improves the model's generalization performance on unseen data. It achieves this by adding penalty terms to the objective function, which discourage overly complex models."
   ]
  },
  {
   "cell_type": "markdown",
   "id": "5375f03e",
   "metadata": {},
   "source": [
    "4. Why is CatBoost considered efficient for handling categorical data? "
   ]
  },
  {
   "cell_type": "markdown",
   "id": "6b120b12",
   "metadata": {},
   "source": [
    "Ans- CatBoost is considered efficient for handling categorical data due to its native and automated approach to encoding, which minimizes the need for extensive manual preprocessing."
   ]
  },
  {
   "cell_type": "markdown",
   "id": "2524eed5",
   "metadata": {},
   "source": [
    "5. What are some real-world applications where boosting techniques are \n",
    "preferred over bagging methods? "
   ]
  },
  {
   "cell_type": "markdown",
   "id": "cba8a6a8",
   "metadata": {},
   "source": [
    "Ans- Boosting techniques are preferred over bagging methods for real-world applications when the goal is to reduce bias in simple, stable models or when higher accuracy is paramount even at the risk of some overfitting, such as in complex image and object identification tasks or when dealing with data mining problems where subtle patterns need to be captured."
   ]
  },
  {
   "cell_type": "markdown",
   "id": "3ecd04b6",
   "metadata": {},
   "source": [
    "6.  Write a Python program to: \n",
    "● Train an AdaBoost Classifier on the Breast Cancer dataset \n",
    "● Print the model accuracy \n",
    "(Include your Python code and output in the code box below.)"
   ]
  },
  {
   "cell_type": "code",
   "execution_count": 2,
   "id": "de2100dc",
   "metadata": {},
   "outputs": [
    {
     "name": "stdout",
     "output_type": "stream",
     "text": [
      "Accuracy Score: 0.96\n"
     ]
    }
   ],
   "source": [
    "from sklearn.datasets import load_breast_cancer\n",
    "from sklearn.model_selection import train_test_split\n",
    "from sklearn.ensemble import AdaBoostClassifier\n",
    "from sklearn.metrics import accuracy_score\n",
    "\n",
    "X, y = load_breast_cancer(return_X_y=True)\n",
    "X_train, X_test, y_train, y_test = train_test_split(X, y, test_size=0.2, random_state=42)\n",
    "clf = AdaBoostClassifier()\n",
    "\n",
    "clf.fit(X_train, y_train)\n",
    "\n",
    "y_pred = clf.predict(X_test)\n",
    "score = accuracy_score(y_test, y_pred)\n",
    "\n",
    "print(f\"Accuracy Score: {round(score, 2)}\")"
   ]
  },
  {
   "cell_type": "markdown",
   "id": "bd6b2ce3",
   "metadata": {},
   "source": [
    "7.  Write a Python program to: \n",
    "● Train a Gradient Boosting Regressor on the California Housing dataset \n",
    "● Evaluate performance using R-squared score \n",
    "(Include your Python code and output in the code box below.) "
   ]
  },
  {
   "cell_type": "code",
   "execution_count": 3,
   "id": "20d54a79",
   "metadata": {},
   "outputs": [
    {
     "name": "stdout",
     "output_type": "stream",
     "text": [
      "R Square Score: 0.78\n"
     ]
    }
   ],
   "source": [
    "from sklearn.datasets import fetch_california_housing\n",
    "from sklearn.model_selection import train_test_split\n",
    "from sklearn.ensemble import GradientBoostingRegressor\n",
    "from sklearn.metrics import r2_score\n",
    "\n",
    "X, y = fetch_california_housing(return_X_y=True)\n",
    "X_train, X_test, y_train, y_test = train_test_split(X, y, test_size=0.2, random_state=42)\n",
    "clf = GradientBoostingRegressor()\n",
    "\n",
    "clf.fit(X_train, y_train)\n",
    "\n",
    "y_pred = clf.predict(X_test)\n",
    "score = r2_score(y_test, y_pred)\n",
    "\n",
    "print(f\"R Square Score: {round(score, 2)}\")"
   ]
  },
  {
   "cell_type": "markdown",
   "id": "02021eeb",
   "metadata": {},
   "source": [
    "8. Write a Python program to: \n",
    "<br>● Train an XGBoost Classifier on the Breast Cancer dataset \n",
    "<br>● Tune the learning rate using GridSearchCV \n",
    "<br>● Print the best parameters and accuracy"
   ]
  },
  {
   "cell_type": "code",
   "execution_count": 4,
   "id": "da3b8436",
   "metadata": {},
   "outputs": [
    {
     "name": "stdout",
     "output_type": "stream",
     "text": [
      "Best Parameters: {'learning_rate': 1}\n",
      "Accuracy Score: 0.96\n"
     ]
    }
   ],
   "source": [
    "from sklearn.datasets import load_breast_cancer\n",
    "from sklearn.model_selection import train_test_split, GridSearchCV\n",
    "from xgboost import XGBClassifier\n",
    "from sklearn.metrics import accuracy_score\n",
    "\n",
    "X, y = load_breast_cancer(return_X_y=True)\n",
    "X_train, X_test, y_train, y_test = train_test_split(X, y, test_size=0.2, random_state=42)\n",
    "base_clf = XGBClassifier()\n",
    "\n",
    "param_grid = {\n",
    "    'learning_rate': [0.01, 0.1, 0.11, 1, 1.1 ]\n",
    "} \n",
    "\n",
    "clf = GridSearchCV(\n",
    "    estimator=base_clf,\n",
    "    param_grid=param_grid\n",
    ")\n",
    "\n",
    "clf.fit(X_train, y_train)\n",
    "\n",
    "y_pred = clf.best_estimator_.predict(X_test)\n",
    "score = accuracy_score(y_test, y_pred)\n",
    "\n",
    "print(f\"Best Parameters: {clf.best_params_}\")\n",
    "print(f\"Accuracy Score: {round(score, 2)}\")"
   ]
  },
  {
   "cell_type": "markdown",
   "id": "0b097530",
   "metadata": {},
   "source": [
    "9. Write a Python program to: \n",
    "<br>● Train a CatBoost Classifier \n",
    "<br>● Plot the confusion matrix using seaborn \n",
    "<br>(Include your Python code and output in the code box below.)"
   ]
  },
  {
   "cell_type": "code",
   "execution_count": 5,
   "id": "88fcbeb4",
   "metadata": {},
   "outputs": [
    {
     "data": {
      "image/png": "[encoded data removed]",
      "text/plain": [
       "<Figure size 600x400 with 2 Axes>"
      ]
     },
     "metadata": {},
     "output_type": "display_data"
    },
    {
     "name": "stdout",
     "output_type": "stream",
     "text": [
      "Accuracy: 0.9766081871345029\n"
     ]
    }
   ],
   "source": [
    "from sklearn.model_selection import train_test_split\n",
    "from sklearn.metrics import confusion_matrix, accuracy_score\n",
    "from catboost import CatBoostClassifier\n",
    "from sklearn.datasets import load_breast_cancer\n",
    "\n",
    "\n",
    "cancer = load_breast_cancer()\n",
    "X, y = cancer.data, cancer.target\n",
    "X_train, X_test, y_train, y_test = train_test_split(X, y, test_size=0.3, random_state=42)\n",
    "\n",
    "model = CatBoostClassifier(\n",
    "    iterations=100,\n",
    "    learning_rate=0.1,\n",
    "    depth=3,\n",
    "    verbose=0\n",
    ")\n",
    "model.fit(X_train, y_train)\n",
    "y_pred = model.predict(X_test)\n",
    "\n",
    "cm = confusion_matrix(y_test, y_pred)\n",
    "plt.figure(figsize=(6,4))\n",
    "sns.heatmap(cm, annot=True, fmt=\"d\", cmap=\"Blues\",\n",
    "            xticklabels=cancer.target_names,\n",
    "            yticklabels=cancer.target_names)\n",
    "plt.xlabel(\"Predicted\")\n",
    "plt.ylabel(\"Actual\")\n",
    "plt.title(\"Confusion Matrix - CatBoost Classifier\")\n",
    "plt.show()\n",
    "\n",
    "# Print accuracy\n",
    "print(\"Accuracy:\", accuracy_score(y_test, y_pred))"
   ]
  },
  {
   "cell_type": "markdown",
   "id": "c0c51281",
   "metadata": {},
   "source": [
    "10. You're working for a FinTech company trying to predict loan default using \n",
    "customer demographics and transaction behavior. \n",
    "The dataset is imbalanced, contains missing values, and has both numeric and \n",
    "categorical features. \n",
    "<br>Describe your step-by-step data science pipeline using boosting techniques: \n",
    "<br>● Data preprocessing & handling missing/categorical values \n",
    "<br>● Choice between AdaBoost, XGBoost, or CatBoost \n",
    "<br>● Hyperparameter tuning strategy \n",
    "<br>● Evaluation metrics you'd choose and why \n",
    "<br>● How the business would benefit from your model \n",
    "<br>(Include your Python code and output in the code box below.)"
   ]
  },
  {
   "cell_type": "markdown",
   "id": "ec41a2d1",
   "metadata": {},
   "source": [
    "## Step 0: Importing modules"
   ]
  },
  {
   "cell_type": "code",
   "execution_count": 6,
   "id": "7c18550c",
   "metadata": {},
   "outputs": [],
   "source": [
    "import pandas as pd\n",
    "import numpy as np\n",
    "import seaborn as sns\n",
    "import matplotlib.pyplot as plt\n",
    "\n",
    "from sklearn.model_selection import train_test_split, GridSearchCV\n",
    "from sklearn.metrics import classification_report, confusion_matrix, roc_auc_score, RocCurveDisplay\n",
    "from sklearn.preprocessing import LabelEncoder, StandardScaler\n",
    "from sklearn.impute import SimpleImputer\n",
    "\n",
    "from imblearn.over_sampling import SMOTE\n",
    "\n",
    "from xgboost import XGBClassifier\n",
    "from catboost import CatBoostClassifier\n",
    "from sklearn.ensemble import AdaBoostClassifier\n"
   ]
  },
  {
   "cell_type": "markdown",
   "id": "c166e0d8",
   "metadata": {},
   "source": [
    "## Step 1: Data Preprocessing\n",
    "- Handle missing values  \n",
    "- Encode categorical features  \n",
    "- Scale numerical features  \n",
    "- Split data into train/test  \n",
    "- Balance dataset using **SMOTE**  \n"
   ]
  },
  {
   "cell_type": "code",
   "execution_count": 7,
   "id": "ba28cba5",
   "metadata": {},
   "outputs": [],
   "source": [
    "from sklearn.preprocessing import LabelEncoder, StandardScaler\n",
    "from imblearn.over_sampling import SMOTE\n",
    "\n",
    "def preprocess_data(df, target_column):\n",
    "    # Separate features and target\n",
    "    X = df.drop(target_column, axis=1)\n",
    "    y = df[target_column]\n",
    "    \n",
    "    # Separate categorical and numeric\n",
    "    cat_cols = X.select_dtypes(include=[\"object\", \"category\"]).columns\n",
    "    num_cols = X.select_dtypes(include=[np.number]).columns\n",
    "\n",
    "    # Impute missing values\n",
    "    X[cat_cols] = X[cat_cols].fillna(\"Missing\")\n",
    "    X[num_cols] = X[num_cols].fillna(X[num_cols].median())\n",
    "\n",
    "    # Encode categoricals\n",
    "    le = LabelEncoder()\n",
    "    for col in cat_cols:\n",
    "        X[col] = le.fit_transform(X[col].astype(str))\n",
    "\n",
    "    # Scale numeric\n",
    "    scaler = StandardScaler()\n",
    "    X[num_cols] = scaler.fit_transform(X[num_cols])\n",
    "\n",
    "    # Train-test split\n",
    "    X_train, X_test, y_train, y_test = train_test_split(\n",
    "        X, y, test_size=0.2, stratify=y, random_state=42\n",
    "    )\n",
    "\n",
    "    # Handle imbalance using SMOTE\n",
    "    smote = SMOTE(random_state=42)\n",
    "    X_train_res, y_train_res = smote.fit_resample(X_train, y_train)\n",
    "\n",
    "    return X_train_res, X_test, y_train_res, y_test"
   ]
  },
  {
   "cell_type": "markdown",
   "id": "070bdd71",
   "metadata": {},
   "source": [
    "## Step 2: Model Selection (Boosting)\n",
    "- We will try **CatBoost, XGBoost, and AdaBoost**  \n",
    "- Choose the best one based on **ROC-AUC** and **F1-score**  "
   ]
  },
  {
   "cell_type": "code",
   "execution_count": 8,
   "id": "13fae7f7",
   "metadata": {},
   "outputs": [],
   "source": [
    "from sklearn.ensemble import AdaBoostClassifier\n",
    "from xgboost import XGBClassifier\n",
    "from catboost import CatBoostClassifier\n",
    "from sklearn.metrics import roc_auc_score\n",
    "\n",
    "def train_models(X_train, X_test, y_train, y_test):\n",
    "    models = {\n",
    "        \"XGBoost\": XGBClassifier(use_label_encoder=False, eval_metric=\"logloss\"),\n",
    "        \"CatBoost\": CatBoostClassifier(verbose=0, random_state=42),\n",
    "        \"AdaBoost\": AdaBoostClassifier(random_state=42)\n",
    "    }\n",
    "    \n",
    "    results = {}\n",
    "    for name, model in models.items():\n",
    "        model.fit(X_train, y_train)\n",
    "        preds = model.predict(X_test)\n",
    "        auc = roc_auc_score(y_test, preds)\n",
    "        results[name] = auc\n",
    "        print(f\"{name} ROC-AUC: {auc:.4f}\")\n",
    "    return results\n",
    "\n",
    "# Example usage:\n",
    "# results = train_models(X_train_res, X_test, y_train_res, y_test)\n"
   ]
  },
  {
   "cell_type": "markdown",
   "id": "bfc535e6",
   "metadata": {},
   "source": [
    "## Step 3: Hyperparameter Tuning\n",
    "We use **GridSearchCV** to tune parameters for the best model (example: CatBoost).  \n"
   ]
  },
  {
   "cell_type": "code",
   "execution_count": 9,
   "id": "d8648a82",
   "metadata": {},
   "outputs": [],
   "source": [
    "from sklearn.model_selection import GridSearchCV\n",
    "from catboost import CatBoostClassifier\n",
    "\n",
    "def tune_catboost(X_train, y_train):\n",
    "    params = {\n",
    "        \"iterations\": [100, 300],\n",
    "        \"depth\": [4, 6, 8],\n",
    "        \"learning_rate\": [0.01, 0.1]\n",
    "    }\n",
    "    model = CatBoostClassifier(verbose=0, random_state=42)\n",
    "    grid = GridSearchCV(model, param_grid=params, scoring=\"roc_auc\", cv=3, n_jobs=-1)\n",
    "    grid.fit(X_train, y_train)\n",
    "    print(\"Best Params:\", grid.best_params_)\n",
    "    return grid.best_estimator_\n"
   ]
  },
  {
   "cell_type": "markdown",
   "id": "8a4ed393",
   "metadata": {},
   "source": [
    "## Step 4: Evaluation\n",
    "We evaluate using:  \n",
    "- **Confusion Matrix**  \n",
    "- **Classification Report** (Precision, Recall, F1)  \n",
    "- **ROC-AUC Curve**  \n"
   ]
  },
  {
   "cell_type": "code",
   "execution_count": 10,
   "id": "4dd81ac6",
   "metadata": {},
   "outputs": [],
   "source": [
    "from sklearn.metrics import classification_report, RocCurveDisplay\n",
    "\n",
    "def evaluate_model(model, X_test, y_test):\n",
    "    preds = model.predict(X_test)\n",
    "    probs = model.predict_proba(X_test)[:,1]\n",
    "\n",
    "    print(classification_report(y_test, preds))\n",
    "    print(\"ROC-AUC:\", roc_auc_score(y_test, preds))\n",
    "\n",
    "    cm = confusion_matrix(y_test, preds)\n",
    "    sns.heatmap(cm, annot=True, fmt=\"d\", cmap=\"Blues\")\n",
    "    plt.title(\"Confusion Matrix\")\n",
    "    plt.show()\n",
    "\n",
    "    RocCurveDisplay.from_predictions(y_test, probs)\n",
    "    plt.show()\n"
   ]
  },
  {
   "cell_type": "markdown",
   "id": "498651a0",
   "metadata": {},
   "source": [
    "## Step 5: Business Impact\n",
    "By predicting **loan default risk**, the company can:  \n",
    "- Reduce **bad loan issuance**  \n",
    "- Improve **risk management**  \n",
    "- Personalize interest rates (low-risk customers get lower rates)  \n",
    "- Save costs by focusing recovery efforts on high-risk customers  \n"
   ]
  }
 ],
 "metadata": {
  "kernelspec": {
   "display_name": "Python 3",
   "language": "python",
   "name": "python3"
  },
  "language_info": {
   "codemirror_mode": {
    "name": "ipython",
    "version": 3
   },
   "file_extension": ".py",
   "mimetype": "text/x-python",
   "name": "python",
   "nbconvert_exporter": "python",
   "pygments_lexer": "ipython3",
   "version": "3.13.5"
  }
 },
 "nbformat": 4,
 "nbformat_minor": 5
}
