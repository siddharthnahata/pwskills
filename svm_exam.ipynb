{
 "cells": [
  {
   "cell_type": "markdown",
   "id": "4857ca99",
   "metadata": {},
   "source": [
    "1.  What is a Support Vector Machine (SVM)"
   ]
  },
  {
   "cell_type": "markdown",
   "id": "534fae65",
   "metadata": {},
   "source": [
    "Ans- A Support Vector Machine (SVM) is a supervised machine learning algorithm used for classification and regression tasks. It works by finding the optimal hyperplane that best separates data points into different categories or predicts a continuous outcome. SVMs are particularly useful for handling complex, non-linear data by mapping it into a higher-dimensional space. "
   ]
  },
  {
   "cell_type": "markdown",
   "id": "ebb6e89b",
   "metadata": {},
   "source": [
    "2. What is the difference between Hard Margin and Soft Margin SVM"
   ]
  },
  {
   "cell_type": "markdown",
   "id": "994d09b0",
   "metadata": {},
   "source": [
    "Ans- The main difference between hard margin and soft margin SVM (Support Vector Machine) lies in how they handle linearly separable data and outliers. Hard margin SVM requires perfect separation of data points, while soft margin SVM allows for some misclassifications to better generalize to real-world, non-linearly separable data. "
   ]
  },
  {
   "cell_type": "markdown",
   "id": "deabc5ab",
   "metadata": {},
   "source": [
    "3. What is the mathematical intuition behind SVM"
   ]
  },
  {
   "cell_type": "markdown",
   "id": "f2941987",
   "metadata": {},
   "source": [
    "Ans- The core mathematical idea behind Support Vector Machines (SVM) is to find the optimal hyperplane that best separates data points into different classes, maximizing the margin between the hyperplane and the nearest data points (support vectors). This margin maximization helps in achieving good generalization performance and robustness to noise. "
   ]
  },
  {
   "cell_type": "markdown",
   "id": "6b8dba73",
   "metadata": {},
   "source": [
    "4.  What is the role of Lagrange Multipliers in SVM"
   ]
  },
  {
   "cell_type": "markdown",
   "id": "eace2fca",
   "metadata": {},
   "source": [
    "Ans- Lagrange multipliers are essential in Support Vector Machines (SVMs) for transforming the constrained optimization problem into a dual formulation, which simplifies the process of finding the optimal hyperplane"
   ]
  },
  {
   "cell_type": "markdown",
   "id": "2d95ebef",
   "metadata": {},
   "source": [
    "5.  What are Support Vectors in SVM"
   ]
  },
  {
   "cell_type": "markdown",
   "id": "e81d4826",
   "metadata": {},
   "source": [
    "Ans- In Support Vector Machines (SVMs), support vectors are the data points that are closest to the decision boundary (hyperplane). These points are crucial because they define the margins and ultimately determine the position and orientation of the hyperplane. SVMs aim to find the hyperplane that maximizes the margin between the classes while minimizing classification errors, and these support vectors are the ones that define this margin. "
   ]
  },
  {
   "cell_type": "markdown",
   "id": "ba982ccc",
   "metadata": {},
   "source": [
    "6.  What is a Support Vector Classifier (SVC)"
   ]
  },
  {
   "cell_type": "markdown",
   "id": "8b9cfdbd",
   "metadata": {},
   "source": [
    "Ans- A Support Vector Classifier (SVC) is a type of Support Vector Machine (SVM) specifically used for classification tasks. It aims to find the optimal hyperplane that best separates data points into different classes. SVC excels at finding a decision boundary that maximizes the margin between classes, making it a powerful tool for classification problems. "
   ]
  },
  {
   "cell_type": "markdown",
   "id": "4a3c9f82",
   "metadata": {},
   "source": [
    "7.  What is a Support Vector Regressor (SVR)"
   ]
  },
  {
   "cell_type": "markdown",
   "id": "c122e568",
   "metadata": {},
   "source": [
    "Ans- Support Vector Regression (SVR) is a machine learning algorithm used for regression tasks, which involves predicting continuous numerical values. It's an extension of the Support Vector Machine (SVM) algorithm, specifically adapted for regression problems. SVR aims to find a function that best fits the data points while maintaining a margin of error (tube) around the predicted values. "
   ]
  },
  {
   "cell_type": "markdown",
   "id": "3c3840ce",
   "metadata": {},
   "source": [
    "8.  What is the Kernel Trick in SVM"
   ]
  },
  {
   "cell_type": "markdown",
   "id": "757c7b7d",
   "metadata": {},
   "source": [
    "Ans-  The kernel trick in Support Vector Machines (SVM) is a method that allows SVMs to efficiently classify data that is not linearly separable in the original feature space by implicitly mapping the data into a higher-dimensional space where it becomes linearly separable. "
   ]
  },
  {
   "cell_type": "markdown",
   "id": "ad548b44",
   "metadata": {},
   "source": [
    "9.  Compare Linear Kernel, Polynomial Kernel, and RBF Kernel"
   ]
  },
  {
   "cell_type": "markdown",
   "id": "8526d489",
   "metadata": {},
   "source": [
    "Ans- Linear kernels are simple and fast, suitable for linearly separable data. Polynomial kernels can model non-linear relationships, especially in image data. RBF kernels are powerful for capturing complex, non-linear patterns and are often the default choice for SVMs, but require careful tuning. "
   ]
  },
  {
   "cell_type": "markdown",
   "id": "e57c85c8",
   "metadata": {},
   "source": [
    "10. What is the effect of the C parameter in SVM"
   ]
  },
  {
   "cell_type": "markdown",
   "id": "80210eb5",
   "metadata": {},
   "source": [
    "Ans- In Support Vector Machines (SVMs), the C parameter acts as a regularization parameter. It controls the trade-off between achieving a wider margin (which generally leads to better generalization) and minimizing misclassifications of training data points. "
   ]
  },
  {
   "cell_type": "markdown",
   "id": "d3bff4b1",
   "metadata": {},
   "source": [
    "11.  What is the role of the Gamma parameter in RBF Kernel SVM"
   ]
  },
  {
   "cell_type": "markdown",
   "id": "2dae59bd",
   "metadata": {},
   "source": [
    "Ans- In RBF (Radial Basis Function) kernel SVM, the gamma parameter controls the influence of individual training examples on the decision boundary"
   ]
  },
  {
   "cell_type": "markdown",
   "id": "e32b3ce2",
   "metadata": {},
   "source": [
    "12.  What is the Naïve Bayes classifier, and why is it called \"Naïve\""
   ]
  },
  {
   "cell_type": "markdown",
   "id": "8d0a7b11",
   "metadata": {},
   "source": [
    "Ans- The Naïve Bayes classifier is a probabilistic machine learning algorithm used for classification tasks. It is based on Bayes' Theorem, which describes the probability of an event, based on prior knowledge of conditions that might be related to the event. "
   ]
  },
  {
   "cell_type": "markdown",
   "id": "8d778147",
   "metadata": {},
   "source": [
    "13. What is Bayes’ Theorem"
   ]
  },
  {
   "cell_type": "markdown",
   "id": "ee5564b6",
   "metadata": {},
   "source": [
    "Ans- Bayes' Theorem is a mathematical formula that describes how to update the probability of a hypothesis as new evidence or information becomes available. "
   ]
  },
  {
   "cell_type": "markdown",
   "id": "e895c9b2",
   "metadata": {},
   "source": [
    "14.  Explain the differences between Gaussian Naïve Bayes, Multinomial Naïve Bayes, and Bernoulli Naïve Bayes"
   ]
  },
  {
   "cell_type": "markdown",
   "id": "567e6697",
   "metadata": {},
   "source": [
    "Ans- Gaussian Naïve Bayes, Multinomial Naïve Bayes, and Bernoulli Naïve Bayes are variants of the Naïve Bayes algorithm, each suited for different types of data distributions. Gaussian Naïve Bayes is designed for continuous features, assuming that the likelihood of features given a class follows a Gaussian (normal) distribution, meaning it calculates probabilities based on the mean and variance of the feature values within each class. In contrast, Multinomial Naïve Bayes is typically used for discrete data, especially count-based features like word frequencies in text classification, where it models the likelihood using a multinomial distribution, considering the frequency of feature occurrences. Lastly, Bernoulli Naïve Bayes is specifically for binary or boolean features, where it models the presence or absence of a feature using a Bernoulli distribution, focusing on whether a feature exists (1) or not (0) rather than its frequency. Therefore, the key difference lies in the underlying probability distribution assumed for the features and the nature of the data they are best suited to handle "
   ]
  },
  {
   "cell_type": "markdown",
   "id": "f686eec9",
   "metadata": {},
   "source": [
    "15.  When should you use Gaussian Naïve Bayes over other variants"
   ]
  },
  {
   "cell_type": "markdown",
   "id": "a833dc05",
   "metadata": {},
   "source": [
    "Ans- Gaussian Naive Bayes is best suited for classification problems when dealing with continuous numerical data that is assumed to follow a Gaussian (normal) distribution. It excels in scenarios where features within each class can be reasonably approximated by a bell-shaped curve. "
   ]
  },
  {
   "cell_type": "markdown",
   "id": "bb81727e",
   "metadata": {},
   "source": [
    "16.  What are the key assumptions made by Naïve Bayes"
   ]
  },
  {
   "cell_type": "markdown",
   "id": "85c9712c",
   "metadata": {},
   "source": [
    "Ans- The core assumption of the Naive Bayes classifier is that features are conditionally independent given the class label. This means that the presence or absence of one feature does not affect the presence or absence of any other feature, given the class. This \"naive\" assumption simplifies the model and makes it computationally efficient, even though it's often not true in real-world scenarios. "
   ]
  },
  {
   "cell_type": "markdown",
   "id": "fc7cb3d1",
   "metadata": {},
   "source": [
    "17.  What are the advantages and disadvantages of Naïve Bayes"
   ]
  },
  {
   "cell_type": "markdown",
   "id": "158b44af",
   "metadata": {},
   "source": [
    "Ans- Naive Bayes classifiers offer a balance of simplicity, speed, and effectiveness, particularly in text-based applications, but they also have limitations stemming from their core assumption of feature independence. "
   ]
  },
  {
   "cell_type": "markdown",
   "id": "d1f2824a",
   "metadata": {},
   "source": [
    "18.  Why is Naïve Bayes a good choice for text classification"
   ]
  },
  {
   "cell_type": "markdown",
   "id": "0baac221",
   "metadata": {},
   "source": [
    "Ans- Naïve Bayes is a popular choice for text classification due to its simplicity, speed, and effectiveness, particularly with high-dimensional data and limited training data. "
   ]
  },
  {
   "cell_type": "markdown",
   "id": "14f73a34",
   "metadata": {},
   "source": [
    "19.  Compare SVM and Naïve Bayes for classification tasks"
   ]
  },
  {
   "cell_type": "markdown",
   "id": "6eba102e",
   "metadata": {},
   "source": [
    "Ans- SVM and Naïve Bayes are popular classification algorithms, each with its strengths and weaknesses. SVMs excel at handling complex, non-linear data, often achieving higher accuracy, especially with high-dimensional data, by finding the optimal hyperplane to separate classes. However, they can be computationally expensive, particularly with large datasets, and require careful parameter tuning. Naïve Bayes, on the other hand, is known for its simplicity, speed, and efficiency, making it a good choice for large datasets or when computational resources are limited. "
   ]
  },
  {
   "cell_type": "markdown",
   "id": "8b8cbca6",
   "metadata": {},
   "source": [
    "20.  How does Laplace Smoothing help in Naïve Bayes"
   ]
  },
  {
   "cell_type": "markdown",
   "id": "cda47ef4",
   "metadata": {},
   "source": [
    "Ans- aplace smoothing, also known as add-one smoothing, helps Naive Bayes classifiers by addressing the issue of zero probabilities, which can occur when a feature is not observed in a particular class during training. "
   ]
  },
  {
   "cell_type": "markdown",
   "id": "f9d670c2",
   "metadata": {},
   "source": [
    "<h1>Partical</h1>"
   ]
  },
  {
   "cell_type": "code",
   "execution_count": 1,
   "id": "f09f3c18",
   "metadata": {},
   "outputs": [],
   "source": [
    "import pandas as pd\n",
    "import numpy as np\n",
    "import matplotlib.pyplot as plt\n",
    "import seaborn as sns\n",
    "import warnings\n",
    "warnings.filterwarnings('ignore')"
   ]
  },
  {
   "cell_type": "markdown",
   "id": "a5d3faa6",
   "metadata": {},
   "source": [
    "21.  Write a Python program to train an SVM Classifier on the Iris dataset and evaluate accuracy"
   ]
  },
  {
   "cell_type": "code",
   "execution_count": 4,
   "id": "946b1cc3",
   "metadata": {},
   "outputs": [
    {
     "name": "stdout",
     "output_type": "stream",
     "text": [
      "Accuracy Score:  1.0\n",
      "Classification Report: \n",
      "               precision    recall  f1-score   support\n",
      "\n",
      "           0       1.00      1.00      1.00        14\n",
      "           1       1.00      1.00      1.00        18\n",
      "           2       1.00      1.00      1.00        13\n",
      "\n",
      "    accuracy                           1.00        45\n",
      "   macro avg       1.00      1.00      1.00        45\n",
      "weighted avg       1.00      1.00      1.00        45\n",
      "\n",
      "Confusion Matrix: \n",
      " [[14  0  0]\n",
      " [ 0 18  0]\n",
      " [ 0  0 13]]\n"
     ]
    }
   ],
   "source": [
    "from sklearn.datasets import load_iris\n",
    "from sklearn.model_selection import train_test_split\n",
    "from sklearn.svm import SVC\n",
    "from sklearn.metrics import accuracy_score, confusion_matrix, classification_report\n",
    "\n",
    "\n",
    "X, y = load_iris(return_X_y=True)\n",
    "\n",
    "X_train, X_test, y_train, y_test = train_test_split(X, y, test_size=0.3, random_state=1)\n",
    "\n",
    "\n",
    "clf = SVC(kernel='linear')\n",
    "clf.fit(X_train, y_train)\n",
    "y_pred = clf.predict(X_test)\n",
    "\n",
    "print(\"Accuracy Score: \", accuracy_score(y_test, y_pred))\n",
    "print(\"Classification Report: \\n\", classification_report(y_test, y_pred))\n",
    "print(\"Confusion Matrix: \\n\", confusion_matrix(y_test, y_pred))"
   ]
  },
  {
   "cell_type": "markdown",
   "id": "c415f337",
   "metadata": {},
   "source": [
    "22. Write a Python program to train two SVM classifiers with Linear and RBF kernels on the Wine dataset, then \n",
    "compare their accuracies"
   ]
  },
  {
   "cell_type": "code",
   "execution_count": 6,
   "id": "f0dcd094",
   "metadata": {},
   "outputs": [
    {
     "name": "stdout",
     "output_type": "stream",
     "text": [
      "---- Linear Kernal ----\n",
      "Accuracy Score:  0.9629629629629629\n",
      "Classification Report: \n",
      "               precision    recall  f1-score   support\n",
      "\n",
      "           0       0.96      1.00      0.98        23\n",
      "           1       0.95      0.95      0.95        19\n",
      "           2       1.00      0.92      0.96        12\n",
      "\n",
      "    accuracy                           0.96        54\n",
      "   macro avg       0.97      0.95      0.96        54\n",
      "weighted avg       0.96      0.96      0.96        54\n",
      "\n",
      "Confusion Matrix: \n",
      " [[23  0  0]\n",
      " [ 1 18  0]\n",
      " [ 0  1 11]]\n",
      "---- RBF Kernal ----\n",
      "Accuracy Score:  0.6851851851851852\n",
      "Classification Report: \n",
      "               precision    recall  f1-score   support\n",
      "\n",
      "           0       0.95      0.83      0.88        23\n",
      "           1       0.62      0.79      0.70        19\n",
      "           2       0.30      0.25      0.27        12\n",
      "\n",
      "    accuracy                           0.69        54\n",
      "   macro avg       0.62      0.62      0.62        54\n",
      "weighted avg       0.69      0.69      0.68        54\n",
      "\n",
      "Confusion Matrix: \n",
      " [[19  0  4]\n",
      " [ 1 15  3]\n",
      " [ 0  9  3]]\n"
     ]
    }
   ],
   "source": [
    "from sklearn.datasets import load_wine\n",
    "from sklearn.model_selection import train_test_split\n",
    "from sklearn.svm import SVC\n",
    "from sklearn.metrics import accuracy_score, confusion_matrix, classification_report\n",
    "\n",
    "\n",
    "X, y = load_wine(return_X_y=True)\n",
    "\n",
    "X_train, X_test, y_train, y_test = train_test_split(X, y, test_size=0.3, random_state=1)\n",
    "\n",
    "\n",
    "clf_linear = SVC(kernel='linear')\n",
    "clf_linear.fit(X_train, y_train)\n",
    "y_pred_linear = clf_linear.predict(X_test)\n",
    "\n",
    "print(\"---- Linear Kernal ----\")\n",
    "print(\"Accuracy Score: \", accuracy_score(y_test, y_pred_linear))\n",
    "print(\"Classification Report: \\n\", classification_report(y_test, y_pred_linear))\n",
    "print(\"Confusion Matrix: \\n\", confusion_matrix(y_test, y_pred_linear))\n",
    "\n",
    "clf_rbf = SVC(kernel='rbf')\n",
    "clf_rbf.fit(X_train, y_train)\n",
    "y_pred_rbf = clf_rbf.predict(X_test)\n",
    "\n",
    "print(\"---- RBF Kernal ----\")\n",
    "print(\"Accuracy Score: \", accuracy_score(y_test, y_pred_rbf))\n",
    "print(\"Classification Report: \\n\", classification_report(y_test, y_pred_rbf))\n",
    "print(\"Confusion Matrix: \\n\", confusion_matrix(y_test, y_pred_rbf))"
   ]
  },
  {
   "cell_type": "markdown",
   "id": "a42c2aa7",
   "metadata": {},
   "source": [
    "23. Write a Python program to train an SVM Regressor (SVR) on a housing dataset and evaluate it using Mean \n",
    "Squared Error (MSE)"
   ]
  },
  {
   "cell_type": "code",
   "execution_count": 7,
   "id": "3e7ede5d",
   "metadata": {},
   "outputs": [
    {
     "name": "stdout",
     "output_type": "stream",
     "text": [
      "Mean Squared Error (MSE): 0.33582235332769705\n"
     ]
    }
   ],
   "source": [
    "from sklearn.datasets import fetch_california_housing\n",
    "from sklearn.model_selection import train_test_split\n",
    "from sklearn.preprocessing import StandardScaler\n",
    "from sklearn.svm import SVR\n",
    "from sklearn.metrics import mean_squared_error\n",
    "\n",
    "data = fetch_california_housing()\n",
    "X, y = data.data, data.target\n",
    "\n",
    "X_train, X_test, y_train, y_test = train_test_split(X, y, test_size=0.2, random_state=1)\n",
    "\n",
    "scaler_X = StandardScaler()\n",
    "scaler_y = StandardScaler()\n",
    "\n",
    "X_train_scaled = scaler_X.fit_transform(X_train)\n",
    "X_test_scaled = scaler_X.transform(X_test)\n",
    "\n",
    "y_train_scaled = scaler_y.fit_transform(y_train.reshape(-1, 1)).ravel()\n",
    "\n",
    "svr = SVR(kernel='rbf', C=100, gamma=0.1, epsilon=0.1)\n",
    "svr.fit(X_train_scaled, y_train_scaled)\n",
    "\n",
    "y_pred_scaled = svr.predict(X_test_scaled)\n",
    "\n",
    "y_pred = scaler_y.inverse_transform(y_pred_scaled.reshape(-1, 1))\n",
    "\n",
    "mse = mean_squared_error(y_test, y_pred)\n",
    "print(\"Mean Squared Error (MSE):\", mse)"
   ]
  },
  {
   "cell_type": "markdown",
   "id": "b21440d9",
   "metadata": {},
   "source": [
    "24. Write a Python program to train an SVM Classifier with a Polynomial Kernel and visualize the decision \n",
    "boundary"
   ]
  },
  {
   "cell_type": "code",
   "execution_count": 8,
   "id": "dfaab88a",
   "metadata": {},
   "outputs": [
    {
     "data": {
      "image/png": "[encoded data removed]",
      "text/plain": [
       "<Figure size 640x480 with 1 Axes>"
      ]
     },
     "metadata": {},
     "output_type": "display_data"
    }
   ],
   "source": [
    "from sklearn.datasets import make_classification\n",
    "from sklearn.svm import SVC\n",
    "\n",
    "\n",
    "X, y = make_classification(n_features=2, n_redundant=0, n_informative=2,n_clusters_per_class=1, n_samples=200, random_state=1)\n",
    "\n",
    "svm_clf = SVC(kernel='poly', degree=3, C=1.0)\n",
    "svm_clf.fit(X, y)\n",
    "\n",
    "x_min, x_max = X[:, 0].min() - 1, X[:, 0].max() + 1\n",
    "y_min, y_max = X[:, 1].min() - 1, X[:, 1].max() + 1\n",
    "xx, yy = np.meshgrid(np.linspace(x_min, x_max, 500),\n",
    "                     np.linspace(y_min, y_max, 500))\n",
    "\n",
    "Z = svm_clf.predict(np.c_[xx.ravel(), yy.ravel()])\n",
    "Z = Z.reshape(xx.shape)\n",
    "\n",
    "plt.contourf(xx, yy, Z, alpha=0.3, cmap=plt.cm.coolwarm)\n",
    "plt.scatter(X[:, 0], X[:, 1], c=y, s=40, cmap=plt.cm.coolwarm, edgecolors=\"k\")\n",
    "plt.title(\"SVM with Polynomial Kernel (degree=3)\")\n",
    "plt.xlabel(\"Feature 1\")\n",
    "plt.ylabel(\"Feature 2\")\n",
    "plt.show()"
   ]
  },
  {
   "cell_type": "markdown",
   "id": "cbeecb18",
   "metadata": {},
   "source": [
    "25. Write a Python program to train a Gaussian Naïve Bayes classifier on the Breast Cancer dataset and \n",
    "evaluate accuracy"
   ]
  },
  {
   "cell_type": "code",
   "execution_count": 9,
   "id": "ca56a63c",
   "metadata": {},
   "outputs": [
    {
     "name": "stdout",
     "output_type": "stream",
     "text": [
      "Accuracy: 0.9473684210526315\n"
     ]
    }
   ],
   "source": [
    "from sklearn.datasets import load_breast_cancer\n",
    "from sklearn.model_selection import train_test_split\n",
    "from sklearn.naive_bayes import GaussianNB\n",
    "from sklearn.metrics import accuracy_score\n",
    "\n",
    "data = load_breast_cancer()\n",
    "X, y = data.data, data.target\n",
    "\n",
    "X_train, X_test, y_train, y_test = train_test_split(X, y, test_size=0.2, random_state=1)\n",
    "\n",
    "gnb = GaussianNB()\n",
    "\n",
    "gnb.fit(X_train, y_train)\n",
    "\n",
    "y_pred = gnb.predict(X_test)\n",
    "\n",
    "accuracy = accuracy_score(y_test, y_pred)\n",
    "print(\"Accuracy:\", accuracy)\n"
   ]
  },
  {
   "cell_type": "markdown",
   "id": "993b3f2f",
   "metadata": {},
   "source": [
    "26. Write a Python program to train a Multinomial Naïve Bayes classifier for text classification using the 20 \n",
    "Newsgroups dataset"
   ]
  },
  {
   "cell_type": "code",
   "execution_count": 10,
   "id": "f787634c",
   "metadata": {},
   "outputs": [
    {
     "name": "stdout",
     "output_type": "stream",
     "text": [
      "Accuracy: 0.8708222811671088\n",
      "\n",
      "Classification Report:\n",
      "                           precision    recall  f1-score   support\n",
      "\n",
      "             alt.atheism       0.89      0.93      0.91       145\n",
      "           comp.graphics       0.71      0.87      0.78       198\n",
      " comp.os.ms-windows.misc       0.96      0.25      0.39       190\n",
      "comp.sys.ibm.pc.hardware       0.64      0.84      0.73       184\n",
      "   comp.sys.mac.hardware       0.88      0.88      0.88       199\n",
      "          comp.windows.x       0.71      0.91      0.80       177\n",
      "            misc.forsale       0.91      0.76      0.83       211\n",
      "               rec.autos       0.90      0.92      0.91       194\n",
      "         rec.motorcycles       0.94      0.94      0.94       199\n",
      "      rec.sport.baseball       0.96      0.95      0.95       207\n",
      "        rec.sport.hockey       0.93      0.98      0.95       212\n",
      "               sci.crypt       0.90      0.96      0.93       188\n",
      "         sci.electronics       0.89      0.83      0.86       220\n",
      "                 sci.med       0.96      0.93      0.94       221\n",
      "               sci.space       0.91      0.96      0.93       217\n",
      "  soc.religion.christian       0.88      0.98      0.93       192\n",
      "      talk.politics.guns       0.88      0.95      0.92       169\n",
      "   talk.politics.mideast       0.94      0.98      0.96       192\n",
      "      talk.politics.misc       0.86      0.92      0.89       143\n",
      "      talk.religion.misc       0.95      0.56      0.71       112\n",
      "\n",
      "                accuracy                           0.87      3770\n",
      "               macro avg       0.88      0.86      0.86      3770\n",
      "            weighted avg       0.88      0.87      0.86      3770\n",
      "\n"
     ]
    }
   ],
   "source": [
    "from sklearn.datasets import fetch_20newsgroups\n",
    "from sklearn.feature_extraction.text import CountVectorizer\n",
    "from sklearn.naive_bayes import MultinomialNB\n",
    "from sklearn.metrics import accuracy_score, classification_report\n",
    "from sklearn.model_selection import train_test_split\n",
    "\n",
    "newsgroups = fetch_20newsgroups(subset='all', shuffle=True, random_state=1)\n",
    "\n",
    "X_train, X_test, y_train, y_test = train_test_split(newsgroups.data, newsgroups.target, test_size=0.2, random_state=1)\n",
    "\n",
    "vectorizer = CountVectorizer(stop_words='english')\n",
    "X_train_counts = vectorizer.fit_transform(X_train)\n",
    "X_test_counts = vectorizer.transform(X_test)\n",
    "\n",
    "clf = MultinomialNB()\n",
    "clf.fit(X_train_counts, y_train)\n",
    "\n",
    "y_pred = clf.predict(X_test_counts)\n",
    "\n",
    "accuracy = accuracy_score(y_test, y_pred)\n",
    "print(\"Accuracy:\", accuracy)\n",
    "print(\"\\nClassification Report:\\n\", classification_report(y_test, y_pred, target_names=newsgroups.target_names))\n"
   ]
  }
 ],
 "metadata": {
  "kernelspec": {
   "display_name": "Python 3",
   "language": "python",
   "name": "python3"
  },
  "language_info": {
   "codemirror_mode": {
    "name": "ipython",
    "version": 3
   },
   "file_extension": ".py",
   "mimetype": "text/x-python",
   "name": "python",
   "nbconvert_exporter": "python",
   "pygments_lexer": "ipython3",
   "version": "3.13.5"
  }
 },
 "nbformat": 4,
 "nbformat_minor": 5
}
