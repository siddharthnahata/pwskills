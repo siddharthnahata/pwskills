{
 "cells": [
  {
   "cell_type": "markdown",
   "id": "83f43344-ed79-4f76-93dc-adc5e3f11e18",
   "metadata": {},
   "source": [
    "<h1>Basic Question</h1>"
   ]
  },
  {
   "cell_type": "markdown",
   "id": "a84cd54d-734f-43d9-9eed-fd9fba04e161",
   "metadata": {},
   "source": [
    "1. What is the difference between interpreted and compiled languages"
   ]
  },
  {
   "cell_type": "markdown",
   "id": "e5019925-3439-428f-ac37-63f81b692891",
   "metadata": {},
   "source": [
    "Ans- Compiled language is an low level language which is faster in processing and also it is excuted in one, It shows the errors at the end of the process. Whereas Interpreted language are slower compared to compiled language also it excutes the code line by line where finding error with run only. In simple compiled languages are more advance and low level in nature also faster Eg. Java, C++ and etc on other side interpreted language are more readable and bit slower Eg. Python, JavaScript"
   ]
  },
  {
   "cell_type": "markdown",
   "id": "b2d7f0ed-e67f-427d-9b11-17de30483e57",
   "metadata": {},
   "source": [
    "2. What is exception handling in Python"
   ]
  },
  {
   "cell_type": "markdown",
   "id": "dda13ae8-0ba3-43e2-9465-510222423c39",
   "metadata": {},
   "source": [
    "Ans- In python exception handling is where we by pass some of python error and excute code till end and logging some message."
   ]
  },
  {
   "cell_type": "code",
   "execution_count": 1,
   "id": "7d4a88f1-0c3b-4603-9661-2a75539e7520",
   "metadata": {},
   "outputs": [
    {
     "ename": "ZeroDivisionError",
     "evalue": "division by zero",
     "output_type": "error",
     "traceback": [
      "\u001b[31m---------------------------------------------------------------------------\u001b[39m",
      "\u001b[31mZeroDivisionError\u001b[39m                         Traceback (most recent call last)",
      "\u001b[36mCell\u001b[39m\u001b[36m \u001b[39m\u001b[32mIn[1]\u001b[39m\u001b[32m, line 1\u001b[39m\n\u001b[32m----> \u001b[39m\u001b[32m1\u001b[39m \u001b[38;5;28mprint\u001b[39m(\u001b[32;43m5\u001b[39;49m\u001b[43m/\u001b[49m\u001b[32;43m0\u001b[39;49m)\n",
      "\u001b[31mZeroDivisionError\u001b[39m: division by zero"
     ]
    }
   ],
   "source": [
    "print(5/0)"
   ]
  },
  {
   "cell_type": "code",
   "execution_count": 6,
   "id": "6cdd6111-8d30-4888-b9f2-f92283a05926",
   "metadata": {},
   "outputs": [
    {
     "name": "stdout",
     "output_type": "stream",
     "text": [
      "Fix division by zero\n",
      "Run Complete\n"
     ]
    }
   ],
   "source": [
    "try:\n",
    "    print(5/0)\n",
    "except Exception as e:\n",
    "    print(f\"Fix {e}\")\n",
    "print(\"Run Complete\")"
   ]
  },
  {
   "cell_type": "markdown",
   "id": "83c3d03f-6939-415b-86da-25a770f2ce61",
   "metadata": {},
   "source": [
    "3. What is the purpose of the finally block in exception handling"
   ]
  },
  {
   "cell_type": "markdown",
   "id": "20e83a24-388a-4878-835c-986212ca0fa7",
   "metadata": {},
   "source": [
    "Ans- In python finally block in exception handling which has code which will run always "
   ]
  },
  {
   "cell_type": "code",
   "execution_count": 7,
   "id": "504be975-f6ed-4587-bfd6-eb55d4b13a4f",
   "metadata": {},
   "outputs": [
    {
     "name": "stdout",
     "output_type": "stream",
     "text": [
      "Fix division by zero\n",
      "Run Complete\n"
     ]
    }
   ],
   "source": [
    "try:\n",
    "    print(5/0)\n",
    "except Exception as e:\n",
    "    print(f\"Fix {e}\")\n",
    "finally:\n",
    "    print(\"Run Complete\")"
   ]
  },
  {
   "cell_type": "markdown",
   "id": "f016b6dc-5b48-43be-b1cc-b4c5f7efcdfe",
   "metadata": {},
   "source": [
    "4. What is logging in Python"
   ]
  },
  {
   "cell_type": "markdown",
   "id": "ebfec3d6-d87f-41c8-9e90-98c516adc57f",
   "metadata": {},
   "source": [
    "Ans- In python while running a program if we want the process completion and steps completion messages and information regarding how the code is been we use logging\n"
   ]
  },
  {
   "cell_type": "markdown",
   "id": "3f07fbd7-8b1d-4fb7-b69d-8e1a3a57b24d",
   "metadata": {},
   "source": [
    "5. What is the significance of the __del__ method in Python"
   ]
  },
  {
   "cell_type": "markdown",
   "id": "88b1d9f4-af87-4fea-a1ff-9179e6653735",
   "metadata": {},
   "source": [
    "Ans- The __del__ method is a destructor. It's called automatically when an object is about to be destroyed (garbage collected)."
   ]
  },
  {
   "cell_type": "markdown",
   "id": "5d14c43e-4dbc-47d0-b3ad-d5ef714b3fc7",
   "metadata": {},
   "source": [
    "6. What is the difference between import and from ... import in Python"
   ]
  },
  {
   "cell_type": "markdown",
   "id": "d336874f-00a8-4ee1-893d-fcc99d5e6966",
   "metadata": {},
   "source": [
    "Ans- In python import means where import whole module and scripts for the following module whereas from ... import xyz is like importing a particular script of the module not importing full."
   ]
  },
  {
   "cell_type": "markdown",
   "id": "b21961c3-c763-418f-acc8-95d428b03bae",
   "metadata": {},
   "source": [
    "7. How can you handle multiple exceptions in Python"
   ]
  },
  {
   "cell_type": "markdown",
   "id": "67f7d70c-a9d1-4ebf-87bb-0507749c197f",
   "metadata": {},
   "source": [
    "Ans- Multiple expection handling simple means handling multiple exception which in the code using different approches and make it better."
   ]
  },
  {
   "cell_type": "code",
   "execution_count": 8,
   "id": "51cd6eb0-a46c-4dfb-a3ec-1ea73dc1361a",
   "metadata": {},
   "outputs": [
    {
     "name": "stdout",
     "output_type": "stream",
     "text": [
      "ValueError occurred\n"
     ]
    }
   ],
   "source": [
    "#1. Using multiple except blocks\n",
    "try:\n",
    "    x = int(\"abc\")\n",
    "except ValueError:\n",
    "    print(\"ValueError occurred\")\n",
    "except ZeroDivisionError:\n",
    "    print(\"ZeroDivisionError occurred\")"
   ]
  },
  {
   "cell_type": "code",
   "execution_count": 10,
   "id": "e5480e3f-578d-49ce-acec-46e441af4108",
   "metadata": {},
   "outputs": [
    {
     "name": "stdout",
     "output_type": "stream",
     "text": [
      "Error: invalid literal for int() with base 10: 'abc'\n"
     ]
    }
   ],
   "source": [
    "#2. Using tuple in single except block\n",
    "try:\n",
    "    x = int(\"abc\")\n",
    "except (ValueError, ZeroDivisionError) as e:\n",
    "    print(f\"Error: {e}\")\n",
    "#here we difine multiple or possible exception in a tuple"
   ]
  },
  {
   "cell_type": "code",
   "execution_count": 11,
   "id": "2e7d2c52-52e2-4032-a5c4-e27f04d6aad4",
   "metadata": {},
   "outputs": [
    {
     "name": "stdout",
     "output_type": "stream",
     "text": [
      "Unknown error: name 'risky_code' is not defined\n"
     ]
    }
   ],
   "source": [
    "#3. Geting every execption\n",
    "try:\n",
    "    risky_code()\n",
    "except Exception as e:\n",
    "    print(f\"Unknown error: {e}\")"
   ]
  },
  {
   "cell_type": "markdown",
   "id": "0d59b515-57b0-4c0e-944c-77850d5b384e",
   "metadata": {},
   "source": [
    "8. What is the purpose of the with statement when handling files in Python"
   ]
  },
  {
   "cell_type": "markdown",
   "id": "21d7ce66-8789-4503-b278-d38369c85088",
   "metadata": {},
   "source": [
    "Ans- The with statement is used to automatically manage resources, like files. When used with file handling, it ensures the file is properly closed, even if an error occurs."
   ]
  },
  {
   "cell_type": "markdown",
   "id": "13ec964f-339e-4722-9c6f-66bba42dc9e7",
   "metadata": {},
   "source": [
    "9. What is the difference between multithreading and multiprocessing"
   ]
  },
  {
   "cell_type": "markdown",
   "id": "17042531-81ad-4668-bdd7-9229867f996a",
   "metadata": {},
   "source": [
    "Ans- Multithreading and multiprocessing are two ways to run tasks simultaneously in Python. Multithreading uses multiple threads within a single process. It's best for I/O-bound tasks like reading files or network calls but is limited by the Global Interpreter Lock (GIL), which prevents true parallel execution of threads.\n",
    "\n",
    "Multiprocessing, however, runs each task in a separate process with its own memory. It avoids the GIL and is ideal for CPU-bound tasks like heavy calculations. It allows full use of multiple CPU cores for better performance."
   ]
  },
  {
   "cell_type": "markdown",
   "id": "bdcb9a6b-ac7f-489b-a726-16ed39df2bdb",
   "metadata": {},
   "source": [
    "10. What are the advantages of using logging in a program"
   ]
  },
  {
   "cell_type": "markdown",
   "id": "6d19a090-8d2a-4575-807a-4af84a05591d",
   "metadata": {},
   "source": [
    "Ans- Some of the adavantage of logging are-\n",
    "1. It makes debugging eassy\n",
    "2. tracks the execution\n",
    "3. make production ready code"
   ]
  },
  {
   "cell_type": "markdown",
   "id": "4eac42de-e959-4a24-b491-979a254d4d61",
   "metadata": {},
   "source": [
    "11. What is memory management in Python"
   ]
  },
  {
   "cell_type": "markdown",
   "id": "7236283f-d752-4258-b34e-c3efa89525e9",
   "metadata": {},
   "source": [
    "Ans- Memory management in Python is the process by which Python allocates and deallocates memory during the execution of a program."
   ]
  },
  {
   "cell_type": "markdown",
   "id": "ed1da31b-b25b-4cc1-b5c2-a6fde15cffa9",
   "metadata": {},
   "source": [
    "12. What are the basic steps involved in exception handling in Python"
   ]
  },
  {
   "cell_type": "code",
   "execution_count": 25,
   "id": "fd6f948e-a29f-4869-abf0-cf35727f8e50",
   "metadata": {},
   "outputs": [
    {
     "name": "stdin",
     "output_type": "stream",
     "text": [
      "Please Enter the amount:  17500000\n"
     ]
    },
    {
     "name": "stdout",
     "output_type": "stream",
     "text": [
      "Your tax amount is: 5250000.0\n",
      "Run completed\n"
     ]
    }
   ],
   "source": [
    "try: #first we set up try block where we have assumption that it might get some error\n",
    "    amount = int(input(\"Please Enter the amount: \"))\n",
    "except ValueError: #second we say that any error which can occur\n",
    "    print(f\"Please enter a vaild input: {ValueError}\")\n",
    "else: #third if there is no error we going to run this\n",
    "    tax = amount * 0.30\n",
    "    print(f\"Your tax amount is: {tax}\")\n",
    "finally: #lastly ethier way this going to be excuted\n",
    "    print(\"Run completed\")"
   ]
  },
  {
   "cell_type": "markdown",
   "id": "5c360735-599f-472d-991f-cdccbec86b41",
   "metadata": {},
   "source": [
    "13. Why is memory management important in Python"
   ]
  },
  {
   "cell_type": "markdown",
   "id": "04feed91-1a89-4711-b961-bf6dce04e557",
   "metadata": {},
   "source": [
    "Ans- Memory management in Python is automatic, but it's still crucial for making your programs efficient, fast, and reliable."
   ]
  },
  {
   "cell_type": "markdown",
   "id": "5559695a-c6ea-4d7d-a237-47b65a85b263",
   "metadata": {},
   "source": [
    "14. What is the role of try and except in exception handling"
   ]
  },
  {
   "cell_type": "markdown",
   "id": "507b1464-8ccf-4383-b4f8-c9525abe981e",
   "metadata": {},
   "source": [
    "<h1 style = \"font-size:15px\" >Exception Handling </h1>\n",
    "As we know that exception handling in python stops the error to intrupt code and stop right there but exception hadling by pass the error and runs the full code.\n",
    "<h2 style = \"font-size:15px\">Try in Exception handling</h2>\n",
    "We know that exception handling handles the error so try is syntax where in we place a block of code inside it where we find that error may occur.\n",
    "<h3 style = \"font-size:15px\">Try in Exception handling</h3>\n",
    "After placing try block which checks for the error in the code after the process if any error found in the code goes it except block where we handle it by modifying it or by simply outputting the error"
   ]
  },
  {
   "cell_type": "markdown",
   "id": "f95faf0d-8522-4688-9c98-a214c653a26a",
   "metadata": {},
   "source": [
    "15. How does Python's garbage collection system work"
   ]
  },
  {
   "cell_type": "markdown",
   "id": "7469465c-1119-48f5-81a0-f136ba5458d8",
   "metadata": {},
   "source": [
    "Ans- Python’s garbage collection manages memory automatically. It uses reference counting, where each object tracks how many variables point to it. When the count drops to zero, the object is deleted.\n",
    "\n",
    "To handle circular references, Python also has a cyclic garbage collector. This finds and removes objects that refer to each other but are no longer in use.\n",
    "\n",
    "Python improves performance with generational collection, where older objects are checked less often."
   ]
  },
  {
   "cell_type": "markdown",
   "id": "d3509a23-35bf-4268-b4de-eb2a54ec595b",
   "metadata": {},
   "source": [
    "16. What is the purpose of the else block in exception handling"
   ]
  },
  {
   "cell_type": "markdown",
   "id": "0b8d6c34-33cb-4986-851c-2785a3a65909",
   "metadata": {},
   "source": [
    "Ans- The else block in Python exception handling is used to run code only if no exception occurs in the try block. It helps separate normal logic from error-handling code, making the program cleaner and easier to read. By using else, you ensure that certain code runs only when everything goes right, improving clarity and control in your programs."
   ]
  },
  {
   "cell_type": "markdown",
   "id": "3b50d732-73e1-49a8-ab48-8078e5c4d2c0",
   "metadata": {},
   "source": [
    "17. What are the common logging levels in Python"
   ]
  },
  {
   "cell_type": "markdown",
   "id": "91a314e5-8c73-4f59-90af-e84210350c97",
   "metadata": {},
   "source": [
    "Ans- Python’s logging module provides different levels to categorize log messages by severity. These levels help developers filter and manage logs efficiently. The standard levels, from least to most severe, are:\n",
    "\n",
    "DEBUG – Detailed diagnostic messages (for troubleshooting).\n",
    "\n",
    "INFO – General confirmation that things are working.\n",
    "\n",
    "WARNING – Indicates a potential issue (e.g., low disk space).\n",
    "\n",
    "ERROR – A serious problem that caused a function to fail.\n",
    "\n",
    "CRITICAL – A fatal error that may stop the program.\n",
    "\n",
    "By default, Python logs WARNING and above. You can adjust this to see more (e.g., DEBUG) or fewer logs."
   ]
  },
  {
   "cell_type": "markdown",
   "id": "c7847ff6-4fd9-4a45-9b17-26022f9258bd",
   "metadata": {},
   "source": [
    "18. What is the difference between os.fork() and multiprocessing in Python"
   ]
  },
  {
   "cell_type": "markdown",
   "id": "1cd245bd-7f88-401f-97da-877c6efbc70f",
   "metadata": {},
   "source": [
    "Ans- In Python, both os.fork() and the multiprocessing module are used to create new processes, but they differ greatly in usage and portability.\n",
    "\n",
    "os.fork() is a low-level function available only on Unix-like systems. It creates a child process by duplicating the current one. While powerful, it requires manual control and can be error-prone.\n",
    "\n",
    "On the other hand, the multiprocessing module is a high-level, cross-platform solution. It allows you to create and manage processes easily using classes like Process, and provides tools like Queue and Pipe for communication between processes."
   ]
  },
  {
   "cell_type": "markdown",
   "id": "4855b989-1140-4ef4-82a8-1f0bf36c21de",
   "metadata": {},
   "source": [
    "19. What is the importance of closing a file in Python"
   ]
  },
  {
   "cell_type": "markdown",
   "id": "34f8e147-87e3-4d2a-a687-fb59b1c08caf",
   "metadata": {},
   "source": [
    "Ans- Closing files in Python is an essential practice that helps maintain data integrity, prevent resource leaks, and ensure the reliability of your applications. By mastering file handling techniques, you can write more robust and efficient Python code that effectively manages file resources."
   ]
  },
  {
   "cell_type": "markdown",
   "id": "7cf53c22-359b-49fc-9046-a7f40dea780c",
   "metadata": {},
   "source": [
    "20. What is the difference between file.read() and file.readline() in Python"
   ]
  },
  {
   "cell_type": "markdown",
   "id": "fa412780-bff8-40ce-9b90-8c8252a4d22f",
   "metadata": {},
   "source": [
    "Ans- In Python, you'll often use file.read() or file.readline() to get content from files. They serve the same goal but in different ways.\n",
    "\n",
    "file.read() acts like it's taking a deep breath and pulling the entire file into memory as one long string. It's best for smaller files where you need all the content at once, or when you just want a specific number of characters.\n",
    "\n",
    "In contrast, file.readline() is more like sipping through a straw. Each time you call it, you get just one line of text. This makes it ideal for larger files to save memory, or when you're processing data that's naturally organized line by line, like a log file.\n",
    "\n",
    "So, choose file.read() for a quick, whole-file grab, and file.readline() for a more controlled, line-by-line approach, especially with bigger files."
   ]
  },
  {
   "cell_type": "markdown",
   "id": "bf3a9759-546d-4319-b005-ffac423d6894",
   "metadata": {},
   "source": [
    "21. What is the logging module in Python used for"
   ]
  },
  {
   "cell_type": "markdown",
   "id": "ee265b90-d888-400e-be35-7f8e5a4d1f83",
   "metadata": {},
   "source": [
    "Ans- The logging module in Python is used for tracking events that occur while software runs. It allows developers to record diagnostic messages, warnings, errors, and general information about program execution to various destinations like the console or files. This is crucial for debugging, monitoring application behavior, and understanding issues without relying solely on print statements."
   ]
  },
  {
   "cell_type": "markdown",
   "id": "bfc940c3-de52-4895-bf0d-166e04f44f3b",
   "metadata": {},
   "source": [
    "22. What is the os module in Python used for in file handling"
   ]
  },
  {
   "cell_type": "markdown",
   "id": "f75476aa-e9f9-4641-ae3e-9ad76c8b505f",
   "metadata": {},
   "source": [
    "Ans- The os module in Python is used for interacting with the operating system, playing a vital role in file handling. It provides functions to perform common file system operations, such as creating, deleting, renaming, and moving files and directories, checking file existence, retrieving file sizes, and listing directory contents. It acts as an interface between your Python code and the underlying file system."
   ]
  },
  {
   "cell_type": "markdown",
   "id": "dd9e9517-21f4-48b2-85e6-7f36a5977ec5",
   "metadata": {},
   "source": [
    "23. What are the challenges associated with memory management in Python"
   ]
  },
  {
   "cell_type": "markdown",
   "id": "9bfe95fb-cc4c-4b59-810b-4249901d7636",
   "metadata": {},
   "source": [
    "Ans- While Python handles memory automatically through its garbage collector, challenges in memory management can still arise. These include potentially high memory consumption for large data structures, subtle memory leaks due to circular references (though modern garbage collectors mitigate this), and inefficient use of memory-intensive operations. Developers must be mindful of how their data structures and algorithms impact memory usage to optimize performance, especially in long-running or resource-intensive applications."
   ]
  },
  {
   "cell_type": "markdown",
   "id": "480a9ff0-0822-464b-9bdd-47b088958213",
   "metadata": {},
   "source": [
    "24. How do you raise an exception manually in Python"
   ]
  },
  {
   "cell_type": "markdown",
   "id": "b6b811c5-f1f5-4a7c-90bc-3746679595ce",
   "metadata": {},
   "source": [
    "Ans- You raise an exception manually in Python using the raise keyword. This keyword is followed by an instance of an exception class, such as ValueError, TypeError, or a custom exception, often accompanied by an informative message. For example: raise ValueError(\"Invalid input provided.\"). Manually raising exceptions allows you to signal specific error conditions or unexpected scenarios in your code, ensuring proper error handling and program flow."
   ]
  },
  {
   "cell_type": "markdown",
   "id": "37e29bcb-541d-47ad-af18-899dcac1f7ac",
   "metadata": {},
   "source": [
    "25. Why is it important to use multithreading in certain applications"
   ]
  },
  {
   "cell_type": "markdown",
   "id": "52bcb637-685a-4aa3-8731-fa94832cde24",
   "metadata": {},
   "source": [
    "Ans- Multithreading is important in certain applications to improve responsiveness and efficiency, particularly in scenarios involving I/O-bound operations (like network requests, file reading/writing, or database queries). By allowing multiple parts of a program (threads) to run concurrently within the same process, multithreading prevents the application from \"freezing\" while waiting for slow operations to complete. This enhances user experience and can make better use of system resources by performing other tasks during wait times."
   ]
  },
  {
   "cell_type": "markdown",
   "id": "4c9949ed-e5dc-49ea-9317-424a4efc4dd5",
   "metadata": {},
   "source": [
    "<h1>Practical Question</h1>"
   ]
  },
  {
   "cell_type": "markdown",
   "id": "d6cf4868-ac2f-4f0e-8dc0-f600d924e0f7",
   "metadata": {},
   "source": [
    "1. How can you open a file for writing in Python and write a string to it"
   ]
  },
  {
   "cell_type": "code",
   "execution_count": 76,
   "id": "121eed1a-45c3-4098-a798-2d757fe85605",
   "metadata": {},
   "outputs": [],
   "source": [
    "file = open(\"Sample.txt\", \"w\")\n",
    "\n",
    "file.write(\"Hello how are you\\n\")\n",
    "file.write(\"This is Siddharth Nahata\\n\")\n",
    "\n",
    "file.close()"
   ]
  },
  {
   "cell_type": "markdown",
   "id": "e126196c-8ecc-4c4a-8e1c-8362cdd4004b",
   "metadata": {},
   "source": [
    "2. Write a Python program to read the contents of a file and print each line"
   ]
  },
  {
   "cell_type": "code",
   "execution_count": 77,
   "id": "e2fc1543-56a3-4a1a-8adc-e4bbc5ece0ed",
   "metadata": {},
   "outputs": [
    {
     "name": "stdout",
     "output_type": "stream",
     "text": [
      "Hello how are you\n",
      "This is Siddharth Nahata\n"
     ]
    }
   ],
   "source": [
    "with open('sample.txt', 'r') as file:\n",
    "    for line in file:\n",
    "        print(line.strip())"
   ]
  },
  {
   "cell_type": "markdown",
   "id": "e73a95aa-56ec-404f-9b1d-2df75cba78ef",
   "metadata": {},
   "source": [
    "3. How would you handle a case where the file doesn't exist while trying to open it for reading"
   ]
  },
  {
   "cell_type": "code",
   "execution_count": 78,
   "id": "d0880b44-0f77-47d1-be7d-c5b20820ca52",
   "metadata": {},
   "outputs": [
    {
     "name": "stdout",
     "output_type": "stream",
     "text": [
      "File not found\n"
     ]
    }
   ],
   "source": [
    "try:\n",
    "    with open('sample1.txt', 'r') as file:\n",
    "        for line in file:\n",
    "            print(line.strip())\n",
    "except FileNotFoundError:\n",
    "    print(\"File not found\")\n",
    "    "
   ]
  },
  {
   "cell_type": "markdown",
   "id": "5ca759c9-9f1f-4f9a-8bf3-cdb844542767",
   "metadata": {},
   "source": [
    "4. Write a Python script that reads from one file and writes its content to another file"
   ]
  },
  {
   "cell_type": "code",
   "execution_count": 79,
   "id": "86b7dea1-98d4-460d-ae4d-ad129910e4eb",
   "metadata": {},
   "outputs": [],
   "source": [
    "text = []\n",
    "\n",
    "with open(\"sample.txt\", \"r\") as file:\n",
    "    text = file.readlines()\n",
    "\n",
    "with open(\"sampleTransfer.txt\",  \"w\") as file:\n",
    "    for i in range(len(text)):\n",
    "        file.write(text[i])"
   ]
  },
  {
   "cell_type": "markdown",
   "id": "aeec04bd-531b-482e-878b-29d5737fb23f",
   "metadata": {},
   "source": [
    "5. How would you catch and handle division by zero error in Python"
   ]
  },
  {
   "cell_type": "code",
   "execution_count": 80,
   "id": "42f77b7c-e282-4023-a536-25e40b073871",
   "metadata": {},
   "outputs": [
    {
     "name": "stdout",
     "output_type": "stream",
     "text": [
      "Error: division by zero\n"
     ]
    }
   ],
   "source": [
    "try:\n",
    "    5/0\n",
    "except ZeroDivisionError as e:\n",
    "    print(f\"Error: {e}\")"
   ]
  },
  {
   "cell_type": "markdown",
   "id": "28f161ac-8a11-4923-ab96-1d72ab5c8fe4",
   "metadata": {},
   "source": [
    "6. Write a Python program that logs an error message to a log file when a division by zero exception occurs"
   ]
  },
  {
   "cell_type": "code",
   "execution_count": 81,
   "id": "7e6a6705-ff3c-4737-be7c-7adffcc6cf66",
   "metadata": {},
   "outputs": [],
   "source": [
    "import logging\n",
    "\n",
    "for handler in logging.root.handlers[:]:\n",
    "    logging.root.removeHandler(handler)\n",
    "\n",
    "logging.basicConfig(\n",
    "    filename='test.log',\n",
    "    level=logging.INFO,\n",
    "    format='%(asctime)s %(message)s',\n",
    "    datefmt='%Y-%m-%d %H:%M:%S'\n",
    ")\n",
    "\n",
    "try:\n",
    "    5 / 0\n",
    "except ZeroDivisionError:\n",
    "    logging.error(\"Division by Zero\")\n"
   ]
  },
  {
   "cell_type": "markdown",
   "id": "03306a4d-d547-46e1-93b2-641d64f76307",
   "metadata": {},
   "source": [
    "7. How do you log information at different levels (INFO, ERROR, WARNING) in Python using the logging module"
   ]
  },
  {
   "cell_type": "code",
   "execution_count": 82,
   "id": "31229040-5d71-4340-a316-3cc6918e141b",
   "metadata": {},
   "outputs": [],
   "source": [
    "import logging\n",
    "\n",
    "logging.basicConfig(\n",
    "    filename=\"logger.log\",\n",
    "    level=logging.DEBUG,\n",
    "    format='%(asctime)s - %(levelname)s - %(message)s'\n",
    ")\n",
    "\n",
    "\n",
    "logging.debug(\"This is a debug message.\")\n",
    "logging.info(\"This is an info message.\")\n",
    "logging.warning(\"This is a warning message.\")\n",
    "logging.error(\"This is an error message.\")\n",
    "logging.critical(\"This is a critical message.\")\n"
   ]
  },
  {
   "cell_type": "markdown",
   "id": "6d8b385e-607c-4900-b0fd-fdc1e55cde5b",
   "metadata": {},
   "source": [
    "8. Write a program to handle a file opening error using exception handling"
   ]
  },
  {
   "cell_type": "code",
   "execution_count": 83,
   "id": "084abfc4-bbdf-4c6a-b0ad-b6e7e712704a",
   "metadata": {},
   "outputs": [
    {
     "name": "stdout",
     "output_type": "stream",
     "text": [
      "File not found\n"
     ]
    }
   ],
   "source": [
    "try:\n",
    "    with open(\"sidh.txt\", \"r\") as file:\n",
    "        file.read()\n",
    "except FileNotFoundError:\n",
    "    print(\"File not found\")"
   ]
  },
  {
   "cell_type": "markdown",
   "id": "beb48813-19d6-455c-801b-99bbbb716885",
   "metadata": {},
   "source": [
    "9. How can you read a file line by line and store its content in a list in Python"
   ]
  },
  {
   "cell_type": "code",
   "execution_count": 84,
   "id": "afcd92e6-3292-4528-8b2c-f828b291f7a5",
   "metadata": {},
   "outputs": [
    {
     "name": "stdout",
     "output_type": "stream",
     "text": [
      "['Hello how are you\\n', 'This is Siddharth Nahata\\n']\n"
     ]
    }
   ],
   "source": [
    "with open(\"sample.txt\", \"r\") as file:\n",
    "    text = file.readlines()\n",
    "    print(text)"
   ]
  },
  {
   "cell_type": "markdown",
   "id": "c0505996-e07c-46c3-9861-f134040bbfbf",
   "metadata": {},
   "source": [
    "10. How can you append data to an existing file in Python"
   ]
  },
  {
   "cell_type": "code",
   "execution_count": 85,
   "id": "ead5060c-d5b9-43f1-bc03-7ee874a7c9d4",
   "metadata": {},
   "outputs": [],
   "source": [
    "with open (\"sample.txt\", \"a\") as file:\n",
    "    file.write(\"Hey!!\")"
   ]
  },
  {
   "cell_type": "markdown",
   "id": "f6bef75d-a9cb-4b7c-a8be-67c13d5adc00",
   "metadata": {},
   "source": [
    "11. Write a Python program that uses a try-except block to handle an error when attempting to access a\n",
    "dictionary key that doesn't exist"
   ]
  },
  {
   "cell_type": "code",
   "execution_count": 88,
   "id": "5ada25cf-788c-4c49-8895-f6d382feb32c",
   "metadata": {},
   "outputs": [
    {
     "name": "stdout",
     "output_type": "stream",
     "text": [
      "Key not found\n"
     ]
    }
   ],
   "source": [
    "dict = {\"name\": \"Siddharth Nahata\", \"age\": 18}\n",
    "\n",
    "try:\n",
    "    print(dict[\"origin\"])\n",
    "except KeyError:\n",
    "    print(\"Key not found\")"
   ]
  },
  {
   "cell_type": "markdown",
   "id": "a6c8cc01-4c52-4bf4-b992-a59ee0e0623b",
   "metadata": {},
   "source": [
    "12. Write a program that demonstrates using multiple except blocks to handle different types of exceptions"
   ]
  },
  {
   "cell_type": "code",
   "execution_count": 89,
   "id": "f963757b-88bc-4f5b-b659-e1e5df95fc7e",
   "metadata": {},
   "outputs": [
    {
     "name": "stdin",
     "output_type": "stream",
     "text": [
      "Enter a number:  5\n",
      "Enter another number:  0\n"
     ]
    },
    {
     "name": "stdout",
     "output_type": "stream",
     "text": [
      "Error! Cannot divide by zero.\n"
     ]
    }
   ],
   "source": [
    "try:\n",
    "    a = int(input(\"Enter a number: \"))\n",
    "    b = int(input(\"Enter another number: \"))\n",
    "    result = a / b\n",
    "    print(\"Result:\", result)\n",
    "except ValueError:\n",
    "    print(\"Invalid input! Please enter integers only.\")\n",
    "except ZeroDivisionError:\n",
    "    print(\"Error! Cannot divide by zero.\")\n",
    "except Exception as e:\n",
    "    print(f\"An unexpected error occurred: {e}\")\n"
   ]
  },
  {
   "cell_type": "markdown",
   "id": "f7185439-feee-498d-a062-cbd0f290a8c9",
   "metadata": {},
   "source": [
    "13. How would you check if a file exists before attempting to read it in Python"
   ]
  },
  {
   "cell_type": "code",
   "execution_count": 91,
   "id": "de81d0c2-e5eb-430a-a41b-90fb5d1fac72",
   "metadata": {},
   "outputs": [
    {
     "name": "stdout",
     "output_type": "stream",
     "text": [
      "File does not exist.\n"
     ]
    }
   ],
   "source": [
    "from pathlib import Path\n",
    "\n",
    "file = Path(\"myfile.txt\")\n",
    "if file.exists():\n",
    "    with file.open(\"r\") as f:\n",
    "        content = f.read()\n",
    "        print(content)\n",
    "else:\n",
    "    print(\"File does not exist.\")\n"
   ]
  },
  {
   "cell_type": "markdown",
   "id": "411c27ce-31c7-40dd-96e1-a5b7d1d69401",
   "metadata": {},
   "source": [
    "14. Write a program that uses the logging module to log both informational and error messages"
   ]
  },
  {
   "cell_type": "code",
   "execution_count": 92,
   "id": "605561ab-5f89-4c6c-99fa-efe509fc0a6f",
   "metadata": {},
   "outputs": [
    {
     "name": "stdin",
     "output_type": "stream",
     "text": [
      "Enter a number:  1\n",
      "Enter another number:  4\n"
     ]
    }
   ],
   "source": [
    "import logging\n",
    "\n",
    "logging.basicConfig(\n",
    "    filename='app_log.txt',\n",
    "    level=logging.DEBUG,\n",
    "    format='%(asctime)s - %(levelname)s - %(message)s',\n",
    "    datefmt='%Y-%m-%d %H:%M:%S'\n",
    ")\n",
    "\n",
    "logging.info(\"Program started.\")\n",
    "\n",
    "try:\n",
    "    num1 = int(input(\"Enter a number: \"))\n",
    "    num2 = int(input(\"Enter another number: \"))\n",
    "    result = num1 / num2\n",
    "    logging.info(f\"Division result: {result}\")\n",
    "except ZeroDivisionError as e:\n",
    "    logging.error(\"Attempted to divide by zero.\")\n",
    "except ValueError as e:\n",
    "    logging.error(\"Invalid input. Expected a number.\")\n",
    "except Exception as e:\n",
    "    logging.error(f\"An unexpected error occurred: {e}\")\n",
    "\n",
    "logging.info(\"Program ended.\")\n"
   ]
  },
  {
   "cell_type": "markdown",
   "id": "93aaaea7-b6b5-4ce7-8884-54ade9e1ede3",
   "metadata": {},
   "source": [
    "15. Write a Python program that prints the content of a file and handles the case when the file is empty"
   ]
  },
  {
   "cell_type": "code",
   "execution_count": 93,
   "id": "4059f8f2-aafc-4480-b236-145d95cbe7e9",
   "metadata": {},
   "outputs": [
    {
     "name": "stdout",
     "output_type": "stream",
     "text": [
      "File content:\n",
      "\n",
      "Hello how are you\n",
      "This is Siddharth Nahata\n",
      "Hey!!\n"
     ]
    }
   ],
   "source": [
    "def read_file(filename):\n",
    "    try:\n",
    "        with open(filename, 'r') as file:\n",
    "            content = file.read()\n",
    "            if content.strip() == \"\":\n",
    "                print(\"The file is empty.\")\n",
    "            else:\n",
    "                print(\"File content:\\n\")\n",
    "                print(content)\n",
    "    except FileNotFoundError:\n",
    "        print(\"File not found.\")\n",
    "\n",
    "read_file(\"sample.txt\")\n"
   ]
  },
  {
   "cell_type": "markdown",
   "id": "2ad68fb2-d777-49ee-98ee-8e4ccb4f6f35",
   "metadata": {},
   "source": [
    "16. Demonstrate how to use memory profiling to check the memory usage of a small program"
   ]
  },
  {
   "cell_type": "code",
   "execution_count": 96,
   "id": "b7f9f62c-d200-4652-981d-5714997f70a6",
   "metadata": {},
   "outputs": [
    {
     "name": "stdout",
     "output_type": "stream",
     "text": [
      "Memory Usage: 49.03 MB\n",
      "Memory Usage: 86.75 MB\n",
      "Memory Usage: 86.75 MB\n"
     ]
    },
    {
     "data": {
      "text/plain": [
       "499999500000"
      ]
     },
     "execution_count": 96,
     "metadata": {},
     "output_type": "execute_result"
    }
   ],
   "source": [
    "import psutil\n",
    "import os\n",
    "\n",
    "def print_memory_usage():\n",
    "    process = psutil.Process(os.getpid())\n",
    "    mem = process.memory_info().rss / (1024 * 1024)  # in MB\n",
    "    print(f\"Memory Usage: {mem:.2f} MB\")\n",
    "\n",
    "def my_function():\n",
    "    print_memory_usage()\n",
    "    data = [i for i in range(1000000)] \n",
    "    print_memory_usage()\n",
    "    total = sum(data)\n",
    "    print_memory_usage()\n",
    "    return total\n",
    "\n",
    "my_function()\n"
   ]
  },
  {
   "cell_type": "markdown",
   "id": "1c78b540-26ee-421c-99ea-f5343f146c13",
   "metadata": {},
   "source": [
    "17. Write a Python program to create and write a list of numbers to a file, one number per line"
   ]
  },
  {
   "cell_type": "code",
   "execution_count": 99,
   "id": "8f41f627-40f2-441c-950a-558f8ff9335a",
   "metadata": {},
   "outputs": [],
   "source": [
    "with open(\"number.txt\", \"w\") as file:\n",
    "    for i in range(10):\n",
    "        file.write(f\"{i}\\n\")"
   ]
  },
  {
   "cell_type": "markdown",
   "id": "155c7980-5bf0-44f4-830b-56fbd6c20f36",
   "metadata": {},
   "source": [
    "18. How would you implement a basic logging setup that logs to a file with rotation after 1MB"
   ]
  },
  {
   "cell_type": "markdown",
   "id": "f57f4927-244e-422c-95fb-d93f505a568a",
   "metadata": {},
   "source": []
  },
  {
   "cell_type": "code",
   "execution_count": 105,
   "id": "c2b10e05-8ae6-4142-9536-4cc072e16138",
   "metadata": {},
   "outputs": [
    {
     "name": "stderr",
     "output_type": "stream",
     "text": [
      "--- Logging error ---\n",
      "Traceback (most recent call last):\n",
      "  File \"C:\\Users\\siddh\\AppData\\Local\\Programs\\Python\\Python313\\Lib\\logging\\handlers.py\", line 80, in emit\n",
      "    self.doRollover()\n",
      "    ~~~~~~~~~~~~~~~^^\n",
      "  File \"C:\\Users\\siddh\\AppData\\Local\\Programs\\Python\\Python313\\Lib\\logging\\handlers.py\", line 185, in doRollover\n",
      "    self.rotate(self.baseFilename, dfn)\n",
      "    ~~~~~~~~~~~^^^^^^^^^^^^^^^^^^^^^^^^\n",
      "  File \"C:\\Users\\siddh\\AppData\\Local\\Programs\\Python\\Python313\\Lib\\logging\\handlers.py\", line 121, in rotate\n",
      "    os.rename(source, dest)\n",
      "    ~~~~~~~~~^^^^^^^^^^^^^^\n",
      "PermissionError: [WinError 32] The process cannot access the file because it is being used by another process: 'C:\\\\Users\\\\siddh\\\\OneDrive\\\\Desktop\\\\Data Science\\\\Python\\\\Exam2\\\\app.log' -> 'C:\\\\Users\\\\siddh\\\\OneDrive\\\\Desktop\\\\Data Science\\\\Python\\\\Exam2\\\\app.log.1'\n",
      "Call stack:\n",
      "  File \"<frozen runpy>\", line 198, in _run_module_as_main\n",
      "  File \"<frozen runpy>\", line 88, in _run_code\n",
      "  File \"C:\\Users\\siddh\\AppData\\Local\\Programs\\Python\\Python313\\Lib\\site-packages\\ipykernel_launcher.py\", line 18, in <module>\n",
      "    app.launch_new_instance()\n",
      "  File \"C:\\Users\\siddh\\AppData\\Local\\Programs\\Python\\Python313\\Lib\\site-packages\\traitlets\\config\\application.py\", line 1075, in launch_instance\n",
      "    app.start()\n",
      "  File \"C:\\Users\\siddh\\AppData\\Local\\Programs\\Python\\Python313\\Lib\\site-packages\\ipykernel\\kernelapp.py\", line 739, in start\n",
      "    self.io_loop.start()\n",
      "  File \"C:\\Users\\siddh\\AppData\\Local\\Programs\\Python\\Python313\\Lib\\site-packages\\tornado\\platform\\asyncio.py\", line 205, in start\n",
      "    self.asyncio_loop.run_forever()\n",
      "  File \"C:\\Users\\siddh\\AppData\\Local\\Programs\\Python\\Python313\\Lib\\asyncio\\base_events.py\", line 677, in run_forever\n",
      "    self._run_once()\n",
      "  File \"C:\\Users\\siddh\\AppData\\Local\\Programs\\Python\\Python313\\Lib\\asyncio\\base_events.py\", line 2034, in _run_once\n",
      "    handle._run()\n",
      "  File \"C:\\Users\\siddh\\AppData\\Local\\Programs\\Python\\Python313\\Lib\\asyncio\\events.py\", line 89, in _run\n",
      "    self._context.run(self._callback, *self._args)\n",
      "  File \"C:\\Users\\siddh\\AppData\\Local\\Programs\\Python\\Python313\\Lib\\site-packages\\ipykernel\\kernelbase.py\", line 545, in dispatch_queue\n",
      "    await self.process_one()\n",
      "  File \"C:\\Users\\siddh\\AppData\\Local\\Programs\\Python\\Python313\\Lib\\site-packages\\ipykernel\\kernelbase.py\", line 534, in process_one\n",
      "    await dispatch(*args)\n",
      "  File \"C:\\Users\\siddh\\AppData\\Local\\Programs\\Python\\Python313\\Lib\\site-packages\\ipykernel\\kernelbase.py\", line 437, in dispatch_shell\n",
      "    await result\n",
      "  File \"C:\\Users\\siddh\\AppData\\Local\\Programs\\Python\\Python313\\Lib\\site-packages\\ipykernel\\ipkernel.py\", line 362, in execute_request\n",
      "    await super().execute_request(stream, ident, parent)\n",
      "  File \"C:\\Users\\siddh\\AppData\\Local\\Programs\\Python\\Python313\\Lib\\site-packages\\ipykernel\\kernelbase.py\", line 778, in execute_request\n",
      "    reply_content = await reply_content\n",
      "  File \"C:\\Users\\siddh\\AppData\\Local\\Programs\\Python\\Python313\\Lib\\site-packages\\ipykernel\\ipkernel.py\", line 449, in do_execute\n",
      "    res = shell.run_cell(\n",
      "  File \"C:\\Users\\siddh\\AppData\\Local\\Programs\\Python\\Python313\\Lib\\site-packages\\ipykernel\\zmqshell.py\", line 549, in run_cell\n",
      "    return super().run_cell(*args, **kwargs)\n",
      "  File \"C:\\Users\\siddh\\AppData\\Local\\Programs\\Python\\Python313\\Lib\\site-packages\\IPython\\core\\interactiveshell.py\", line 3098, in run_cell\n",
      "    result = self._run_cell(\n",
      "  File \"C:\\Users\\siddh\\AppData\\Local\\Programs\\Python\\Python313\\Lib\\site-packages\\IPython\\core\\interactiveshell.py\", line 3153, in _run_cell\n",
      "    result = runner(coro)\n",
      "  File \"C:\\Users\\siddh\\AppData\\Local\\Programs\\Python\\Python313\\Lib\\site-packages\\IPython\\core\\async_helpers.py\", line 128, in _pseudo_sync_runner\n",
      "    coro.send(None)\n",
      "  File \"C:\\Users\\siddh\\AppData\\Local\\Programs\\Python\\Python313\\Lib\\site-packages\\IPython\\core\\interactiveshell.py\", line 3362, in run_cell_async\n",
      "    has_raised = await self.run_ast_nodes(code_ast.body, cell_name,\n",
      "  File \"C:\\Users\\siddh\\AppData\\Local\\Programs\\Python\\Python313\\Lib\\site-packages\\IPython\\core\\interactiveshell.py\", line 3607, in run_ast_nodes\n",
      "    if await self.run_code(code, result, async_=asy):\n",
      "  File \"C:\\Users\\siddh\\AppData\\Local\\Programs\\Python\\Python313\\Lib\\site-packages\\IPython\\core\\interactiveshell.py\", line 3667, in run_code\n",
      "    exec(code_obj, self.user_global_ns, self.user_ns)\n",
      "  File \"C:\\Users\\siddh\\AppData\\Local\\Temp\\ipykernel_488\\3448391271.py\", line 24, in <module>\n",
      "    logger.info(f\"This is log entry number {i}\")\n",
      "Message: 'This is log entry number 1952'\n",
      "Arguments: ()\n",
      "--- Logging error ---\n",
      "Traceback (most recent call last):\n",
      "  File \"C:\\Users\\siddh\\AppData\\Local\\Programs\\Python\\Python313\\Lib\\logging\\handlers.py\", line 80, in emit\n",
      "    self.doRollover()\n",
      "    ~~~~~~~~~~~~~~~^^\n",
      "  File \"C:\\Users\\siddh\\AppData\\Local\\Programs\\Python\\Python313\\Lib\\logging\\handlers.py\", line 185, in doRollover\n",
      "    self.rotate(self.baseFilename, dfn)\n",
      "    ~~~~~~~~~~~^^^^^^^^^^^^^^^^^^^^^^^^\n",
      "  File \"C:\\Users\\siddh\\AppData\\Local\\Programs\\Python\\Python313\\Lib\\logging\\handlers.py\", line 121, in rotate\n",
      "    os.rename(source, dest)\n",
      "    ~~~~~~~~~^^^^^^^^^^^^^^\n",
      "PermissionError: [WinError 32] The process cannot access the file because it is being used by another process: 'C:\\\\Users\\\\siddh\\\\OneDrive\\\\Desktop\\\\Data Science\\\\Python\\\\Exam2\\\\app.log' -> 'C:\\\\Users\\\\siddh\\\\OneDrive\\\\Desktop\\\\Data Science\\\\Python\\\\Exam2\\\\app.log.1'\n",
      "Call stack:\n",
      "  File \"<frozen runpy>\", line 198, in _run_module_as_main\n",
      "  File \"<frozen runpy>\", line 88, in _run_code\n",
      "  File \"C:\\Users\\siddh\\AppData\\Local\\Programs\\Python\\Python313\\Lib\\site-packages\\ipykernel_launcher.py\", line 18, in <module>\n",
      "    app.launch_new_instance()\n",
      "  File \"C:\\Users\\siddh\\AppData\\Local\\Programs\\Python\\Python313\\Lib\\site-packages\\traitlets\\config\\application.py\", line 1075, in launch_instance\n",
      "    app.start()\n",
      "  File \"C:\\Users\\siddh\\AppData\\Local\\Programs\\Python\\Python313\\Lib\\site-packages\\ipykernel\\kernelapp.py\", line 739, in start\n",
      "    self.io_loop.start()\n",
      "  File \"C:\\Users\\siddh\\AppData\\Local\\Programs\\Python\\Python313\\Lib\\site-packages\\tornado\\platform\\asyncio.py\", line 205, in start\n",
      "    self.asyncio_loop.run_forever()\n",
      "  File \"C:\\Users\\siddh\\AppData\\Local\\Programs\\Python\\Python313\\Lib\\asyncio\\base_events.py\", line 677, in run_forever\n",
      "    self._run_once()\n",
      "  File \"C:\\Users\\siddh\\AppData\\Local\\Programs\\Python\\Python313\\Lib\\asyncio\\base_events.py\", line 2034, in _run_once\n",
      "    handle._run()\n",
      "  File \"C:\\Users\\siddh\\AppData\\Local\\Programs\\Python\\Python313\\Lib\\asyncio\\events.py\", line 89, in _run\n",
      "    self._context.run(self._callback, *self._args)\n",
      "  File \"C:\\Users\\siddh\\AppData\\Local\\Programs\\Python\\Python313\\Lib\\site-packages\\ipykernel\\kernelbase.py\", line 545, in dispatch_queue\n",
      "    await self.process_one()\n",
      "  File \"C:\\Users\\siddh\\AppData\\Local\\Programs\\Python\\Python313\\Lib\\site-packages\\ipykernel\\kernelbase.py\", line 534, in process_one\n",
      "    await dispatch(*args)\n",
      "  File \"C:\\Users\\siddh\\AppData\\Local\\Programs\\Python\\Python313\\Lib\\site-packages\\ipykernel\\kernelbase.py\", line 437, in dispatch_shell\n",
      "    await result\n",
      "  File \"C:\\Users\\siddh\\AppData\\Local\\Programs\\Python\\Python313\\Lib\\site-packages\\ipykernel\\ipkernel.py\", line 362, in execute_request\n",
      "    await super().execute_request(stream, ident, parent)\n",
      "  File \"C:\\Users\\siddh\\AppData\\Local\\Programs\\Python\\Python313\\Lib\\site-packages\\ipykernel\\kernelbase.py\", line 778, in execute_request\n",
      "    reply_content = await reply_content\n",
      "  File \"C:\\Users\\siddh\\AppData\\Local\\Programs\\Python\\Python313\\Lib\\site-packages\\ipykernel\\ipkernel.py\", line 449, in do_execute\n",
      "    res = shell.run_cell(\n",
      "  File \"C:\\Users\\siddh\\AppData\\Local\\Programs\\Python\\Python313\\Lib\\site-packages\\ipykernel\\zmqshell.py\", line 549, in run_cell\n",
      "    return super().run_cell(*args, **kwargs)\n",
      "  File \"C:\\Users\\siddh\\AppData\\Local\\Programs\\Python\\Python313\\Lib\\site-packages\\IPython\\core\\interactiveshell.py\", line 3098, in run_cell\n",
      "    result = self._run_cell(\n",
      "  File \"C:\\Users\\siddh\\AppData\\Local\\Programs\\Python\\Python313\\Lib\\site-packages\\IPython\\core\\interactiveshell.py\", line 3153, in _run_cell\n",
      "    result = runner(coro)\n",
      "  File \"C:\\Users\\siddh\\AppData\\Local\\Programs\\Python\\Python313\\Lib\\site-packages\\IPython\\core\\async_helpers.py\", line 128, in _pseudo_sync_runner\n",
      "    coro.send(None)\n",
      "  File \"C:\\Users\\siddh\\AppData\\Local\\Programs\\Python\\Python313\\Lib\\site-packages\\IPython\\core\\interactiveshell.py\", line 3362, in run_cell_async\n",
      "    has_raised = await self.run_ast_nodes(code_ast.body, cell_name,\n",
      "  File \"C:\\Users\\siddh\\AppData\\Local\\Programs\\Python\\Python313\\Lib\\site-packages\\IPython\\core\\interactiveshell.py\", line 3607, in run_ast_nodes\n",
      "    if await self.run_code(code, result, async_=asy):\n",
      "  File \"C:\\Users\\siddh\\AppData\\Local\\Programs\\Python\\Python313\\Lib\\site-packages\\IPython\\core\\interactiveshell.py\", line 3667, in run_code\n",
      "    exec(code_obj, self.user_global_ns, self.user_ns)\n",
      "  File \"C:\\Users\\siddh\\AppData\\Local\\Temp\\ipykernel_488\\3448391271.py\", line 24, in <module>\n",
      "    logger.info(f\"This is log entry number {i}\")\n",
      "Message: 'This is log entry number 1952'\n",
      "Arguments: ()\n",
      "--- Logging error ---\n",
      "Traceback (most recent call last):\n",
      "  File \"C:\\Users\\siddh\\AppData\\Local\\Programs\\Python\\Python313\\Lib\\logging\\handlers.py\", line 80, in emit\n",
      "    self.doRollover()\n",
      "    ~~~~~~~~~~~~~~~^^\n",
      "  File \"C:\\Users\\siddh\\AppData\\Local\\Programs\\Python\\Python313\\Lib\\logging\\handlers.py\", line 185, in doRollover\n",
      "    self.rotate(self.baseFilename, dfn)\n",
      "    ~~~~~~~~~~~^^^^^^^^^^^^^^^^^^^^^^^^\n",
      "  File \"C:\\Users\\siddh\\AppData\\Local\\Programs\\Python\\Python313\\Lib\\logging\\handlers.py\", line 121, in rotate\n",
      "    os.rename(source, dest)\n",
      "    ~~~~~~~~~^^^^^^^^^^^^^^\n",
      "PermissionError: [WinError 32] The process cannot access the file because it is being used by another process: 'C:\\\\Users\\\\siddh\\\\OneDrive\\\\Desktop\\\\Data Science\\\\Python\\\\Exam2\\\\app.log' -> 'C:\\\\Users\\\\siddh\\\\OneDrive\\\\Desktop\\\\Data Science\\\\Python\\\\Exam2\\\\app.log.1'\n",
      "Call stack:\n",
      "  File \"<frozen runpy>\", line 198, in _run_module_as_main\n",
      "  File \"<frozen runpy>\", line 88, in _run_code\n",
      "  File \"C:\\Users\\siddh\\AppData\\Local\\Programs\\Python\\Python313\\Lib\\site-packages\\ipykernel_launcher.py\", line 18, in <module>\n",
      "    app.launch_new_instance()\n",
      "  File \"C:\\Users\\siddh\\AppData\\Local\\Programs\\Python\\Python313\\Lib\\site-packages\\traitlets\\config\\application.py\", line 1075, in launch_instance\n",
      "    app.start()\n",
      "  File \"C:\\Users\\siddh\\AppData\\Local\\Programs\\Python\\Python313\\Lib\\site-packages\\ipykernel\\kernelapp.py\", line 739, in start\n",
      "    self.io_loop.start()\n",
      "  File \"C:\\Users\\siddh\\AppData\\Local\\Programs\\Python\\Python313\\Lib\\site-packages\\tornado\\platform\\asyncio.py\", line 205, in start\n",
      "    self.asyncio_loop.run_forever()\n",
      "  File \"C:\\Users\\siddh\\AppData\\Local\\Programs\\Python\\Python313\\Lib\\asyncio\\base_events.py\", line 677, in run_forever\n",
      "    self._run_once()\n",
      "  File \"C:\\Users\\siddh\\AppData\\Local\\Programs\\Python\\Python313\\Lib\\asyncio\\base_events.py\", line 2034, in _run_once\n",
      "    handle._run()\n",
      "  File \"C:\\Users\\siddh\\AppData\\Local\\Programs\\Python\\Python313\\Lib\\asyncio\\events.py\", line 89, in _run\n",
      "    self._context.run(self._callback, *self._args)\n",
      "  File \"C:\\Users\\siddh\\AppData\\Local\\Programs\\Python\\Python313\\Lib\\site-packages\\ipykernel\\kernelbase.py\", line 545, in dispatch_queue\n",
      "    await self.process_one()\n",
      "  File \"C:\\Users\\siddh\\AppData\\Local\\Programs\\Python\\Python313\\Lib\\site-packages\\ipykernel\\kernelbase.py\", line 534, in process_one\n",
      "    await dispatch(*args)\n",
      "  File \"C:\\Users\\siddh\\AppData\\Local\\Programs\\Python\\Python313\\Lib\\site-packages\\ipykernel\\kernelbase.py\", line 437, in dispatch_shell\n",
      "    await result\n",
      "  File \"C:\\Users\\siddh\\AppData\\Local\\Programs\\Python\\Python313\\Lib\\site-packages\\ipykernel\\ipkernel.py\", line 362, in execute_request\n",
      "    await super().execute_request(stream, ident, parent)\n",
      "  File \"C:\\Users\\siddh\\AppData\\Local\\Programs\\Python\\Python313\\Lib\\site-packages\\ipykernel\\kernelbase.py\", line 778, in execute_request\n",
      "    reply_content = await reply_content\n",
      "  File \"C:\\Users\\siddh\\AppData\\Local\\Programs\\Python\\Python313\\Lib\\site-packages\\ipykernel\\ipkernel.py\", line 449, in do_execute\n",
      "    res = shell.run_cell(\n",
      "  File \"C:\\Users\\siddh\\AppData\\Local\\Programs\\Python\\Python313\\Lib\\site-packages\\ipykernel\\zmqshell.py\", line 549, in run_cell\n",
      "    return super().run_cell(*args, **kwargs)\n",
      "  File \"C:\\Users\\siddh\\AppData\\Local\\Programs\\Python\\Python313\\Lib\\site-packages\\IPython\\core\\interactiveshell.py\", line 3098, in run_cell\n",
      "    result = self._run_cell(\n",
      "  File \"C:\\Users\\siddh\\AppData\\Local\\Programs\\Python\\Python313\\Lib\\site-packages\\IPython\\core\\interactiveshell.py\", line 3153, in _run_cell\n",
      "    result = runner(coro)\n",
      "  File \"C:\\Users\\siddh\\AppData\\Local\\Programs\\Python\\Python313\\Lib\\site-packages\\IPython\\core\\async_helpers.py\", line 128, in _pseudo_sync_runner\n",
      "    coro.send(None)\n",
      "  File \"C:\\Users\\siddh\\AppData\\Local\\Programs\\Python\\Python313\\Lib\\site-packages\\IPython\\core\\interactiveshell.py\", line 3362, in run_cell_async\n",
      "    has_raised = await self.run_ast_nodes(code_ast.body, cell_name,\n",
      "  File \"C:\\Users\\siddh\\AppData\\Local\\Programs\\Python\\Python313\\Lib\\site-packages\\IPython\\core\\interactiveshell.py\", line 3607, in run_ast_nodes\n",
      "    if await self.run_code(code, result, async_=asy):\n",
      "  File \"C:\\Users\\siddh\\AppData\\Local\\Programs\\Python\\Python313\\Lib\\site-packages\\IPython\\core\\interactiveshell.py\", line 3667, in run_code\n",
      "    exec(code_obj, self.user_global_ns, self.user_ns)\n",
      "  File \"C:\\Users\\siddh\\AppData\\Local\\Temp\\ipykernel_488\\3448391271.py\", line 24, in <module>\n",
      "    logger.info(f\"This is log entry number {i}\")\n",
      "Message: 'This is log entry number 1952'\n",
      "Arguments: ()\n",
      "--- Logging error ---\n",
      "Traceback (most recent call last):\n",
      "  File \"C:\\Users\\siddh\\AppData\\Local\\Programs\\Python\\Python313\\Lib\\logging\\handlers.py\", line 80, in emit\n",
      "    self.doRollover()\n",
      "    ~~~~~~~~~~~~~~~^^\n",
      "  File \"C:\\Users\\siddh\\AppData\\Local\\Programs\\Python\\Python313\\Lib\\logging\\handlers.py\", line 185, in doRollover\n",
      "    self.rotate(self.baseFilename, dfn)\n",
      "    ~~~~~~~~~~~^^^^^^^^^^^^^^^^^^^^^^^^\n",
      "  File \"C:\\Users\\siddh\\AppData\\Local\\Programs\\Python\\Python313\\Lib\\logging\\handlers.py\", line 121, in rotate\n",
      "    os.rename(source, dest)\n",
      "    ~~~~~~~~~^^^^^^^^^^^^^^\n",
      "PermissionError: [WinError 32] The process cannot access the file because it is being used by another process: 'C:\\\\Users\\\\siddh\\\\OneDrive\\\\Desktop\\\\Data Science\\\\Python\\\\Exam2\\\\logs\\\\app.log' -> 'C:\\\\Users\\\\siddh\\\\OneDrive\\\\Desktop\\\\Data Science\\\\Python\\\\Exam2\\\\logs\\\\app.log.1'\n",
      "Call stack:\n",
      "  File \"<frozen runpy>\", line 198, in _run_module_as_main\n",
      "  File \"<frozen runpy>\", line 88, in _run_code\n",
      "  File \"C:\\Users\\siddh\\AppData\\Local\\Programs\\Python\\Python313\\Lib\\site-packages\\ipykernel_launcher.py\", line 18, in <module>\n",
      "    app.launch_new_instance()\n",
      "  File \"C:\\Users\\siddh\\AppData\\Local\\Programs\\Python\\Python313\\Lib\\site-packages\\traitlets\\config\\application.py\", line 1075, in launch_instance\n",
      "    app.start()\n",
      "  File \"C:\\Users\\siddh\\AppData\\Local\\Programs\\Python\\Python313\\Lib\\site-packages\\ipykernel\\kernelapp.py\", line 739, in start\n",
      "    self.io_loop.start()\n",
      "  File \"C:\\Users\\siddh\\AppData\\Local\\Programs\\Python\\Python313\\Lib\\site-packages\\tornado\\platform\\asyncio.py\", line 205, in start\n",
      "    self.asyncio_loop.run_forever()\n",
      "  File \"C:\\Users\\siddh\\AppData\\Local\\Programs\\Python\\Python313\\Lib\\asyncio\\base_events.py\", line 677, in run_forever\n",
      "    self._run_once()\n",
      "  File \"C:\\Users\\siddh\\AppData\\Local\\Programs\\Python\\Python313\\Lib\\asyncio\\base_events.py\", line 2034, in _run_once\n",
      "    handle._run()\n",
      "  File \"C:\\Users\\siddh\\AppData\\Local\\Programs\\Python\\Python313\\Lib\\asyncio\\events.py\", line 89, in _run\n",
      "    self._context.run(self._callback, *self._args)\n",
      "  File \"C:\\Users\\siddh\\AppData\\Local\\Programs\\Python\\Python313\\Lib\\site-packages\\ipykernel\\kernelbase.py\", line 545, in dispatch_queue\n",
      "    await self.process_one()\n",
      "  File \"C:\\Users\\siddh\\AppData\\Local\\Programs\\Python\\Python313\\Lib\\site-packages\\ipykernel\\kernelbase.py\", line 534, in process_one\n",
      "    await dispatch(*args)\n",
      "  File \"C:\\Users\\siddh\\AppData\\Local\\Programs\\Python\\Python313\\Lib\\site-packages\\ipykernel\\kernelbase.py\", line 437, in dispatch_shell\n",
      "    await result\n",
      "  File \"C:\\Users\\siddh\\AppData\\Local\\Programs\\Python\\Python313\\Lib\\site-packages\\ipykernel\\ipkernel.py\", line 362, in execute_request\n",
      "    await super().execute_request(stream, ident, parent)\n",
      "  File \"C:\\Users\\siddh\\AppData\\Local\\Programs\\Python\\Python313\\Lib\\site-packages\\ipykernel\\kernelbase.py\", line 778, in execute_request\n",
      "    reply_content = await reply_content\n",
      "  File \"C:\\Users\\siddh\\AppData\\Local\\Programs\\Python\\Python313\\Lib\\site-packages\\ipykernel\\ipkernel.py\", line 449, in do_execute\n",
      "    res = shell.run_cell(\n",
      "  File \"C:\\Users\\siddh\\AppData\\Local\\Programs\\Python\\Python313\\Lib\\site-packages\\ipykernel\\zmqshell.py\", line 549, in run_cell\n",
      "    return super().run_cell(*args, **kwargs)\n",
      "  File \"C:\\Users\\siddh\\AppData\\Local\\Programs\\Python\\Python313\\Lib\\site-packages\\IPython\\core\\interactiveshell.py\", line 3098, in run_cell\n",
      "    result = self._run_cell(\n",
      "  File \"C:\\Users\\siddh\\AppData\\Local\\Programs\\Python\\Python313\\Lib\\site-packages\\IPython\\core\\interactiveshell.py\", line 3153, in _run_cell\n",
      "    result = runner(coro)\n",
      "  File \"C:\\Users\\siddh\\AppData\\Local\\Programs\\Python\\Python313\\Lib\\site-packages\\IPython\\core\\async_helpers.py\", line 128, in _pseudo_sync_runner\n",
      "    coro.send(None)\n",
      "  File \"C:\\Users\\siddh\\AppData\\Local\\Programs\\Python\\Python313\\Lib\\site-packages\\IPython\\core\\interactiveshell.py\", line 3362, in run_cell_async\n",
      "    has_raised = await self.run_ast_nodes(code_ast.body, cell_name,\n",
      "  File \"C:\\Users\\siddh\\AppData\\Local\\Programs\\Python\\Python313\\Lib\\site-packages\\IPython\\core\\interactiveshell.py\", line 3607, in run_ast_nodes\n",
      "    if await self.run_code(code, result, async_=asy):\n",
      "  File \"C:\\Users\\siddh\\AppData\\Local\\Programs\\Python\\Python313\\Lib\\site-packages\\IPython\\core\\interactiveshell.py\", line 3667, in run_code\n",
      "    exec(code_obj, self.user_global_ns, self.user_ns)\n",
      "  File \"C:\\Users\\siddh\\AppData\\Local\\Temp\\ipykernel_488\\3448391271.py\", line 24, in <module>\n",
      "    logger.info(f\"This is log entry number {i}\")\n",
      "Message: 'This is log entry number 3218'\n",
      "Arguments: ()\n",
      "--- Logging error ---\n",
      "Traceback (most recent call last):\n",
      "  File \"C:\\Users\\siddh\\AppData\\Local\\Programs\\Python\\Python313\\Lib\\logging\\handlers.py\", line 80, in emit\n",
      "    self.doRollover()\n",
      "    ~~~~~~~~~~~~~~~^^\n",
      "  File \"C:\\Users\\siddh\\AppData\\Local\\Programs\\Python\\Python313\\Lib\\logging\\handlers.py\", line 185, in doRollover\n",
      "    self.rotate(self.baseFilename, dfn)\n",
      "    ~~~~~~~~~~~^^^^^^^^^^^^^^^^^^^^^^^^\n",
      "  File \"C:\\Users\\siddh\\AppData\\Local\\Programs\\Python\\Python313\\Lib\\logging\\handlers.py\", line 121, in rotate\n",
      "    os.rename(source, dest)\n",
      "    ~~~~~~~~~^^^^^^^^^^^^^^\n",
      "PermissionError: [WinError 32] The process cannot access the file because it is being used by another process: 'C:\\\\Users\\\\siddh\\\\OneDrive\\\\Desktop\\\\Data Science\\\\Python\\\\Exam2\\\\app.log' -> 'C:\\\\Users\\\\siddh\\\\OneDrive\\\\Desktop\\\\Data Science\\\\Python\\\\Exam2\\\\app.log.1'\n",
      "Call stack:\n",
      "  File \"<frozen runpy>\", line 198, in _run_module_as_main\n",
      "  File \"<frozen runpy>\", line 88, in _run_code\n",
      "  File \"C:\\Users\\siddh\\AppData\\Local\\Programs\\Python\\Python313\\Lib\\site-packages\\ipykernel_launcher.py\", line 18, in <module>\n",
      "    app.launch_new_instance()\n",
      "  File \"C:\\Users\\siddh\\AppData\\Local\\Programs\\Python\\Python313\\Lib\\site-packages\\traitlets\\config\\application.py\", line 1075, in launch_instance\n",
      "    app.start()\n",
      "  File \"C:\\Users\\siddh\\AppData\\Local\\Programs\\Python\\Python313\\Lib\\site-packages\\ipykernel\\kernelapp.py\", line 739, in start\n",
      "    self.io_loop.start()\n",
      "  File \"C:\\Users\\siddh\\AppData\\Local\\Programs\\Python\\Python313\\Lib\\site-packages\\tornado\\platform\\asyncio.py\", line 205, in start\n",
      "    self.asyncio_loop.run_forever()\n",
      "  File \"C:\\Users\\siddh\\AppData\\Local\\Programs\\Python\\Python313\\Lib\\asyncio\\base_events.py\", line 677, in run_forever\n",
      "    self._run_once()\n",
      "  File \"C:\\Users\\siddh\\AppData\\Local\\Programs\\Python\\Python313\\Lib\\asyncio\\base_events.py\", line 2034, in _run_once\n",
      "    handle._run()\n",
      "  File \"C:\\Users\\siddh\\AppData\\Local\\Programs\\Python\\Python313\\Lib\\asyncio\\events.py\", line 89, in _run\n",
      "    self._context.run(self._callback, *self._args)\n",
      "  File \"C:\\Users\\siddh\\AppData\\Local\\Programs\\Python\\Python313\\Lib\\site-packages\\ipykernel\\kernelbase.py\", line 545, in dispatch_queue\n",
      "    await self.process_one()\n",
      "  File \"C:\\Users\\siddh\\AppData\\Local\\Programs\\Python\\Python313\\Lib\\site-packages\\ipykernel\\kernelbase.py\", line 534, in process_one\n",
      "    await dispatch(*args)\n",
      "  File \"C:\\Users\\siddh\\AppData\\Local\\Programs\\Python\\Python313\\Lib\\site-packages\\ipykernel\\kernelbase.py\", line 437, in dispatch_shell\n",
      "    await result\n",
      "  File \"C:\\Users\\siddh\\AppData\\Local\\Programs\\Python\\Python313\\Lib\\site-packages\\ipykernel\\ipkernel.py\", line 362, in execute_request\n",
      "    await super().execute_request(stream, ident, parent)\n",
      "  File \"C:\\Users\\siddh\\AppData\\Local\\Programs\\Python\\Python313\\Lib\\site-packages\\ipykernel\\kernelbase.py\", line 778, in execute_request\n",
      "    reply_content = await reply_content\n",
      "  File \"C:\\Users\\siddh\\AppData\\Local\\Programs\\Python\\Python313\\Lib\\site-packages\\ipykernel\\ipkernel.py\", line 449, in do_execute\n",
      "    res = shell.run_cell(\n",
      "  File \"C:\\Users\\siddh\\AppData\\Local\\Programs\\Python\\Python313\\Lib\\site-packages\\ipykernel\\zmqshell.py\", line 549, in run_cell\n",
      "    return super().run_cell(*args, **kwargs)\n",
      "  File \"C:\\Users\\siddh\\AppData\\Local\\Programs\\Python\\Python313\\Lib\\site-packages\\IPython\\core\\interactiveshell.py\", line 3098, in run_cell\n",
      "    result = self._run_cell(\n",
      "  File \"C:\\Users\\siddh\\AppData\\Local\\Programs\\Python\\Python313\\Lib\\site-packages\\IPython\\core\\interactiveshell.py\", line 3153, in _run_cell\n",
      "    result = runner(coro)\n",
      "  File \"C:\\Users\\siddh\\AppData\\Local\\Programs\\Python\\Python313\\Lib\\site-packages\\IPython\\core\\async_helpers.py\", line 128, in _pseudo_sync_runner\n",
      "    coro.send(None)\n",
      "  File \"C:\\Users\\siddh\\AppData\\Local\\Programs\\Python\\Python313\\Lib\\site-packages\\IPython\\core\\interactiveshell.py\", line 3362, in run_cell_async\n",
      "    has_raised = await self.run_ast_nodes(code_ast.body, cell_name,\n",
      "  File \"C:\\Users\\siddh\\AppData\\Local\\Programs\\Python\\Python313\\Lib\\site-packages\\IPython\\core\\interactiveshell.py\", line 3607, in run_ast_nodes\n",
      "    if await self.run_code(code, result, async_=asy):\n",
      "  File \"C:\\Users\\siddh\\AppData\\Local\\Programs\\Python\\Python313\\Lib\\site-packages\\IPython\\core\\interactiveshell.py\", line 3667, in run_code\n",
      "    exec(code_obj, self.user_global_ns, self.user_ns)\n",
      "  File \"C:\\Users\\siddh\\AppData\\Local\\Temp\\ipykernel_488\\3448391271.py\", line 24, in <module>\n",
      "    logger.info(f\"This is log entry number {i}\")\n",
      "Message: 'This is log entry number 6049'\n",
      "Arguments: ()\n",
      "--- Logging error ---\n",
      "Traceback (most recent call last):\n",
      "  File \"C:\\Users\\siddh\\AppData\\Local\\Programs\\Python\\Python313\\Lib\\logging\\handlers.py\", line 80, in emit\n",
      "    self.doRollover()\n",
      "    ~~~~~~~~~~~~~~~^^\n",
      "  File \"C:\\Users\\siddh\\AppData\\Local\\Programs\\Python\\Python313\\Lib\\logging\\handlers.py\", line 185, in doRollover\n",
      "    self.rotate(self.baseFilename, dfn)\n",
      "    ~~~~~~~~~~~^^^^^^^^^^^^^^^^^^^^^^^^\n",
      "  File \"C:\\Users\\siddh\\AppData\\Local\\Programs\\Python\\Python313\\Lib\\logging\\handlers.py\", line 121, in rotate\n",
      "    os.rename(source, dest)\n",
      "    ~~~~~~~~~^^^^^^^^^^^^^^\n",
      "PermissionError: [WinError 32] The process cannot access the file because it is being used by another process: 'C:\\\\Users\\\\siddh\\\\OneDrive\\\\Desktop\\\\Data Science\\\\Python\\\\Exam2\\\\app.log' -> 'C:\\\\Users\\\\siddh\\\\OneDrive\\\\Desktop\\\\Data Science\\\\Python\\\\Exam2\\\\app.log.1'\n",
      "Call stack:\n",
      "  File \"<frozen runpy>\", line 198, in _run_module_as_main\n",
      "  File \"<frozen runpy>\", line 88, in _run_code\n",
      "  File \"C:\\Users\\siddh\\AppData\\Local\\Programs\\Python\\Python313\\Lib\\site-packages\\ipykernel_launcher.py\", line 18, in <module>\n",
      "    app.launch_new_instance()\n",
      "  File \"C:\\Users\\siddh\\AppData\\Local\\Programs\\Python\\Python313\\Lib\\site-packages\\traitlets\\config\\application.py\", line 1075, in launch_instance\n",
      "    app.start()\n",
      "  File \"C:\\Users\\siddh\\AppData\\Local\\Programs\\Python\\Python313\\Lib\\site-packages\\ipykernel\\kernelapp.py\", line 739, in start\n",
      "    self.io_loop.start()\n",
      "  File \"C:\\Users\\siddh\\AppData\\Local\\Programs\\Python\\Python313\\Lib\\site-packages\\tornado\\platform\\asyncio.py\", line 205, in start\n",
      "    self.asyncio_loop.run_forever()\n",
      "  File \"C:\\Users\\siddh\\AppData\\Local\\Programs\\Python\\Python313\\Lib\\asyncio\\base_events.py\", line 677, in run_forever\n",
      "    self._run_once()\n",
      "  File \"C:\\Users\\siddh\\AppData\\Local\\Programs\\Python\\Python313\\Lib\\asyncio\\base_events.py\", line 2034, in _run_once\n",
      "    handle._run()\n",
      "  File \"C:\\Users\\siddh\\AppData\\Local\\Programs\\Python\\Python313\\Lib\\asyncio\\events.py\", line 89, in _run\n",
      "    self._context.run(self._callback, *self._args)\n",
      "  File \"C:\\Users\\siddh\\AppData\\Local\\Programs\\Python\\Python313\\Lib\\site-packages\\ipykernel\\kernelbase.py\", line 545, in dispatch_queue\n",
      "    await self.process_one()\n",
      "  File \"C:\\Users\\siddh\\AppData\\Local\\Programs\\Python\\Python313\\Lib\\site-packages\\ipykernel\\kernelbase.py\", line 534, in process_one\n",
      "    await dispatch(*args)\n",
      "  File \"C:\\Users\\siddh\\AppData\\Local\\Programs\\Python\\Python313\\Lib\\site-packages\\ipykernel\\kernelbase.py\", line 437, in dispatch_shell\n",
      "    await result\n",
      "  File \"C:\\Users\\siddh\\AppData\\Local\\Programs\\Python\\Python313\\Lib\\site-packages\\ipykernel\\ipkernel.py\", line 362, in execute_request\n",
      "    await super().execute_request(stream, ident, parent)\n",
      "  File \"C:\\Users\\siddh\\AppData\\Local\\Programs\\Python\\Python313\\Lib\\site-packages\\ipykernel\\kernelbase.py\", line 778, in execute_request\n",
      "    reply_content = await reply_content\n",
      "  File \"C:\\Users\\siddh\\AppData\\Local\\Programs\\Python\\Python313\\Lib\\site-packages\\ipykernel\\ipkernel.py\", line 449, in do_execute\n",
      "    res = shell.run_cell(\n",
      "  File \"C:\\Users\\siddh\\AppData\\Local\\Programs\\Python\\Python313\\Lib\\site-packages\\ipykernel\\zmqshell.py\", line 549, in run_cell\n",
      "    return super().run_cell(*args, **kwargs)\n",
      "  File \"C:\\Users\\siddh\\AppData\\Local\\Programs\\Python\\Python313\\Lib\\site-packages\\IPython\\core\\interactiveshell.py\", line 3098, in run_cell\n",
      "    result = self._run_cell(\n",
      "  File \"C:\\Users\\siddh\\AppData\\Local\\Programs\\Python\\Python313\\Lib\\site-packages\\IPython\\core\\interactiveshell.py\", line 3153, in _run_cell\n",
      "    result = runner(coro)\n",
      "  File \"C:\\Users\\siddh\\AppData\\Local\\Programs\\Python\\Python313\\Lib\\site-packages\\IPython\\core\\async_helpers.py\", line 128, in _pseudo_sync_runner\n",
      "    coro.send(None)\n",
      "  File \"C:\\Users\\siddh\\AppData\\Local\\Programs\\Python\\Python313\\Lib\\site-packages\\IPython\\core\\interactiveshell.py\", line 3362, in run_cell_async\n",
      "    has_raised = await self.run_ast_nodes(code_ast.body, cell_name,\n",
      "  File \"C:\\Users\\siddh\\AppData\\Local\\Programs\\Python\\Python313\\Lib\\site-packages\\IPython\\core\\interactiveshell.py\", line 3607, in run_ast_nodes\n",
      "    if await self.run_code(code, result, async_=asy):\n",
      "  File \"C:\\Users\\siddh\\AppData\\Local\\Programs\\Python\\Python313\\Lib\\site-packages\\IPython\\core\\interactiveshell.py\", line 3667, in run_code\n",
      "    exec(code_obj, self.user_global_ns, self.user_ns)\n",
      "  File \"C:\\Users\\siddh\\AppData\\Local\\Temp\\ipykernel_488\\3448391271.py\", line 24, in <module>\n",
      "    logger.info(f\"This is log entry number {i}\")\n",
      "Message: 'This is log entry number 6050'\n",
      "Arguments: ()\n",
      "--- Logging error ---\n",
      "Traceback (most recent call last):\n",
      "  File \"C:\\Users\\siddh\\AppData\\Local\\Programs\\Python\\Python313\\Lib\\logging\\handlers.py\", line 80, in emit\n",
      "    self.doRollover()\n",
      "    ~~~~~~~~~~~~~~~^^\n",
      "  File \"C:\\Users\\siddh\\AppData\\Local\\Programs\\Python\\Python313\\Lib\\logging\\handlers.py\", line 185, in doRollover\n",
      "    self.rotate(self.baseFilename, dfn)\n",
      "    ~~~~~~~~~~~^^^^^^^^^^^^^^^^^^^^^^^^\n",
      "  File \"C:\\Users\\siddh\\AppData\\Local\\Programs\\Python\\Python313\\Lib\\logging\\handlers.py\", line 121, in rotate\n",
      "    os.rename(source, dest)\n",
      "    ~~~~~~~~~^^^^^^^^^^^^^^\n",
      "PermissionError: [WinError 32] The process cannot access the file because it is being used by another process: 'C:\\\\Users\\\\siddh\\\\OneDrive\\\\Desktop\\\\Data Science\\\\Python\\\\Exam2\\\\app.log' -> 'C:\\\\Users\\\\siddh\\\\OneDrive\\\\Desktop\\\\Data Science\\\\Python\\\\Exam2\\\\app.log.1'\n",
      "Call stack:\n",
      "  File \"<frozen runpy>\", line 198, in _run_module_as_main\n",
      "  File \"<frozen runpy>\", line 88, in _run_code\n",
      "  File \"C:\\Users\\siddh\\AppData\\Local\\Programs\\Python\\Python313\\Lib\\site-packages\\ipykernel_launcher.py\", line 18, in <module>\n",
      "    app.launch_new_instance()\n",
      "  File \"C:\\Users\\siddh\\AppData\\Local\\Programs\\Python\\Python313\\Lib\\site-packages\\traitlets\\config\\application.py\", line 1075, in launch_instance\n",
      "    app.start()\n",
      "  File \"C:\\Users\\siddh\\AppData\\Local\\Programs\\Python\\Python313\\Lib\\site-packages\\ipykernel\\kernelapp.py\", line 739, in start\n",
      "    self.io_loop.start()\n",
      "  File \"C:\\Users\\siddh\\AppData\\Local\\Programs\\Python\\Python313\\Lib\\site-packages\\tornado\\platform\\asyncio.py\", line 205, in start\n",
      "    self.asyncio_loop.run_forever()\n",
      "  File \"C:\\Users\\siddh\\AppData\\Local\\Programs\\Python\\Python313\\Lib\\asyncio\\base_events.py\", line 677, in run_forever\n",
      "    self._run_once()\n",
      "  File \"C:\\Users\\siddh\\AppData\\Local\\Programs\\Python\\Python313\\Lib\\asyncio\\base_events.py\", line 2034, in _run_once\n",
      "    handle._run()\n",
      "  File \"C:\\Users\\siddh\\AppData\\Local\\Programs\\Python\\Python313\\Lib\\asyncio\\events.py\", line 89, in _run\n",
      "    self._context.run(self._callback, *self._args)\n",
      "  File \"C:\\Users\\siddh\\AppData\\Local\\Programs\\Python\\Python313\\Lib\\site-packages\\ipykernel\\kernelbase.py\", line 545, in dispatch_queue\n",
      "    await self.process_one()\n",
      "  File \"C:\\Users\\siddh\\AppData\\Local\\Programs\\Python\\Python313\\Lib\\site-packages\\ipykernel\\kernelbase.py\", line 534, in process_one\n",
      "    await dispatch(*args)\n",
      "  File \"C:\\Users\\siddh\\AppData\\Local\\Programs\\Python\\Python313\\Lib\\site-packages\\ipykernel\\kernelbase.py\", line 437, in dispatch_shell\n",
      "    await result\n",
      "  File \"C:\\Users\\siddh\\AppData\\Local\\Programs\\Python\\Python313\\Lib\\site-packages\\ipykernel\\ipkernel.py\", line 362, in execute_request\n",
      "    await super().execute_request(stream, ident, parent)\n",
      "  File \"C:\\Users\\siddh\\AppData\\Local\\Programs\\Python\\Python313\\Lib\\site-packages\\ipykernel\\kernelbase.py\", line 778, in execute_request\n",
      "    reply_content = await reply_content\n",
      "  File \"C:\\Users\\siddh\\AppData\\Local\\Programs\\Python\\Python313\\Lib\\site-packages\\ipykernel\\ipkernel.py\", line 449, in do_execute\n",
      "    res = shell.run_cell(\n",
      "  File \"C:\\Users\\siddh\\AppData\\Local\\Programs\\Python\\Python313\\Lib\\site-packages\\ipykernel\\zmqshell.py\", line 549, in run_cell\n",
      "    return super().run_cell(*args, **kwargs)\n",
      "  File \"C:\\Users\\siddh\\AppData\\Local\\Programs\\Python\\Python313\\Lib\\site-packages\\IPython\\core\\interactiveshell.py\", line 3098, in run_cell\n",
      "    result = self._run_cell(\n",
      "  File \"C:\\Users\\siddh\\AppData\\Local\\Programs\\Python\\Python313\\Lib\\site-packages\\IPython\\core\\interactiveshell.py\", line 3153, in _run_cell\n",
      "    result = runner(coro)\n",
      "  File \"C:\\Users\\siddh\\AppData\\Local\\Programs\\Python\\Python313\\Lib\\site-packages\\IPython\\core\\async_helpers.py\", line 128, in _pseudo_sync_runner\n",
      "    coro.send(None)\n",
      "  File \"C:\\Users\\siddh\\AppData\\Local\\Programs\\Python\\Python313\\Lib\\site-packages\\IPython\\core\\interactiveshell.py\", line 3362, in run_cell_async\n",
      "    has_raised = await self.run_ast_nodes(code_ast.body, cell_name,\n",
      "  File \"C:\\Users\\siddh\\AppData\\Local\\Programs\\Python\\Python313\\Lib\\site-packages\\IPython\\core\\interactiveshell.py\", line 3607, in run_ast_nodes\n",
      "    if await self.run_code(code, result, async_=asy):\n",
      "  File \"C:\\Users\\siddh\\AppData\\Local\\Programs\\Python\\Python313\\Lib\\site-packages\\IPython\\core\\interactiveshell.py\", line 3667, in run_code\n",
      "    exec(code_obj, self.user_global_ns, self.user_ns)\n",
      "  File \"C:\\Users\\siddh\\AppData\\Local\\Temp\\ipykernel_488\\3448391271.py\", line 24, in <module>\n",
      "    logger.info(f\"This is log entry number {i}\")\n",
      "Message: 'This is log entry number 6050'\n",
      "Arguments: ()\n"
     ]
    }
   ],
   "source": [
    "import logging\n",
    "from logging.handlers import RotatingFileHandler\n",
    "import os\n",
    "\n",
    "# Ensure the log directory exists\n",
    "os.makedirs(\"logs\", exist_ok=True)\n",
    "\n",
    "# Set up a rotating file handler\n",
    "handler = RotatingFileHandler(\n",
    "    \"logs/app.log\", maxBytes=1 * 1024 * 1024, backupCount=3\n",
    ")\n",
    "\n",
    "# Set format\n",
    "formatter = logging.Formatter(\"%(asctime)s - %(levelname)s - %(message)s\")\n",
    "handler.setFormatter(formatter)\n",
    "\n",
    "# Configure the logger\n",
    "logger = logging.getLogger()\n",
    "logger.setLevel(logging.INFO)\n",
    "logger.addHandler(handler)\n",
    "\n",
    "# Log some entries\n",
    "for i in range(10000):\n",
    "    logger.info(f\"This is log entry number {i}\")\n",
    "\n"
   ]
  },
  {
   "cell_type": "markdown",
   "id": "0953d5e1-1ce7-4964-a2b2-91aa7224373c",
   "metadata": {},
   "source": [
    "19. Write a program that handles both IndexError and KeyError using a try-except block"
   ]
  },
  {
   "cell_type": "code",
   "execution_count": 106,
   "id": "05731945-66c9-41f7-973d-da970a43677b",
   "metadata": {},
   "outputs": [
    {
     "name": "stdout",
     "output_type": "stream",
     "text": [
      "Trying to access elements...\n",
      "Error: List index out of range! Please check your list length.\n",
      "\n",
      "Operation attempted. Error handling complete.\n"
     ]
    }
   ],
   "source": [
    "def handle_errors():\n",
    "\n",
    "    my_list = [10, 20, 30]\n",
    "    my_dict = {'a': 1, 'b': 2, 'c': 3}\n",
    "    \n",
    "    try:\n",
    "     \n",
    "        print(\"Trying to access elements...\")\n",
    "        print(\"Fourth element of list:\", my_list[3])  \n",
    "        print(\"Value for key 'd':\", my_dict['d'])     \n",
    "        \n",
    "    except IndexError:\n",
    "        print(\"Error: List index out of range! Please check your list length.\")\n",
    "        \n",
    "    except KeyError:\n",
    "        print(\"Error: Key not found in dictionary! Please check your keys.\")\n",
    "        \n",
    "    finally:\n",
    "        print(\"\\nOperation attempted. Error handling complete.\")\n",
    "\n",
    "handle_errors()"
   ]
  },
  {
   "cell_type": "markdown",
   "id": "d390511f-6143-4f48-92c5-e6fd57cd6635",
   "metadata": {},
   "source": [
    "20. How would you open a file and read its contents using a context manager in Python"
   ]
  },
  {
   "cell_type": "code",
   "execution_count": 107,
   "id": "cd61bb57-3444-4287-b2f0-380810d225c2",
   "metadata": {},
   "outputs": [
    {
     "name": "stdout",
     "output_type": "stream",
     "text": [
      "Hello how are you\n",
      "This is Siddharth Nahata\n",
      "Hey!!\n"
     ]
    }
   ],
   "source": [
    "with open(\"sample.txt\", \"r\") as file:\n",
    "    content = file.read()\n",
    "    print(content)\n"
   ]
  },
  {
   "cell_type": "markdown",
   "id": "4c940256-5960-49b5-885c-14008c61abcf",
   "metadata": {},
   "source": [
    "21. Write a Python program that reads a file and prints the number of occurrences of a specific word"
   ]
  },
  {
   "cell_type": "code",
   "execution_count": 108,
   "id": "7aa28647-dc6d-4c1f-a55f-e33a7cac3191",
   "metadata": {},
   "outputs": [
    {
     "name": "stdout",
     "output_type": "stream",
     "text": [
      "The word 'Hello' occurred 1 times.\n"
     ]
    }
   ],
   "source": [
    "def count_word(filename, word_to_find):\n",
    "    try:\n",
    "        with open(filename, 'r') as file:\n",
    "            content = file.read().lower()\n",
    "            word_count = content.split().count(word_to_find.lower())\n",
    "            print(f\"The word '{word_to_find}' occurred {word_count} times.\")\n",
    "    except FileNotFoundError:\n",
    "        print(\"The file was not found.\")\n",
    "\n",
    "# Example usage\n",
    "count_word(\"sample.txt\", \"Hello\")\n"
   ]
  },
  {
   "cell_type": "markdown",
   "id": "9a3e7277-5db0-438c-bdd3-5e6a259c91c5",
   "metadata": {},
   "source": [
    "22. How can you check if a file is empty before attempting to read its contents"
   ]
  },
  {
   "cell_type": "code",
   "execution_count": 109,
   "id": "13c96d83-d6f2-4662-88cf-6353b27ae10c",
   "metadata": {},
   "outputs": [
    {
     "name": "stdout",
     "output_type": "stream",
     "text": [
      "Hello how are you\n",
      "This is Siddharth Nahata\n",
      "Hey!!\n"
     ]
    }
   ],
   "source": [
    "with open(\"sample.txt\", \"r\") as file:\n",
    "    content = file.read()\n",
    "    if not content.strip():\n",
    "        print(\"The file is empty.\")\n",
    "    else:\n",
    "        print(content)\n"
   ]
  },
  {
   "cell_type": "markdown",
   "id": "775c376e-1361-4019-8b09-d96e1dc4606d",
   "metadata": {},
   "source": [
    "23. Write a Python program that writes to a log file when an error occurs during file handling"
   ]
  },
  {
   "cell_type": "code",
   "execution_count": 110,
   "id": "20e075d3-d2e0-4cde-b899-67156fe28b35",
   "metadata": {},
   "outputs": [
    {
     "name": "stdin",
     "output_type": "stream",
     "text": [
      "Enter a number:  5\n",
      "Enter another number:  5\n"
     ]
    }
   ],
   "source": [
    "import logging\n",
    "\n",
    "logging.basicConfig(\n",
    "    filename='app_log.txt',\n",
    "    level=logging.DEBUG,\n",
    "    format='%(asctime)s - %(levelname)s - %(message)s',\n",
    "    datefmt='%Y-%m-%d %H:%M:%S'\n",
    ")\n",
    "\n",
    "logging.info(\"Program started.\")\n",
    "\n",
    "try:\n",
    "    num1 = int(input(\"Enter a number: \"))\n",
    "    num2 = int(input(\"Enter another number: \"))\n",
    "    result = num1 / num2\n",
    "    logging.info(f\"Division result: {result}\")\n",
    "except ZeroDivisionError as e:\n",
    "    logging.error(\"Attempted to divide by zero.\")\n",
    "except ValueError as e:\n",
    "    logging.error(\"Invalid input. Expected a number.\")\n",
    "except Exception as e:\n",
    "    logging.error(f\"An unexpected error occurred: {e}\")\n",
    "\n",
    "logging.info(\"Program ended.\")\n"
   ]
  },
  {
   "cell_type": "code",
   "execution_count": null,
   "id": "77937b16-baf8-4e69-a26f-652912c55ca2",
   "metadata": {},
   "outputs": [],
   "source": []
  }
 ],
 "metadata": {
  "kernelspec": {
   "display_name": "Python 3 (ipykernel)",
   "language": "python",
   "name": "python3"
  },
  "language_info": {
   "codemirror_mode": {
    "name": "ipython",
    "version": 3
   },
   "file_extension": ".py",
   "mimetype": "text/x-python",
   "name": "python",
   "nbconvert_exporter": "python",
   "pygments_lexer": "ipython3",
   "version": "3.13.3"
  }
 },
 "nbformat": 4,
 "nbformat_minor": 5
}
