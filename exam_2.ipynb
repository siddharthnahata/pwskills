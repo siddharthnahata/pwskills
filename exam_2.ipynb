{
 "cells": [
  {
   "cell_type": "markdown",
   "id": "d7f342c1-b944-434f-8906-16522f1b4843",
   "metadata": {},
   "source": [
    "Basic Question"
   ]
  },
  {
   "cell_type": "markdown",
   "id": "5512e034-5ae3-4abf-a03f-a00d6c0d5636",
   "metadata": {},
   "source": [
    "1. What are data structures, and why are they important"
   ]
  },
  {
   "cell_type": "markdown",
   "id": "04fec2d7-ddfe-4539-9298-30aa619bd66f",
   "metadata": {},
   "source": [
    "Ans- Data structures are built in function in python where we can present the data as we can inform of lists, tuples, strings, tuples\n",
    "and etc. It is important as data is been structured with it for our best."
   ]
  },
  {
   "cell_type": "markdown",
   "id": "85e512e8-9e9a-4ad6-8fda-2f1e55f99dc4",
   "metadata": {},
   "source": [
    "2. Explain the difference between mutable and immutable data types with examples"
   ]
  },
  {
   "cell_type": "markdown",
   "id": "6518fc86-dcb8-4c43-8da7-3d5044879e86",
   "metadata": {},
   "source": [
    "Ans- Key difference between mutable and immutable data types are like mutable can be have flexiblity that after the creation \n",
    "we can add and remove the data, and in immutable we don't have that power as they are fixed"
   ]
  },
  {
   "cell_type": "markdown",
   "id": "3ef857a7-e6e7-4ef1-9143-832ba41adb58",
   "metadata": {},
   "source": [
    "3. What are the main differences between lists and tuples in Python"
   ]
  },
  {
   "cell_type": "markdown",
   "id": "8c3fa6e7-b894-4d40-aa05-bc4670bacee9",
   "metadata": {},
   "source": [
    "Ans- list and tuple are very similar like we can store multiple data types in both. But thers is one big difference that lists are mutable\n",
    "and tuple are immustable as they are meant to be fixed."
   ]
  },
  {
   "cell_type": "markdown",
   "id": "ddfea0db-ef14-4e5b-9735-eda3591e57f9",
   "metadata": {},
   "source": [
    "4. Describe how dictionaries store data"
   ]
  },
  {
   "cell_type": "markdown",
   "id": "2a6ffe94-b69c-4776-80bf-185098156151",
   "metadata": {},
   "source": [
    "Ans: In python Dictionaries are like forms, In simple word. Like there is a dictionary where feilds like name and age and etc.\n",
    "here to access specific field in dictionary we don't have indexing as the field name like \"name\" will be able to access name field"
   ]
  },
  {
   "cell_type": "markdown",
   "id": "3b592c1e-c439-4968-8a2d-696ceea4a777",
   "metadata": {},
   "source": [
    "5. Why might you use a set instead of a list in Python"
   ]
  },
  {
   "cell_type": "markdown",
   "id": "d259caaf-927b-45de-8a7c-79d6ac47d1a5",
   "metadata": {},
   "source": [
    "Ans- Using sets instead of list because sets automatically removes the duplicate fields and return the value and it is also \n",
    "faster to find look up value"
   ]
  },
  {
   "cell_type": "markdown",
   "id": "4e06179c-c249-41da-b63e-45fa286bcb9b",
   "metadata": {},
   "source": [
    "6. What is a string in Python, and how is it different from a list"
   ]
  },
  {
   "cell_type": "markdown",
   "id": "38ea08a6-14c2-404a-9850-38a4cb0740aa",
   "metadata": {},
   "source": [
    "Ans- Strings in python are like group of words or numbers inside double or single quotes and lists are like group of multiple data type \n",
    "in sequence like we can have multiple strings in list and also we can have floats, intgers and boolean inside a list along"
   ]
  },
  {
   "cell_type": "markdown",
   "id": "b9edaa3f-218c-4c09-947e-469e62518187",
   "metadata": {},
   "source": [
    "7. How do tuples ensure data integrity in Python"
   ]
  },
  {
   "cell_type": "markdown",
   "id": "8e831362-5cd7-44ee-b577-683ce7f7901a",
   "metadata": {},
   "source": [
    "Ans- See like tuple are creation can not be modified as they are immutable so data can't be added removed after the creation of the \n",
    "tuples. Hence tuple after creation can't be modified so it maintian intergrity of the data in python."
   ]
  },
  {
   "cell_type": "markdown",
   "id": "0fcf4a1a-685e-41cc-9e02-fef7ced71b97",
   "metadata": {},
   "source": [
    "8. What is a hash table, and how does it relate to dictionaries in Python"
   ]
  },
  {
   "cell_type": "markdown",
   "id": "751f8ec8-b0e1-4a85-9d25-86a7168da9ac",
   "metadata": {},
   "source": [
    "Ans- Hash tables is an data structure that stores the key value add helps in fater access to the keys. Like in Dictionary \n",
    "we assign value with hash which act as index and are stored in sequence and also faster to access."
   ]
  },
  {
   "cell_type": "markdown",
   "id": "dab53207-418b-40d1-bec8-2eb240634ebe",
   "metadata": {},
   "source": [
    "9. Can lists contain different data types in Python"
   ]
  },
  {
   "cell_type": "markdown",
   "id": "0831a68d-5d6f-4163-8198-9bf0722761b6",
   "metadata": {},
   "source": [
    "Ans- Yes, Lists can contain multiple data types like strings, float, intergers."
   ]
  },
  {
   "cell_type": "markdown",
   "id": "4db27087-e7ba-4c74-a64d-b32d354eafe6",
   "metadata": {},
   "source": [
    "10. Explain why strings are immutable in Python"
   ]
  },
  {
   "cell_type": "markdown",
   "id": "ec147894-2265-4de2-adb1-4989c7ada1f8",
   "metadata": {},
   "source": [
    "Ans- strings in python are immutable as once created can't be modified. This helps and insure data intergrity and make strings hasable in python."
   ]
  },
  {
   "cell_type": "markdown",
   "id": "c54cf50b-f6dc-4632-9a2c-55ef8affb754",
   "metadata": {},
   "source": [
    "11. What advantages do dictionaries offer over lists for certain tasks"
   ]
  },
  {
   "cell_type": "markdown",
   "id": "e6184c20-1f95-46c5-ba44-795e36479c06",
   "metadata": {},
   "source": [
    "Ans- See like dictionaries offers a great feature that it works on \"key: value\" base like a forum. It make easy to access the elements \n",
    "as they there index becomes the \"key\". List are also useful but it does not move around \"key: value\" operation as dictionary."
   ]
  },
  {
   "cell_type": "markdown",
   "id": "d7248cf6-5b6f-46a9-9a94-bf31715e4a9f",
   "metadata": {},
   "source": [
    "12. Describe a scenario where using a tuple would be preferable over a list"
   ]
  },
  {
   "cell_type": "markdown",
   "id": "670f75fb-beb1-43ba-9fa9-2fc08ddee57b",
   "metadata": {},
   "source": [
    "Ans- Like as we know tuples are immutable and lists are mutable and from that we can create an great scenrio.\n",
    "For example We are running a broking company and we have crenditals of our customer like aadhar, pan, DOB(mostly not changed) which are not likely to be changed but data like address, name, and etc can be changed but not often. So, for credentials like aadhar, pan, DOB tuples are best as we don't want to modify that. "
   ]
  },
  {
   "cell_type": "markdown",
   "id": "f7d88036-dd0c-4666-b45a-dfa68da6c067",
   "metadata": {},
   "source": [
    "13. How do sets handle duplicate values in Python"
   ]
  },
  {
   "cell_type": "markdown",
   "id": "d88692ce-8c77-468d-a8ae-98f9aec316b3",
   "metadata": {},
   "source": [
    "Ans- In Python, sets automatically remove duplicate values. When you add elements to a set, any duplicates are ignored and only unique elements are kept."
   ]
  },
  {
   "cell_type": "markdown",
   "id": "cd8d6344-83e2-4273-97e7-455ec37ad42e",
   "metadata": {},
   "source": [
    "14. How does the “in” keyword work differently for lists and dictionaries"
   ]
  },
  {
   "cell_type": "markdown",
   "id": "9fb17314-3b4b-4864-ac76-8f9992ed2cc1",
   "metadata": {},
   "source": [
    "Ans- See like in list \"in\" works like checking wheather the $value$ is present or not note the term $value$. But in dictionaries \"in\" will\n",
    "not check the $value$ it will only go through \"keys\".  "
   ]
  },
  {
   "cell_type": "code",
   "execution_count": 4,
   "id": "02b8499d-bd21-4a23-8802-e56855f49485",
   "metadata": {},
   "outputs": [
    {
     "name": "stdout",
     "output_type": "stream",
     "text": [
      "True\n",
      "False\n",
      "True\n"
     ]
    }
   ],
   "source": [
    "#For Example we have name and age of a person \n",
    "\n",
    "person_list = [\"Siddharth\", 18]\n",
    "person_dict = {\"name\": \"Siddharth\", \"age\": 18}\n",
    "\n",
    "print(\"Siddharth\" in person_list) # will pass true \n",
    "print(\"Siddharth\" in person_dict) # will pass False \n",
    "print(\"name\" in person_dict) # will pass true\n",
    "#hence we have learned tha in does not access values in dictionaries it only gets the key"
   ]
  },
  {
   "cell_type": "markdown",
   "id": "3b6a1f79-61fd-4c82-b85f-f5df59aa8f62",
   "metadata": {},
   "source": [
    "15. Can you modify the elements of a tuple? Explain why or why not"
   ]
  },
  {
   "cell_type": "markdown",
   "id": "52502f81-04d6-4dfa-b748-38d72a9df8b0",
   "metadata": {},
   "source": [
    "Ans- No, we know that tuples are immuatable. They are meant for data intergrity and not be modified after the creation."
   ]
  },
  {
   "cell_type": "markdown",
   "id": "d5c88091-2674-480a-aa4e-4f71472005e0",
   "metadata": {},
   "source": [
    "16. What is a nested dictionary, and give an example of its use case"
   ]
  },
  {
   "cell_type": "markdown",
   "id": "270bc47e-e85d-42da-b0c3-a04267e52af9",
   "metadata": {},
   "source": [
    "Ans- Nested distionary a one of the best thing in python data structure. Like we can store keys and values in some values of keys.\n",
    "For Example i have a store and i have marked everyitem with barcode in barcode i have name of product and price of the same. I have created a project on it."
   ]
  },
  {
   "cell_type": "code",
   "execution_count": 5,
   "id": "e9267495-5abe-4bf8-bee3-75d207e364f9",
   "metadata": {},
   "outputs": [
    {
     "name": "stdout",
     "output_type": "stream",
     "text": [
      "\n",
      " Bill for cus_1 is:\n",
      "Item: Layz Chips  Rate: 20\n",
      "Item: Budwiser Beer  Rate: 230\n",
      "Your Cart Total: 250\n",
      "\n",
      " Bill for cus_2  is:\n",
      "Item: Banana Chips  Rate: 60\n",
      "Item: Red Bull  Rate: 125\n",
      "Item: Layz Chips  Rate: 20\n",
      "Item: Budwiser Beer  Rate: 230\n",
      "Your Cart Total: 435\n"
     ]
    }
   ],
   "source": [
    "#Shopping biller\n",
    "\n",
    "shope_barcode_list = {\n",
    "    \"P001\": {\"item_name\": \"Banana Chips\", \"Price\": 60},\n",
    "    \"P002\": {\"item_name\": \"Layz Chips\", \"Price\": 20},\n",
    "    \"P003\": {\"item_name\": \"Maggi Medium Pack\", \"Price\": 65},\n",
    "    \"P004\": {\"item_name\": \"Oreo Large\", \"Price\": 30},\n",
    "    \"P005\": {\"item_name\": \"Red Bull\", \"Price\": 125},\n",
    "    \"P006\": {\"item_name\": \"Budwiser Beer\", \"Price\": 230}\n",
    "}\n",
    "\n",
    "customers_inline = {\n",
    "    \"cus_1\": [\"P002\", \"P006\"], \n",
    "    \"cus_2 \": [\"P001\", \"P005\", \"P002\", \"P006\"]\n",
    "}\n",
    "cart_total = 0\n",
    "\n",
    "for customer_id in customers_inline:\n",
    "  print(f\"\\n Bill for {customer_id} is:\")\n",
    "  cart_total = 0\n",
    "  for barcode in customers_inline[customer_id]:\n",
    "    item = shope_barcode_list[barcode]\n",
    "    print(f\"Item: {item['item_name']}  Rate: {item['Price']}\")\n",
    "    cart_total += item['Price']\n",
    "  print(f\"Your Cart Total: {cart_total}\")\n"
   ]
  },
  {
   "cell_type": "markdown",
   "id": "c45c2599-ee53-4ab1-ac1b-d1166d03d552",
   "metadata": {},
   "source": [
    "We can see that nested dictionary made so easy to mange data cleanly"
   ]
  },
  {
   "cell_type": "markdown",
   "id": "c43717b7-7da8-4eef-965d-4f91c3f635d1",
   "metadata": {},
   "source": [
    "17. Describe the time complexity of accessing elements in a dictionary"
   ]
  },
  {
   "cell_type": "markdown",
   "id": "50c325a6-f6b0-44d6-8b33-ed6de0084366",
   "metadata": {},
   "source": [
    "Ans- We know that dictionaries are \"key: value\" data structure where key also act as index of the values. So, the key are converted into the \n",
    "hashs and time complexcity come in O(1). Here O represt data scale or time which will be taken to process data"
   ]
  },
  {
   "cell_type": "markdown",
   "id": "b525ccef-e61e-4486-80b4-8e67b3f65d79",
   "metadata": {},
   "source": [
    "18. In what situations are lists preferred over dictionaries"
   ]
  },
  {
   "cell_type": "markdown",
   "id": "d28e56e3-481e-46ee-ab7c-00244345d5ee",
   "metadata": {},
   "source": [
    "Ans- List is prefered when data is small sequencial and orderd. So, It make easy to use in form of index and directly geting value istead of keys. Also in dictionaries data is overwritten but in list it does not happen."
   ]
  },
  {
   "cell_type": "code",
   "execution_count": 6,
   "id": "876b8439-20ae-401d-84aa-71c3f2a1fbf4",
   "metadata": {},
   "outputs": [
    {
     "name": "stdout",
     "output_type": "stream",
     "text": [
      "['Siddharth', 18, 'Sidhu']\n",
      "{'name': 'Sidhu', 'age': 18}\n"
     ]
    }
   ],
   "source": [
    "#For Example\n",
    "person_detial_list = [\"Siddharth\", 18, \"Sidhu\"] #name is changed in future\n",
    "person_detial_dict = {\"name\": \"Siddharth\", \"age\": 18, \"name\": \"Sidhu\"}\n",
    "\n",
    "print(person_detial_list)\n",
    "print(person_detial_dict)"
   ]
  },
  {
   "cell_type": "markdown",
   "id": "23e2f491-fa68-44f8-a59c-a877c6aadb5a",
   "metadata": {},
   "source": [
    "19. Why are dictionaries considered unordered, and how does that affect data retrieval."
   ]
  },
  {
   "cell_type": "markdown",
   "id": "5834d225-a3e0-4b24-928b-f1596fa2df42",
   "metadata": {},
   "source": [
    "Ans- See dictionaries are unordered as there is no such index for it the data is meant for faster access. like in list we can access data by indexing like list[0] but in dict it will throw error"
   ]
  },
  {
   "cell_type": "markdown",
   "id": "757be41a-449e-4e49-804e-be02921eb3f7",
   "metadata": {},
   "source": [
    "20. Explain the difference between a list and a dictionary in terms of data retrieval"
   ]
  },
  {
   "cell_type": "markdown",
   "id": "c0e5b641-b918-4d52-b14f-a0502711fabc",
   "metadata": {},
   "source": [
    "Ans- Very simple in list data can be fected by indexing like list[0] but whereas in dictionary it will throw error while trying to access value \n",
    "For Example"
   ]
  },
  {
   "cell_type": "code",
   "execution_count": 8,
   "id": "8c4880c1-be87-48b5-907e-8cbb9de7132f",
   "metadata": {},
   "outputs": [
    {
     "ename": "KeyError",
     "evalue": "0",
     "output_type": "error",
     "traceback": [
      "\u001b[31m---------------------------------------------------------------------------\u001b[39m",
      "\u001b[31mKeyError\u001b[39m                                  Traceback (most recent call last)",
      "\u001b[36mCell\u001b[39m\u001b[36m \u001b[39m\u001b[32mIn[8]\u001b[39m\u001b[32m, line 3\u001b[39m\n\u001b[32m      1\u001b[39m my_dict = {\u001b[33m\"\u001b[39m\u001b[33mname\u001b[39m\u001b[33m\"\u001b[39m: \u001b[33m\"\u001b[39m\u001b[33mSiddharth\u001b[39m\u001b[33m\"\u001b[39m, \u001b[33m\"\u001b[39m\u001b[33mage\u001b[39m\u001b[33m\"\u001b[39m: \u001b[32m18\u001b[39m }\n\u001b[32m----> \u001b[39m\u001b[32m3\u001b[39m \u001b[38;5;28mprint\u001b[39m(\u001b[43mmy_dict\u001b[49m\u001b[43m[\u001b[49m\u001b[32;43m0\u001b[39;49m\u001b[43m]\u001b[49m)\n",
      "\u001b[31mKeyError\u001b[39m: 0"
     ]
    }
   ],
   "source": [
    "my_dict = {\"name\": \"Siddharth\", \"age\": 18 }\n",
    "\n",
    "print(my_dict[0])"
   ]
  },
  {
   "cell_type": "markdown",
   "id": "1927fffd-8cf2-4348-bedc-43afab169e4e",
   "metadata": {},
   "source": [
    "Practical Question"
   ]
  },
  {
   "cell_type": "markdown",
   "id": "77945349-17f3-400e-bf03-d30d54acf934",
   "metadata": {},
   "source": [
    "1. Write a code to create a string with your name and print it"
   ]
  },
  {
   "cell_type": "code",
   "execution_count": 9,
   "id": "eb2bb581-199e-495e-8e07-caee0d4d1dca",
   "metadata": {},
   "outputs": [
    {
     "name": "stdout",
     "output_type": "stream",
     "text": [
      "Siddharth is great\n"
     ]
    }
   ],
   "source": [
    "name = \"Siddharth\"\n",
    "\n",
    "print(f\"{name} is great\")"
   ]
  },
  {
   "cell_type": "markdown",
   "id": "b5e195f0-1cb0-4672-be8f-2d4101d35fab",
   "metadata": {},
   "source": [
    "2. Write a code to find the length of the string \"Hello World\""
   ]
  },
  {
   "cell_type": "code",
   "execution_count": 10,
   "id": "bedc0af9-01c5-4434-8ae5-a3bb4bb0082e",
   "metadata": {},
   "outputs": [
    {
     "name": "stdout",
     "output_type": "stream",
     "text": [
      "11\n"
     ]
    }
   ],
   "source": [
    "print(len(\"Hello World\"))"
   ]
  },
  {
   "cell_type": "markdown",
   "id": "59afee51-a4af-4d35-ac66-62737fafc2b8",
   "metadata": {},
   "source": [
    "3. Write a code to slice the first 3 characters from the string \"Python Programming\""
   ]
  },
  {
   "cell_type": "code",
   "execution_count": 12,
   "id": "ac93995c-c030-431a-9906-e0f6920c0b3a",
   "metadata": {},
   "outputs": [
    {
     "name": "stdout",
     "output_type": "stream",
     "text": [
      "Pyt\n"
     ]
    }
   ],
   "source": [
    "print(\"Python Programming\"[0:3])"
   ]
  },
  {
   "cell_type": "markdown",
   "id": "fe434bdb-71b0-4b60-aff8-095b9556c9be",
   "metadata": {},
   "source": [
    "4. Write a code to convert the string \"hello\" to uppercase"
   ]
  },
  {
   "cell_type": "code",
   "execution_count": 17,
   "id": "3e7fec51-a0cb-46cb-953d-9bd09bd3bac2",
   "metadata": {},
   "outputs": [
    {
     "name": "stdout",
     "output_type": "stream",
     "text": [
      "HELLO\n"
     ]
    }
   ],
   "source": [
    "print(\"hello\".upper())"
   ]
  },
  {
   "cell_type": "markdown",
   "id": "54e54782-68b9-4af8-ae0d-657ff28727ec",
   "metadata": {},
   "source": [
    "5. Write a code to replace the word \"apple\" with \"orange\" in the string \"I like apple\""
   ]
  },
  {
   "cell_type": "code",
   "execution_count": 20,
   "id": "80682b0f-0f14-440d-ada2-a7abaf2fbd90",
   "metadata": {},
   "outputs": [
    {
     "name": "stdout",
     "output_type": "stream",
     "text": [
      "I like orange\n"
     ]
    }
   ],
   "source": [
    "word_statement = \"I like apple\"\n",
    "print(word_statement.replace(\"apple\", \"orange\"))\n"
   ]
  },
  {
   "cell_type": "markdown",
   "id": "814dd901-8c92-4682-a3af-adb8e9666963",
   "metadata": {},
   "source": [
    "6. Write a code to create a list with numbers 1 to 5 and print it"
   ]
  },
  {
   "cell_type": "code",
   "execution_count": 25,
   "id": "2bc0e734-3f54-46ff-9412-10c2fd2e30ff",
   "metadata": {},
   "outputs": [
    {
     "name": "stdout",
     "output_type": "stream",
     "text": [
      "[1, 2, 3, 4, 5]\n"
     ]
    }
   ],
   "source": [
    "my_list = [1, 2, 3, 4, 5]\n",
    "print(my_list)"
   ]
  },
  {
   "cell_type": "markdown",
   "id": "f000fdbf-9dfa-4ace-af41-f0930fdf0654",
   "metadata": {},
   "source": [
    "7. Write a code to append the number 10 to the list [1, 2, 3, 4]"
   ]
  },
  {
   "cell_type": "code",
   "execution_count": 26,
   "id": "77e3433c-98a1-4cfa-b7d6-1b87f0dc005f",
   "metadata": {},
   "outputs": [
    {
     "name": "stdout",
     "output_type": "stream",
     "text": [
      "[1, 2, 3, 4, 5, 10]\n"
     ]
    }
   ],
   "source": [
    "my_list = [1, 2, 3, 4, 5]\n",
    "my_list.append(10)\n",
    "\n",
    "print(my_list)"
   ]
  },
  {
   "cell_type": "markdown",
   "id": "aa91a41b-dd48-4e5a-9511-419b4a44b7b0",
   "metadata": {},
   "source": [
    "8. Write a code to remove the number 3 from the list [1, 2, 3, 4, 5]"
   ]
  },
  {
   "cell_type": "code",
   "execution_count": 27,
   "id": "d83cea25-2319-4955-82f8-569e956ef461",
   "metadata": {},
   "outputs": [
    {
     "name": "stdout",
     "output_type": "stream",
     "text": [
      "[1, 2, 4, 5]\n"
     ]
    }
   ],
   "source": [
    "my_list = [1, 2, 3, 4, 5]\n",
    "my_list.remove(3)\n",
    "\n",
    "print(my_list)"
   ]
  },
  {
   "cell_type": "markdown",
   "id": "020a321d-e0d9-4b6d-9a7e-2ab42a90eda3",
   "metadata": {},
   "source": [
    "9. Write a code to access the second element in the list ['a', 'b', 'c', 'd']"
   ]
  },
  {
   "cell_type": "code",
   "execution_count": 28,
   "id": "cce73d6a-0f85-499e-96ae-ac7fe0f89058",
   "metadata": {},
   "outputs": [
    {
     "name": "stdout",
     "output_type": "stream",
     "text": [
      "b\n"
     ]
    }
   ],
   "source": [
    "my_list = ['a', 'b', 'c', 'd']\n",
    " \n",
    "print(my_list[1])"
   ]
  },
  {
   "cell_type": "markdown",
   "id": "72041fbf-6f93-4deb-a819-febfb0e252d1",
   "metadata": {},
   "source": [
    "10. Write a code to reverse the list [10, 20, 30, 40, 50]."
   ]
  },
  {
   "cell_type": "code",
   "execution_count": 29,
   "id": "2bab7370-707c-4a0b-a58c-5d6ecbf8fc6a",
   "metadata": {},
   "outputs": [
    {
     "name": "stdout",
     "output_type": "stream",
     "text": [
      "[50, 40, 30, 20, 10]\n"
     ]
    }
   ],
   "source": [
    "my_list = [10, 20, 30, 40, 50]\n",
    "print(my_list[::-1])"
   ]
  },
  {
   "cell_type": "markdown",
   "id": "edb277de-ea61-4cae-869e-6c4d0dbf6649",
   "metadata": {},
   "source": [
    "11. Write a code to create a tuple with the elements 100, 200, 300 and print it"
   ]
  },
  {
   "cell_type": "code",
   "execution_count": 30,
   "id": "4be4d092-e35e-4bf8-85fa-ade0e59a06a5",
   "metadata": {},
   "outputs": [
    {
     "name": "stdout",
     "output_type": "stream",
     "text": [
      "(100, 200, 300)\n"
     ]
    }
   ],
   "source": [
    "my_tuple = (100, 200, 300)\n",
    "\n",
    "print(my_tuple)"
   ]
  },
  {
   "cell_type": "markdown",
   "id": "e7611746-a4d9-4b05-badb-fcb0e3b11a2d",
   "metadata": {},
   "source": [
    "12. Write a code to access the second-to-last element of the tuple ('red', 'green', 'blue', 'yellow')."
   ]
  },
  {
   "cell_type": "code",
   "execution_count": 32,
   "id": "f9246623-dbba-4e06-89e4-334aade4bc97",
   "metadata": {},
   "outputs": [
    {
     "name": "stdout",
     "output_type": "stream",
     "text": [
      "blue\n"
     ]
    }
   ],
   "source": [
    "my_tuple = ('red', 'green', 'blue', 'yellow')\n",
    "\n",
    "print(my_tuple[-2])"
   ]
  },
  {
   "cell_type": "markdown",
   "id": "89fc8d2a-7826-4c54-b422-9ab0bbdb5041",
   "metadata": {},
   "source": [
    "13. Write a code to find the minimum number in the tuple (10, 20, 5, 15)"
   ]
  },
  {
   "cell_type": "code",
   "execution_count": 34,
   "id": "251efe36-b46f-481a-a9a8-a3c6cbeaeb19",
   "metadata": {},
   "outputs": [
    {
     "name": "stdout",
     "output_type": "stream",
     "text": [
      "5\n"
     ]
    }
   ],
   "source": [
    "my_tuple = (10, 20, 5, 15)\n",
    "\n",
    "print(min(my_tuple))"
   ]
  },
  {
   "cell_type": "markdown",
   "id": "07ffd097-6483-45f1-b72d-c0cce87d83a1",
   "metadata": {},
   "source": [
    "14. Write a code to find the index of the element \"cat\" in the tuple ('dog', 'cat', 'rabbit')"
   ]
  },
  {
   "cell_type": "code",
   "execution_count": 38,
   "id": "d0f53ff2-b7d2-4d07-81c4-95408f67af60",
   "metadata": {},
   "outputs": [
    {
     "name": "stdout",
     "output_type": "stream",
     "text": [
      "1\n"
     ]
    }
   ],
   "source": [
    "animals = ('dog', 'cat', 'rabbit')\n",
    "index = animals.index('cat')\n",
    "print(index)"
   ]
  },
  {
   "cell_type": "markdown",
   "id": "9004597f-65b7-45df-86e5-e6b32e036f3b",
   "metadata": {},
   "source": [
    "15. Write a code to create a tuple containing three different fruits and check if \"kiwi\" is in it"
   ]
  },
  {
   "cell_type": "code",
   "execution_count": 40,
   "id": "12e98b01-9592-4766-8ccb-fc555e09aa3b",
   "metadata": {},
   "outputs": [
    {
     "name": "stdout",
     "output_type": "stream",
     "text": [
      "False\n"
     ]
    }
   ],
   "source": [
    "#If Not There\n",
    "my_tuple = (\"Banana\", \"Mango\", \"Organge\")\n",
    "\n",
    "print(\"Kiwi\" in my_tuple)"
   ]
  },
  {
   "cell_type": "code",
   "execution_count": 41,
   "id": "4ab062b7-c0c6-4eef-8fe3-b9a486cdf7d2",
   "metadata": {},
   "outputs": [
    {
     "name": "stdout",
     "output_type": "stream",
     "text": [
      "True\n"
     ]
    }
   ],
   "source": [
    "#If There\n",
    "my_tuple = (\"Kiwi\", \"Mango\", \"Organge\")\n",
    "\n",
    "print(\"Kiwi\" in my_tuple)"
   ]
  },
  {
   "cell_type": "markdown",
   "id": "8edabfd5-1907-43f8-820b-a76d36c44b15",
   "metadata": {},
   "source": [
    "16.  Write a code to create a set with the elements 'a', 'b', 'c' and print it"
   ]
  },
  {
   "cell_type": "code",
   "execution_count": 42,
   "id": "7c45ae2a-76fd-4b9d-9318-33df88bcf8f8",
   "metadata": {},
   "outputs": [
    {
     "name": "stdout",
     "output_type": "stream",
     "text": [
      "{'b', 'a', 'c'}\n"
     ]
    }
   ],
   "source": [
    "my_set = {'a', 'b', 'c'}\n",
    "\n",
    "print(my_set)"
   ]
  },
  {
   "cell_type": "markdown",
   "id": "02efa662-bd94-43d0-b887-272b981d5450",
   "metadata": {},
   "source": [
    "17. Write a code to clear all elements from the set {1, 2, 3, 4, 5}"
   ]
  },
  {
   "cell_type": "code",
   "execution_count": 45,
   "id": "d01a88cb-e077-426c-afc3-513666177efe",
   "metadata": {},
   "outputs": [
    {
     "name": "stdout",
     "output_type": "stream",
     "text": [
      "{1, 2, 3, 4, 5}\n",
      "set()\n"
     ]
    }
   ],
   "source": [
    "my_set = {1, 2, 3, 4, 5}\n",
    "print(my_set)\n",
    "my_set.clear()\n",
    "print(my_set) "
   ]
  },
  {
   "cell_type": "markdown",
   "id": "79de0330-6ea7-4b52-a926-06d78deb607a",
   "metadata": {},
   "source": [
    "18. Write a code to remove the element 4 from the set {1, 2, 3, 4}"
   ]
  },
  {
   "cell_type": "code",
   "execution_count": null,
   "id": "a6443e34-268c-4da0-ad1f-99fac0a709dc",
   "metadata": {},
   "outputs": [],
   "source": [
    "my_set = {1, 2, 3, 4}"
   ]
  },
  {
   "cell_type": "markdown",
   "id": "94368ca2-b817-47ac-bcf7-51065a13a08e",
   "metadata": {},
   "source": [
    "19. Write a code to find the union of two sets {1, 2, 3} and {3, 4, 5}"
   ]
  },
  {
   "cell_type": "code",
   "execution_count": 46,
   "id": "ff7affb4-51b0-4fcb-a594-8b22fe22f400",
   "metadata": {},
   "outputs": [
    {
     "name": "stdout",
     "output_type": "stream",
     "text": [
      "{1, 2, 3, 4, 5}\n"
     ]
    }
   ],
   "source": [
    "my_set_1 = {1, 2, 3}  \n",
    "my_set_2 = {3, 4, 5}\n",
    "\n",
    "print(my_set_1 | my_set_2)"
   ]
  },
  {
   "cell_type": "markdown",
   "id": "c100a02b-15a8-4d09-a643-6c0a51bb2307",
   "metadata": {},
   "source": [
    "20. Write a code to find the intersection of two sets {1, 2, 3} and {2, 3, 4}"
   ]
  },
  {
   "cell_type": "code",
   "execution_count": 47,
   "id": "306a6e65-e844-4c95-81e3-748fe42336a1",
   "metadata": {},
   "outputs": [
    {
     "name": "stdout",
     "output_type": "stream",
     "text": [
      "{2, 3}\n"
     ]
    }
   ],
   "source": [
    "my_set_1 = {1, 2, 3}  \n",
    "my_set_2 = {2, 3, 4}\n",
    "\n",
    "print(my_set_1 & my_set_2)"
   ]
  },
  {
   "cell_type": "markdown",
   "id": "579a151f-dfde-4c0e-8943-09f0482d733b",
   "metadata": {},
   "source": [
    "21. Write a code to create a dictionary with the keys \"name\", \"age\", and \"city\", and print it"
   ]
  },
  {
   "cell_type": "code",
   "execution_count": 48,
   "id": "711324f3-0cc9-4cac-975f-020f374dbe4c",
   "metadata": {},
   "outputs": [
    {
     "name": "stdout",
     "output_type": "stream",
     "text": [
      "{'name': 'Siddharth', 'age': 18, 'city': 'Jodhpur'}\n"
     ]
    }
   ],
   "source": [
    "my_dict = {\"name\": \"Siddharth\", \"age\": 18, \"city\": \"Jodhpur\"}\n",
    "print(my_dict)"
   ]
  },
  {
   "cell_type": "markdown",
   "id": "1b9a6bf2-9a3a-4eab-97c3-033abb192750",
   "metadata": {},
   "source": [
    "22. Write a code to add a new key-value pair \"country\": \"USA\" to the dictionary {'name': 'John', 'age': 25}."
   ]
  },
  {
   "cell_type": "code",
   "execution_count": 57,
   "id": "2da22187-525a-4253-88c4-0e987207813b",
   "metadata": {},
   "outputs": [
    {
     "name": "stdout",
     "output_type": "stream",
     "text": [
      "{'name': 'John', 'age': 25}\n",
      "{'name': 'John', 'age': 25, 'country': 'USA'}\n"
     ]
    }
   ],
   "source": [
    "my_dict_22 = {'name': 'John', 'age': 25}\n",
    "print(my_dict_22) #before change\n",
    "\n",
    "my_dict_22[\"country\"] = \"USA\"\n",
    "print(my_dict_22)"
   ]
  },
  {
   "cell_type": "markdown",
   "id": "d9184bbc-9cc7-4408-9888-b3f59159550d",
   "metadata": {},
   "source": [
    "23. Write a code to access the value associated with the key \"name\" in the dictionary {'name': 'Alice', 'age': 30}."
   ]
  },
  {
   "cell_type": "code",
   "execution_count": 56,
   "id": "58e29395-7983-4258-b791-197f3388e5ca",
   "metadata": {},
   "outputs": [
    {
     "name": "stdout",
     "output_type": "stream",
     "text": [
      "Alice\n"
     ]
    }
   ],
   "source": [
    "my_dict_23 = {'name': 'Alice', 'age': 30}\n",
    "\n",
    "print(my_dict_23['name'])"
   ]
  },
  {
   "cell_type": "markdown",
   "id": "570671ee-ea8f-49a0-8b9a-2ebb62a933d8",
   "metadata": {},
   "source": [
    "24. Write a code to remove the key \"age\" from the dictionary {'name': 'Bob', 'age': 22, 'city': 'New York'}."
   ]
  },
  {
   "cell_type": "code",
   "execution_count": 60,
   "id": "6a8306b8-901b-41e5-bf6a-4b064ed33ad0",
   "metadata": {},
   "outputs": [
    {
     "name": "stdout",
     "output_type": "stream",
     "text": [
      "{'name': 'Bob', 'city': 'New York'}\n"
     ]
    }
   ],
   "source": [
    "my_dict_24 = {'name': 'Bob', 'age': 22, 'city': 'New York'}\n",
    "my_dict_24.pop('age')\n",
    "print(my_dict_24)"
   ]
  },
  {
   "cell_type": "markdown",
   "id": "61025c3a-db51-4815-9466-770784f178c7",
   "metadata": {},
   "source": [
    "25. Write a code to check if the key \"city\" exists in the dictionary {'name': 'Alice', 'city': 'Paris'}"
   ]
  },
  {
   "cell_type": "code",
   "execution_count": 61,
   "id": "065a5042-71e5-4a8d-9e8d-cd5512b639f7",
   "metadata": {},
   "outputs": [
    {
     "name": "stdout",
     "output_type": "stream",
     "text": [
      "True\n"
     ]
    }
   ],
   "source": [
    "my_dict_25 = {'name': 'Alice', 'city': 'Paris'}\n",
    "\n",
    "print(\"city\" in my_dict_25)"
   ]
  },
  {
   "cell_type": "markdown",
   "id": "dc4d8a8e-ebb3-4c07-8350-0db7616a8281",
   "metadata": {},
   "source": [
    "26. Write a code to create a list, a tuple, and a dictionary, and print them all"
   ]
  },
  {
   "cell_type": "code",
   "execution_count": 63,
   "id": "583e2a6b-846f-479e-a034-e942e72dcc07",
   "metadata": {},
   "outputs": [
    {
     "name": "stdout",
     "output_type": "stream",
     "text": [
      "<class 'list'> ['Siddharth', 18, 'Jodhpur', 'male']\n",
      "<class 'tuple'> ('Siddharth', 18, 'Jodhpur', 'male')\n",
      "<class 'dict'> {'name': 'Siddharth', 'age': 18, 'city': 'Jodhpur', 'sex': 'male'}\n"
     ]
    }
   ],
   "source": [
    "my_list_26 = [\"Siddharth\", 18, \"Jodhpur\", \"male\"] \n",
    "my_tuple_26 = (\"Siddharth\", 18, \"Jodhpur\", \"male\")\n",
    "my_dict_26 = {\"name\": \"Siddharth\", \"age\": 18, \"city\": \"Jodhpur\", \"sex\": \"male\"}\n",
    "\n",
    "\n",
    "print(type(my_list_26), my_list_26)\n",
    "print(type(my_tuple_26), my_tuple_26)\n",
    "print(type(my_dict_26), my_dict_26)"
   ]
  },
  {
   "cell_type": "markdown",
   "id": "e5c10e72-1a74-4a17-8acb-99da278eac04",
   "metadata": {},
   "source": [
    "27. Write a code to create a list of 5 random numbers between 1 and 100, sort it in ascending order, and print the\n",
    "result.(replaced)"
   ]
  },
  {
   "cell_type": "code",
   "execution_count": 65,
   "id": "017340d7-d45b-4a2c-8daf-baa886d51968",
   "metadata": {},
   "outputs": [
    {
     "name": "stdout",
     "output_type": "stream",
     "text": [
      "[1, 13, 23, 55, 98]\n"
     ]
    }
   ],
   "source": [
    "my_list_27 = [1, 55, 23, 98, 13]\n",
    "my_list_27.sort()\n",
    "\n",
    "print(my_list_27)"
   ]
  },
  {
   "cell_type": "markdown",
   "id": "d22755ed-7276-4a7f-a0f4-d333f8fa3d7b",
   "metadata": {},
   "source": [
    "28. Write a code to create a list with strings and print the element at the third index"
   ]
  },
  {
   "cell_type": "code",
   "execution_count": 66,
   "id": "8a0127f0-8709-487f-8a52-2ec5110e7609",
   "metadata": {},
   "outputs": [
    {
     "name": "stdout",
     "output_type": "stream",
     "text": [
      "3\n"
     ]
    }
   ],
   "source": [
    "my_list_28 = [\"0\", \"1\", \"2\", \"3\", \"4\"]\n",
    "\n",
    "print(my_list_28[3])"
   ]
  },
  {
   "cell_type": "markdown",
   "id": "2b74af2d-4344-4ce4-a49a-0aedb6571241",
   "metadata": {},
   "source": [
    "29. Write a code to combine two dictionaries into one and print the result."
   ]
  },
  {
   "cell_type": "code",
   "execution_count": 67,
   "id": "5231f4bf-0b11-4495-b8bf-0a80b71b010c",
   "metadata": {},
   "outputs": [
    {
     "name": "stdout",
     "output_type": "stream",
     "text": [
      "{'name': 'Siddharth', 'age': 18, 'city': 'Jodhpur', 'sex': 'Male'}\n"
     ]
    }
   ],
   "source": [
    "my_dict_29 = {\"name\": \"Siddharth\", \"age\": 18, \"city\": \"Jodhpur\"}\n",
    "\n",
    "my_dict_29_2 = {\"sex\": \"Male\"}\n",
    "\n",
    "combined_dict = {**my_dict_29, **my_dict_29_2}\n",
    "\n",
    "print(combined_dict)\n"
   ]
  },
  {
   "cell_type": "markdown",
   "id": "93b1e448-60bd-4191-8682-b767114b33ef",
   "metadata": {},
   "source": [
    "30. Write a code to convert a list of strings into a set"
   ]
  },
  {
   "cell_type": "code",
   "execution_count": 68,
   "id": "cebad950-21e2-4ac8-a123-eb85badc35be",
   "metadata": {},
   "outputs": [
    {
     "name": "stdout",
     "output_type": "stream",
     "text": [
      "<class 'list'> ['Siddharth', 'Sidhu', 'Siddz']\n",
      "<class 'set'> {'Sidhu', 'Siddharth', 'Siddz'}\n"
     ]
    }
   ],
   "source": [
    "list_string = [\"Siddharth\", \"Sidhu\", \"Siddz\"]\n",
    "print(type(list_string), list_string)\n",
    "\n",
    "set_string = set(list_string)\n",
    "print(type(set_string), set_string)"
   ]
  },
  {
   "cell_type": "code",
   "execution_count": null,
   "id": "2b2bb3a5-e56a-4c40-8840-8bbb94a35399",
   "metadata": {},
   "outputs": [],
   "source": []
  }
 ],
 "metadata": {
  "kernelspec": {
   "display_name": "Python 3 (ipykernel)",
   "language": "python",
   "name": "python3"
  },
  "language_info": {
   "codemirror_mode": {
    "name": "ipython",
    "version": 3
   },
   "file_extension": ".py",
   "mimetype": "text/x-python",
   "name": "python",
   "nbconvert_exporter": "python",
   "pygments_lexer": "ipython3",
   "version": "3.13.3"
  }
 },
 "nbformat": 4,
 "nbformat_minor": 5
}
