{
 "cells": [
  {
   "cell_type": "markdown",
   "id": "18c21149-9a2d-4f14-96cc-f65ccb300f1e",
   "metadata": {},
   "source": [
    "Basic Question\n"
   ]
  },
  {
   "cell_type": "markdown",
   "id": "c70d207d-0390-4afd-b27e-f8fa937020d4",
   "metadata": {},
   "source": [
    "1. What is Object-Oriented Programming (OOP)"
   ]
  },
  {
   "cell_type": "markdown",
   "id": "e02a89d0-6fc4-421c-90a1-f73397c94b0f",
   "metadata": {},
   "source": [
    "Ans- Object-Oriented Programming (OOP) is a programming paradigm based on the concept of objects, which contain data (attributes) and functions (methods). OOP allows for modular, reusable, and organized code by bundling related properties and behaviors into single units called objects."
   ]
  },
  {
   "cell_type": "markdown",
   "id": "bf8a184c-b2ce-43a9-9ec2-84d81ddca813",
   "metadata": {},
   "source": [
    "2. What is a class in OOP"
   ]
  },
  {
   "cell_type": "markdown",
   "id": "0c85e6c4-bb38-4aa5-8e95-dc0d73cdafec",
   "metadata": {},
   "source": [
    "Ans- A class in Object-Oriented Programming (OOP) is a blueprint or template for creating objects. It defines the attributes (data) and methods (functions) that the objects created from the class will have."
   ]
  },
  {
   "cell_type": "markdown",
   "id": "4e337342-5626-4902-908b-ca66a85e10a3",
   "metadata": {},
   "source": [
    "3. What is an object in OOP"
   ]
  },
  {
   "cell_type": "markdown",
   "id": "094402f6-2935-43fa-9aab-715658a14094",
   "metadata": {},
   "source": [
    "Ans- An object in Object-Oriented Programming (OOP) is an instance of a class. It represents a real-world entity that has attributes (data) and can perform actions (methods) defined by its class."
   ]
  },
  {
   "cell_type": "markdown",
   "id": "45adc957-4d18-404b-b424-b2982ece2146",
   "metadata": {},
   "source": [
    "4. What is the difference between abstraction and encapsulation"
   ]
  },
  {
   "cell_type": "markdown",
   "id": "2f7a9f4c-94f9-4cd2-b763-280b8ee54caa",
   "metadata": {},
   "source": [
    "Ans- Abstraction is python is simply hiding complexcity of any code just getting the things which are need also setting up base. Where encapsulation is just like making variables of a class private or not accessable"
   ]
  },
  {
   "cell_type": "markdown",
   "id": "17c3c945-16bb-4d14-a677-0ce767989e48",
   "metadata": {},
   "source": [
    "5. What are dunder methods in Python"
   ]
  },
  {
   "cell_type": "markdown",
   "id": "aa29906a-2ffa-483c-bca5-673fdc34add3",
   "metadata": {},
   "source": [
    "Ans- Dunder method where at the start and the end of the method \"__\" are present these are also know as magic method."
   ]
  },
  {
   "cell_type": "markdown",
   "id": "46291e85-e95d-4850-a99c-4da912ab63b6",
   "metadata": {},
   "source": [
    "6. Explain the concept of inheritance in OOP"
   ]
  },
  {
   "cell_type": "markdown",
   "id": "380f47ef-5105-4120-98d2-c771144642a7",
   "metadata": {},
   "source": [
    "Ans- Inheritance in OOP is used becauce to define parent and child class and have some of similar methods. So it make easier and senseable code \n",
    "For Eg."
   ]
  },
  {
   "cell_type": "code",
   "execution_count": 14,
   "id": "3ee2c228-4f87-4f57-9636-351a1cdef081",
   "metadata": {},
   "outputs": [],
   "source": [
    "class Animal:\n",
    "    def __init__(self):\n",
    "        pass\n",
    "\n",
    "    def eat(self):\n",
    "        print(\"Eating\")\n",
    "\n",
    "class Dog(Animal):\n",
    "    def __init__(self, name):\n",
    "        self.name = name\n",
    "\n",
    "    def speak(self):\n",
    "        print(\"WOOF!!\")"
   ]
  },
  {
   "cell_type": "code",
   "execution_count": 16,
   "id": "0bfd54f6-e8f3-4b37-8e68-9179f69b0319",
   "metadata": {},
   "outputs": [],
   "source": [
    "my_dog = Dog(\"Tom\")"
   ]
  },
  {
   "cell_type": "code",
   "execution_count": 18,
   "id": "f44f1610-fdcb-44b2-9398-6a5dc6ccdc66",
   "metadata": {},
   "outputs": [
    {
     "name": "stdout",
     "output_type": "stream",
     "text": [
      "Eating\n"
     ]
    }
   ],
   "source": [
    "my_dog.eat() #inherited method from animal"
   ]
  },
  {
   "cell_type": "markdown",
   "id": "f7a6ec7f-9e9b-453f-b1bb-8fa10f9a727b",
   "metadata": {},
   "source": [
    "7. What is polymorphism in OOP"
   ]
  },
  {
   "cell_type": "markdown",
   "id": "ac884242-b459-49d7-aed9-811fe3d09680",
   "metadata": {},
   "source": [
    "Ans- Polymorphism is a fundamental concept in Object-Oriented Programming (OOP) that allows objects of different types to be accessed through the same interface. It enables a single action to be performed in different ways, depending on the object that is invoking the action"
   ]
  },
  {
   "cell_type": "markdown",
   "id": "dee543e0-c1db-4e96-94a4-4619f8f96f15",
   "metadata": {},
   "source": [
    "8. How is encapsulation achieved in Python"
   ]
  },
  {
   "cell_type": "markdown",
   "id": "12f36fc4-f709-4a96-9e45-f39dcfd527c3",
   "metadata": {},
   "source": [
    "Ans- Encapsulation can be achivied like this"
   ]
  },
  {
   "cell_type": "code",
   "execution_count": 23,
   "id": "13e798c0-7c6b-48f7-8b19-5086fc0ac9a7",
   "metadata": {},
   "outputs": [],
   "source": [
    "class Person:\n",
    "    def __init__(self, name, birth_year):\n",
    "        self.name = name \n",
    "        self.__birth_year = birth_year\n",
    "\n",
    "    def who_am_i(self):\n",
    "        print(f\"hello my self {self.name}, Born in {self.__birth_year}\")"
   ]
  },
  {
   "cell_type": "code",
   "execution_count": 24,
   "id": "bbbfeaf6-acdb-4ed2-8efb-e6dfa9d722f1",
   "metadata": {},
   "outputs": [],
   "source": [
    "siddh = Person(\"Siddharth\", 2006)"
   ]
  },
  {
   "cell_type": "code",
   "execution_count": 25,
   "id": "4f7f40f4-f95f-4aeb-9a55-c4d89c30ed78",
   "metadata": {},
   "outputs": [
    {
     "ename": "AttributeError",
     "evalue": "'Person' object has no attribute '__birth_year'",
     "output_type": "error",
     "traceback": [
      "\u001b[31m---------------------------------------------------------------------------\u001b[39m",
      "\u001b[31mAttributeError\u001b[39m                            Traceback (most recent call last)",
      "\u001b[36mCell\u001b[39m\u001b[36m \u001b[39m\u001b[32mIn[25]\u001b[39m\u001b[32m, line 1\u001b[39m\n\u001b[32m----> \u001b[39m\u001b[32m1\u001b[39m \u001b[43msiddh\u001b[49m\u001b[43m.\u001b[49m\u001b[43m__birth_year\u001b[49m\n",
      "\u001b[31mAttributeError\u001b[39m: 'Person' object has no attribute '__birth_year'"
     ]
    }
   ],
   "source": [
    "siddh.__birth_year"
   ]
  },
  {
   "cell_type": "code",
   "execution_count": 26,
   "id": "e6d36d9f-8afc-4863-8a5d-958aebb1d63b",
   "metadata": {},
   "outputs": [
    {
     "data": {
      "text/plain": [
       "'Siddharth'"
      ]
     },
     "execution_count": 26,
     "metadata": {},
     "output_type": "execute_result"
    }
   ],
   "source": [
    "siddh.name"
   ]
  },
  {
   "cell_type": "code",
   "execution_count": 28,
   "id": "702fa2f2-a660-43f5-b95c-a03e14a14187",
   "metadata": {},
   "outputs": [
    {
     "name": "stdout",
     "output_type": "stream",
     "text": [
      "hello my self Siddharth, Born in 2006\n"
     ]
    }
   ],
   "source": [
    "siddh.who_am_i()"
   ]
  },
  {
   "cell_type": "markdown",
   "id": "c0858db7-822d-47b4-ad61-d140537407c4",
   "metadata": {},
   "source": [
    "For the we can achive to understand that variable prefix with double underscore are not accessiable outside of the class. "
   ]
  },
  {
   "cell_type": "code",
   "execution_count": 33,
   "id": "2570bbe3-52d6-46ea-be4f-08aeb8eac0b5",
   "metadata": {},
   "outputs": [],
   "source": [
    "#also single underscore are used but it is just convention to warn not to access it or modify it\n",
    "class Person:\n",
    "    def __init__(self, name, birth_year):\n",
    "        self.name = name \n",
    "        self._birth_year = birth_year\n",
    "\n",
    "    def who_am_i(self):\n",
    "        print(f\"hello my self {self.name}, Born in {self._birth_year}\")\n",
    "\n",
    "siddh = Person(\"Siddharth\", 2006)"
   ]
  },
  {
   "cell_type": "code",
   "execution_count": 34,
   "id": "2a3c65a7-6482-49a6-9b7e-dc0f1c21a5fd",
   "metadata": {},
   "outputs": [
    {
     "data": {
      "text/plain": [
       "2006"
      ]
     },
     "execution_count": 34,
     "metadata": {},
     "output_type": "execute_result"
    }
   ],
   "source": [
    "siddh._birth_year"
   ]
  },
  {
   "cell_type": "markdown",
   "id": "f539d230-8d89-40ad-80f0-a817b4ca232f",
   "metadata": {},
   "source": [
    "9. What is a constructor in Python"
   ]
  },
  {
   "cell_type": "markdown",
   "id": "32de4ba2-f0d1-44da-bfe2-8425539aebe7",
   "metadata": {},
   "source": [
    "Ans- Constructor in python class are just method where we set attributes to be passed. Constructor of an class is $__init__()$"
   ]
  },
  {
   "cell_type": "markdown",
   "id": "b3202e54-e670-4773-aad6-565abf77f2a6",
   "metadata": {},
   "source": [
    "10. What are class and static methods in Python"
   ]
  },
  {
   "cell_type": "markdown",
   "id": "6c948efe-3d12-4200-880d-88d90eb92198",
   "metadata": {},
   "source": [
    "Ans- Class Method - these method are used to modifly class instance and also used an alternative to construtor. We have to pass cls as first argument in the following for example"
   ]
  },
  {
   "cell_type": "code",
   "execution_count": 40,
   "id": "b3820301-ff26-42ea-8df0-9b14ab40e8b0",
   "metadata": {},
   "outputs": [],
   "source": [
    "class Student:\n",
    "    def __init__(self, name, age):\n",
    "        self.name = name \n",
    "        self.age = age\n",
    "\n",
    "    @classmethod\n",
    "    def from_birth_year(cls, name, birth_year):\n",
    "        age = 2025 - birth_year\n",
    "        return cls(name, age)"
   ]
  },
  {
   "cell_type": "code",
   "execution_count": 41,
   "id": "df5d880f-56cf-42f7-8fe7-c9047747cdda",
   "metadata": {},
   "outputs": [],
   "source": [
    "siddh = Student.from_birth_year(\"Siddharth\", 2006)"
   ]
  },
  {
   "cell_type": "code",
   "execution_count": 44,
   "id": "2475224d-adb7-484d-af28-b0bc37d8eb50",
   "metadata": {},
   "outputs": [
    {
     "data": {
      "text/plain": [
       "19"
      ]
     },
     "execution_count": 44,
     "metadata": {},
     "output_type": "execute_result"
    }
   ],
   "source": [
    "siddh.age #the method converted year into the age "
   ]
  },
  {
   "cell_type": "markdown",
   "id": "52928ce8-10d3-4a50-8408-0ed3f8ba1f77",
   "metadata": {},
   "source": [
    "Static method- It take no first argument just work as helper function or regular function inside to the class. For example"
   ]
  },
  {
   "cell_type": "code",
   "execution_count": 46,
   "id": "020b81af-9bd2-40ad-8563-1d4741524681",
   "metadata": {},
   "outputs": [],
   "source": [
    "class Math:\n",
    "    @staticmethod\n",
    "    def add(a, b):\n",
    "        return a + b"
   ]
  },
  {
   "cell_type": "code",
   "execution_count": 47,
   "id": "3d90773f-d08a-41ba-b005-97cddce82332",
   "metadata": {},
   "outputs": [
    {
     "data": {
      "text/plain": [
       "15"
      ]
     },
     "execution_count": 47,
     "metadata": {},
     "output_type": "execute_result"
    }
   ],
   "source": [
    "Math.add(10, 5)"
   ]
  },
  {
   "cell_type": "markdown",
   "id": "7db7876b-f287-4365-b3cb-4f74cf16d7ec",
   "metadata": {},
   "source": [
    "12. What is method overriding in OOP"
   ]
  },
  {
   "cell_type": "markdown",
   "id": "00589494-fc4e-4000-92b3-4a3f5e7c1020",
   "metadata": {},
   "source": [
    "Ans- A child class defines a method with the same name as a method in the parent class, but with different or modified behavior."
   ]
  },
  {
   "cell_type": "markdown",
   "id": "59858e29-fda5-44a0-8913-63d10fdf5688",
   "metadata": {},
   "source": [
    "13. What is a property decorator in Python"
   ]
  },
  {
   "cell_type": "markdown",
   "id": "370fd1d2-afc8-4866-9460-c064832eac28",
   "metadata": {},
   "source": [
    "Ans- Property decorator is a thing where we create any method inside my the class and can call it simply just by its name not writting \"()\" open and close parentheses. For Example."
   ]
  },
  {
   "cell_type": "code",
   "execution_count": 5,
   "id": "9b2b7824-466a-4480-9d34-db4926b52a6d",
   "metadata": {},
   "outputs": [],
   "source": [
    "class Math:\n",
    "    def __init__(self, x, y):\n",
    "        self.x = x\n",
    "        self.y = y\n",
    "        \n",
    "    @property # defining it as property decorator  \n",
    "    def add(self):\n",
    "        return self.x + self.y\n",
    "        "
   ]
  },
  {
   "cell_type": "code",
   "execution_count": 6,
   "id": "8d5a98d1-96d6-4842-b7da-ed005d78268d",
   "metadata": {},
   "outputs": [],
   "source": [
    "eq = Math(1,2)"
   ]
  },
  {
   "cell_type": "code",
   "execution_count": 9,
   "id": "1837e865-7608-492d-996a-f3cd6eacdd99",
   "metadata": {},
   "outputs": [
    {
     "data": {
      "text/plain": [
       "3"
      ]
     },
     "execution_count": 9,
     "metadata": {},
     "output_type": "execute_result"
    }
   ],
   "source": [
    "eq.add #no need of open and close parentheses"
   ]
  },
  {
   "cell_type": "markdown",
   "id": "0aa87dad-9c14-4498-b032-a881dffdce9c",
   "metadata": {},
   "source": [
    "14. Why is polymorphism important in OOP"
   ]
  },
  {
   "cell_type": "markdown",
   "id": "a7bbcaff-abb4-47db-b65b-55cd36537a95",
   "metadata": {},
   "source": [
    "Ans- Polymorphism is important in Object-Oriented Programming (OOP) because it allows objects of different classes to be treated as objects of a common superclass. This enables flexibility and reusability in code."
   ]
  },
  {
   "cell_type": "markdown",
   "id": "34a96dbb-581b-4159-80e2-bbbefcc1d39f",
   "metadata": {},
   "source": [
    "15. What is an abstract class in Python"
   ]
  },
  {
   "cell_type": "markdown",
   "id": "0bee1ae7-f108-4595-aa99-253c3601dc12",
   "metadata": {},
   "source": [
    "Ans- In Python, an abstract class is a class that cannot be instantiated and is meant to be inherited by subclasses. It is used to define a common interface for all its subclasses, and it can contain abstract methods (methods with no implementation) that must be implemented by child classes."
   ]
  },
  {
   "cell_type": "markdown",
   "id": "55a304a6-bc9e-40f6-a5b7-6ec2c0f26eaa",
   "metadata": {},
   "source": [
    "16. What are the advantages of OOP"
   ]
  },
  {
   "cell_type": "markdown",
   "id": "ef027f6d-2b19-451d-a7c1-422b7c4315ce",
   "metadata": {},
   "source": [
    "Ans- Here are some of the advantages of OOP in python\n",
    "1. Incapsulation - As we know that in python OOP classes we can make variable private by just putting self.__var. So it make code more secure to use and relaiblity also increases\n",
    "2. Inheritance - In python classes(OOP) we can inherit method of other class as using them as super/parent class. which makes code more reuseable and better.\n",
    "3. Polymorphism - In python OOP we can create same name of method but with different implementation. And for same we can call them making it more suitable to us.\n",
    "4. Scalability and Maintainability - Classes can be extend to many things and can be maintained properly as there formation is so systamatically done."
   ]
  },
  {
   "cell_type": "markdown",
   "id": "0c572182-7eb9-4432-82d1-933f683c0477",
   "metadata": {},
   "source": [
    "17. What is the difference between a class variable and an instance variable"
   ]
  },
  {
   "cell_type": "markdown",
   "id": "819debc7-f51f-4cd7-a0ea-811874e53e81",
   "metadata": {},
   "source": [
    "Ans- Class variable are those variable which have been defineded inside the class itself and can perform function inside the class object only can't be accessed as global variable Whereas the instance variable is defined outside the class while creating the object by help of the class and can be used inside the ckass to perform the function accordingly. \n",
    "For Example:"
   ]
  },
  {
   "cell_type": "code",
   "execution_count": 14,
   "id": "c06533db-1fae-4aff-be19-ad58176dd90e",
   "metadata": {},
   "outputs": [],
   "source": [
    "class Animals:\n",
    "    species = \"Mamal\"\n",
    "    \n",
    "    def __init__(self, name):\n",
    "        self.name = name\n",
    "        \n",
    "\n",
    "    def who_am_i(self):\n",
    "        print(f\"i am {self.name}, and from species {self.species}\")"
   ]
  },
  {
   "cell_type": "code",
   "execution_count": 15,
   "id": "375a4c92-ebc6-4654-9605-95c00a55a642",
   "metadata": {},
   "outputs": [],
   "source": [
    "my_dog = Animals(\"Tommy\")"
   ]
  },
  {
   "cell_type": "code",
   "execution_count": 16,
   "id": "e9ad727e-797f-4d77-8e01-fe7e26702450",
   "metadata": {},
   "outputs": [
    {
     "name": "stdout",
     "output_type": "stream",
     "text": [
      "i am Tommy, and from species Mamal\n"
     ]
    }
   ],
   "source": [
    "my_dog.who_am_i()"
   ]
  },
  {
   "cell_type": "markdown",
   "id": "3eb4578a-b507-49f4-9c31-005def28afbf",
   "metadata": {},
   "source": [
    "18. What is multiple inheritance in Python"
   ]
  },
  {
   "cell_type": "markdown",
   "id": "4bc03543-4790-443b-9b6e-608fa7743455",
   "metadata": {},
   "source": [
    "Ans- In python mullti inhertance means where we create an class with multiple super class like for an example"
   ]
  },
  {
   "cell_type": "code",
   "execution_count": 9,
   "id": "e49543ad-3540-44a5-96d4-04a9623abca2",
   "metadata": {},
   "outputs": [
    {
     "name": "stdout",
     "output_type": "stream",
     "text": [
      "Mamal\n"
     ]
    }
   ],
   "source": [
    "#multi inheritance \n",
    "class Animals:\n",
    "    def __init__(self, name):\n",
    "        self.name = name \n",
    "\n",
    "    def eat(self):\n",
    "        print(\"Eating\")\n",
    "\n",
    "class Species:\n",
    "    def which(self):\n",
    "        print(\"Mamal\")\n",
    "\n",
    "class Cat(Animals, Species):\n",
    "    def speak():\n",
    "        print(\"MEWO!!\") \n",
    "\n",
    "my_cat = Cat(\"Mili\")\n",
    "my_cat.which()"
   ]
  },
  {
   "cell_type": "markdown",
   "id": "7c48ebbd-cebf-412c-8261-fbb7dba52831",
   "metadata": {},
   "source": [
    "We can see that animal and species has been implemented in the cat class"
   ]
  },
  {
   "cell_type": "markdown",
   "id": "c8761a32-2d5b-4b17-b43a-055f35aeef43",
   "metadata": {},
   "source": [
    "19. Explain the purpose of ‘’__str__’ and ‘__repr__’ ‘ methods in Python"
   ]
  },
  {
   "cell_type": "markdown",
   "id": "201643fa-1987-4d55-94ca-9094271fe168",
   "metadata": {},
   "source": [
    "Ans- __str__ is used to print out human readable statement or to send the output to user. Whereas the __repr__ is used to get the object presentation done according to the methods. For example"
   ]
  },
  {
   "cell_type": "code",
   "execution_count": 37,
   "id": "77046713-5d99-49aa-b8c4-102ae826553a",
   "metadata": {},
   "outputs": [],
   "source": [
    "class Animal:\n",
    "    def __init__(self, name, type):\n",
    "        self.name = name\n",
    "        self.type = type"
   ]
  },
  {
   "cell_type": "code",
   "execution_count": 38,
   "id": "5e16fe8c-b14b-4989-9351-ef198dddf42a",
   "metadata": {},
   "outputs": [],
   "source": [
    "my_dog = Animal(\"Tommy\" , \"Dog\")"
   ]
  },
  {
   "cell_type": "code",
   "execution_count": 39,
   "id": "e317e261-7425-48b3-85d0-3c1b633aa41f",
   "metadata": {},
   "outputs": [
    {
     "name": "stdout",
     "output_type": "stream",
     "text": [
      "<__main__.Animal object at 0x00000177E376C2F0>\n"
     ]
    }
   ],
   "source": [
    "print(my_dog) #we can not read this thing"
   ]
  },
  {
   "cell_type": "code",
   "execution_count": 63,
   "id": "8b2a85ea-fb46-437e-9506-2b19114b4232",
   "metadata": {},
   "outputs": [],
   "source": [
    "class Animal:\n",
    "    def __init__(self, name, type):\n",
    "        self.name = name\n",
    "        self.type = type\n",
    "\n",
    "    def __str__(self):\n",
    "        return f\"My name is {self.name} and i am a {self.type}\""
   ]
  },
  {
   "cell_type": "code",
   "execution_count": 64,
   "id": "8c63a7a7-f5c4-4822-bf13-2920cd1d1a1b",
   "metadata": {},
   "outputs": [
    {
     "name": "stdout",
     "output_type": "stream",
     "text": [
      "My name is Tom and i am a Cat\n"
     ]
    }
   ],
   "source": [
    "my_cat_ne = Animal(\"Tom\" , \"Cat\")\n",
    "print(my_cat_ne) #we can see a redable outcome"
   ]
  },
  {
   "cell_type": "code",
   "execution_count": 66,
   "id": "f8db6704-d224-4cf1-b2df-130fe578aeb8",
   "metadata": {},
   "outputs": [],
   "source": [
    "class Animal:\n",
    "    def __init__(self, name, type):\n",
    "        self.name = name\n",
    "        self.type = type\n",
    "\n",
    "    def __str__(self):\n",
    "        return f\"My name is {self.name} and i am a {self.type}\"\n",
    "\n",
    "    def __repr__(self):\n",
    "        return f\"Name: {self.name}, Type: {self.type}\""
   ]
  },
  {
   "cell_type": "code",
   "execution_count": 69,
   "id": "9c4bb0f3-fad2-4a40-948f-b22c4942d8b8",
   "metadata": {},
   "outputs": [
    {
     "name": "stdout",
     "output_type": "stream",
     "text": [
      "Name: Tom, Type: Cat\n"
     ]
    }
   ],
   "source": [
    "my_kitty = Animal(\"Tom\", \"Cat\")\n",
    "print(repr(my_kitty)) #mostly created to show to representation of the object "
   ]
  },
  {
   "cell_type": "markdown",
   "id": "ffb90efd-514f-4ac0-b61c-39b83a96a1e0",
   "metadata": {},
   "source": [
    "20. What is the significance of the ‘super()’ function in Python"
   ]
  },
  {
   "cell_type": "markdown",
   "id": "14d4b83f-5a13-4f4a-b0b9-78561f31130f",
   "metadata": {},
   "source": [
    "Ans- The super() function is used to give access to methods of a parent or sibling class from within a child class. It is most commonly used to call the parent class’s __init__ method or other methods, making inheritance cleaner and more maintainable.\n",
    "\n"
   ]
  },
  {
   "cell_type": "code",
   "execution_count": 72,
   "id": "e2df88c3-f08b-4161-93db-1b0eba7c3b07",
   "metadata": {},
   "outputs": [
    {
     "name": "stdout",
     "output_type": "stream",
     "text": [
      "Animal: Tommy\n",
      "Dog breed: Labrador\n"
     ]
    }
   ],
   "source": [
    "class Animal:\n",
    "    def __init__(self, name):\n",
    "        self.name = name\n",
    "        print(f\"Animal: {self.name}\")\n",
    "\n",
    "class Dog(Animal):\n",
    "    def __init__(self, name, breed):\n",
    "        super().__init__(name) \n",
    "        self.breed = breed\n",
    "        print(f\"Dog breed: {self.breed}\")\n",
    "\n",
    "d = Dog(\"Tommy\", \"Labrador\")"
   ]
  },
  {
   "cell_type": "markdown",
   "id": "752b9121-7681-476e-ab50-84ba1950dd62",
   "metadata": {},
   "source": [
    "21. What is the significance of the __del__ method in Python"
   ]
  },
  {
   "cell_type": "markdown",
   "id": "0e969f39-b52f-4daa-8b28-0d29adb9df23",
   "metadata": {},
   "source": [
    "Ans- The __del__ method is a special method in Python called a destructor.\n",
    "It is automatically called when an object is about to be destroyed or garbage collected."
   ]
  },
  {
   "cell_type": "code",
   "execution_count": 73,
   "id": "b04045b4-b854-4049-9ee6-bdcb80323fb3",
   "metadata": {},
   "outputs": [
    {
     "name": "stdout",
     "output_type": "stream",
     "text": [
      "File opened\n",
      "File closed\n"
     ]
    }
   ],
   "source": [
    "class FileHandler:\n",
    "    def __init__(self, filename):\n",
    "        self.file = open(filename, 'w')\n",
    "        print(\"File opened\")\n",
    "\n",
    "    def __del__(self):\n",
    "        self.file.close()\n",
    "        print(\"File closed\")\n",
    "\n",
    "f = FileHandler(\"test.txt\")\n",
    "del f  "
   ]
  },
  {
   "cell_type": "markdown",
   "id": "4891c474-97fa-41fe-9054-cb6441172e68",
   "metadata": {},
   "source": [
    "22. What is the difference between @staticmethod and @classmethod in Python"
   ]
  },
  {
   "cell_type": "markdown",
   "id": "3ebc0137-b671-4709-8c58-bcac67d367eb",
   "metadata": {},
   "source": [
    "Ans- Differences between class and static method are <br>\n",
    "ClassMethod\n",
    "<ul>\n",
    "    <l>1. They can modify and do somethings with the instance object. In simple Can access or modify class-level variables or create instances.</l><br>\n",
    "    <l>2. It takes cls as first argument</l>\n",
    "</ul>\n",
    "StaticMethod\n",
    "<ul>\n",
    "    <l>1. They don't deal with class instance or modify them. Just it is an regular function but inside an class.</l><br>\n",
    "    <l>2. It does not takes cls or self as first argument</l>\n",
    "</ul>"
   ]
  },
  {
   "cell_type": "markdown",
   "id": "9a232b16-3421-4539-b126-c8fa0f3b1370",
   "metadata": {},
   "source": [
    "23.  How does polymorphism work in Python with inheritance\n"
   ]
  },
  {
   "cell_type": "markdown",
   "id": "5f549855-1a3c-4d86-a402-2e8bc6accb82",
   "metadata": {},
   "source": [
    "Ans- When a child class overrides a method from the parent class, you can call the same method on different objects, and each will respond in its own way."
   ]
  },
  {
   "cell_type": "code",
   "execution_count": 74,
   "id": "49a444c5-6a30-4640-bd1c-2ff75185b3b0",
   "metadata": {},
   "outputs": [],
   "source": [
    "class Animal:\n",
    "    def speak(self):\n",
    "        return \"Animal speaks\"\n",
    "\n",
    "class Dog(Animal):\n",
    "    def speak(self):\n",
    "        return \"Woof!\"\n",
    "\n",
    "class Cat(Animal):\n",
    "    def speak(self):\n",
    "        return \"Meow!\""
   ]
  },
  {
   "cell_type": "code",
   "execution_count": 78,
   "id": "32a2bc97-a0d3-4ab5-93cb-6ffa80c0c3a0",
   "metadata": {},
   "outputs": [
    {
     "name": "stdout",
     "output_type": "stream",
     "text": [
      "Woof!\n",
      "Meow!\n",
      "Animal speaks\n"
     ]
    }
   ],
   "source": [
    "animals = [Dog(), Cat(), Animal()]\n",
    "\n",
    "for a in animals:\n",
    "    print(a.speak())"
   ]
  },
  {
   "cell_type": "markdown",
   "id": "4be3ebe5-c5a6-40de-81e4-267dfb02a622",
   "metadata": {},
   "source": [
    "24. What is method chaining in Python OOP"
   ]
  },
  {
   "cell_type": "markdown",
   "id": "1e2c7549-9f25-4052-8b5c-99c2192c6beb",
   "metadata": {},
   "source": [
    "Ans- Method chaining is a technique where you call multiple methods on the same object sequentially in a single line because each method returns the object itself (self)."
   ]
  },
  {
   "cell_type": "code",
   "execution_count": 79,
   "id": "aef47c6e-466a-4381-b264-65fb46a625c4",
   "metadata": {},
   "outputs": [],
   "source": [
    "class Car:\n",
    "    def __init__(self):\n",
    "        self.color = None\n",
    "        self.speed = 0\n",
    "\n",
    "    def paint(self, color):\n",
    "        self.color = color\n",
    "        return self\n",
    "\n",
    "    def accelerate(self, amount):\n",
    "        self.speed += amount\n",
    "        return self\n",
    "\n",
    "    def status(self):\n",
    "        print(f\"Color: {self.color}, Speed: {self.speed} km/h\")\n",
    "        return self"
   ]
  },
  {
   "cell_type": "code",
   "execution_count": 83,
   "id": "39816383-0947-4203-8fda-9ebb6022ea44",
   "metadata": {},
   "outputs": [
    {
     "name": "stdout",
     "output_type": "stream",
     "text": [
      "Color: red, Speed: 50 km/h\n"
     ]
    },
    {
     "data": {
      "text/plain": [
       "<__main__.Car at 0x177e2dd1f30>"
      ]
     },
     "execution_count": 83,
     "metadata": {},
     "output_type": "execute_result"
    }
   ],
   "source": [
    "car = Car()\n",
    "car.paint(\"red\").accelerate(50).status()"
   ]
  },
  {
   "cell_type": "markdown",
   "id": "68c84595-e55e-4fd3-a8f5-fae526a5fe6d",
   "metadata": {},
   "source": [
    "25. What is the purpose of the __call__ method in Python?"
   ]
  },
  {
   "cell_type": "markdown",
   "id": "7e0c553f-af60-4ba7-a421-fec03ffb070a",
   "metadata": {},
   "source": [
    "Ans- The __call__ method allows an instance of a class to be called like a function. When you use parentheses () after an object, Python internally invokes the object's __call__ method if it is defined."
   ]
  },
  {
   "cell_type": "code",
   "execution_count": 84,
   "id": "7de59225-7fc6-457a-8794-272720ad6747",
   "metadata": {},
   "outputs": [
    {
     "name": "stdout",
     "output_type": "stream",
     "text": [
      "Alice says: Hello!\n"
     ]
    }
   ],
   "source": [
    "class Greeter:\n",
    "    def __init__(self, name):\n",
    "        self.name = name\n",
    "\n",
    "    def __call__(self, message):\n",
    "        print(f\"{self.name} says: {message}\")\n",
    "\n",
    "g = Greeter(\"Alice\")\n",
    "g(\"Hello!\")  "
   ]
  },
  {
   "cell_type": "markdown",
   "id": "ddac7193-7eaf-413e-b871-9c6849e9f820",
   "metadata": {},
   "source": [
    "Practical Question"
   ]
  },
  {
   "cell_type": "markdown",
   "id": "816b304e-d225-4767-aa49-1d62ba7296ab",
   "metadata": {},
   "source": [
    " 1. Create a parent class Animal with a method speak() that prints a generic message. Create a child class Dog \n",
    "that overrides the speak() method to print \"Bark!\""
   ]
  },
  {
   "cell_type": "code",
   "execution_count": 86,
   "id": "8726041d-6442-499d-873e-c79e173b54ab",
   "metadata": {},
   "outputs": [],
   "source": [
    "class Animal:\n",
    "    def speak(self):\n",
    "        print(\"Animal Speaks\")\n",
    "\n",
    "class Dog(Animal):\n",
    "    def speak(self):\n",
    "        print(\"Bark!\")"
   ]
  },
  {
   "cell_type": "code",
   "execution_count": 88,
   "id": "16001647-cd6f-4b6b-be8b-ca94f7986501",
   "metadata": {},
   "outputs": [
    {
     "name": "stdout",
     "output_type": "stream",
     "text": [
      "Bark!\n"
     ]
    }
   ],
   "source": [
    "my_dog = Dog()\n",
    "my_dog.speak()"
   ]
  },
  {
   "cell_type": "markdown",
   "id": "2f8c48a2-ff5b-4f4f-a35c-00e5edce6535",
   "metadata": {},
   "source": [
    " 2. Write a program to create an abstract class Shape with a method area(). Derive classes Circle and Rectangle \n",
    "from it and implement the area() method in both"
   ]
  },
  {
   "cell_type": "code",
   "execution_count": 91,
   "id": "33e95150-9b7c-490d-a6cc-319bb8fdead9",
   "metadata": {},
   "outputs": [],
   "source": [
    "from abc import ABC, abstractmethod\n",
    "class Shape(ABC):\n",
    "    @abstractmethod\n",
    "    def area(self):\n",
    "        pass\n",
    "\n",
    "class Circle(Shape):\n",
    "    def __init__(self, radius):\n",
    "        self.radius = radius\n",
    "\n",
    "    def area(self):\n",
    "        return 3.14 * self.radius**2\n",
    "\n",
    "class Rectangle(Shape):\n",
    "    def __init__(self, l, b):\n",
    "        self.l = l\n",
    "        self.b = b\n",
    "\n",
    "    def area(self):\n",
    "        return self.l * self.b"
   ]
  },
  {
   "cell_type": "code",
   "execution_count": 93,
   "id": "f19480af-99a0-4a42-b90f-1e13a80eff38",
   "metadata": {},
   "outputs": [
    {
     "name": "stdout",
     "output_type": "stream",
     "text": [
      "20\n",
      "452.16\n"
     ]
    }
   ],
   "source": [
    "rec = Rectangle(10, 2)\n",
    "cir = Circle(12)\n",
    "\n",
    "print(rec.area())\n",
    "print(cir.area())"
   ]
  },
  {
   "cell_type": "markdown",
   "id": "6ab70f61-4dff-4526-aad6-83b62148b523",
   "metadata": {},
   "source": [
    " 3. Implement a multi-level inheritance scenario where a class Vehicle has an attribute type. Derive a class Car \n",
    "and further derive a class ElectricCar that adds a battery attribute."
   ]
  },
  {
   "cell_type": "code",
   "execution_count": 94,
   "id": "bc4c9258-52ec-43dc-8848-9695a962b59f",
   "metadata": {},
   "outputs": [],
   "source": [
    "class Vehicle:\n",
    "    def accelerate(self):\n",
    "        print(\"Moving Forward\")\n",
    "\n",
    "class Car:\n",
    "    def play_music(self):\n",
    "        print(\"Playing Music\")\n",
    "\n",
    "class ElectricCar(Vehicle, Car):\n",
    "    def charge_low(self):\n",
    "        print(\"Plugin to charger\")"
   ]
  },
  {
   "cell_type": "code",
   "execution_count": 95,
   "id": "4767c0df-36e6-474a-90ba-a8fb87e19bbb",
   "metadata": {},
   "outputs": [
    {
     "name": "stdout",
     "output_type": "stream",
     "text": [
      "Playing Music\n",
      "Moving Forward\n",
      "Plugin to charger\n"
     ]
    }
   ],
   "source": [
    "can = ElectricCar()\n",
    "\n",
    "can.play_music()\n",
    "can.accelerate()\n",
    "can.charge_low()"
   ]
  },
  {
   "cell_type": "markdown",
   "id": "f6da85a2-4119-4003-95c5-5178869627da",
   "metadata": {},
   "source": [
    "4. Demonstrate polymorphism by creating a base class Bird with a method fly(). Create two derived classes \n",
    "Sparrow and Penguin that override the fly() method"
   ]
  },
  {
   "cell_type": "code",
   "execution_count": 96,
   "id": "4bf78309-4cb0-4b26-a4bc-4b753d3ca4b8",
   "metadata": {},
   "outputs": [],
   "source": [
    "class Bird:\n",
    "    def fly(self):\n",
    "        print(\"Flying\")\n",
    "\n",
    "class Sparrow(Bird):\n",
    "    def fly(self):\n",
    "        print(\"Flying High\")\n",
    "\n",
    "class Penguin(Bird):\n",
    "    def fly(self):\n",
    "        print(\"Trying to Fly\")"
   ]
  },
  {
   "cell_type": "code",
   "execution_count": 97,
   "id": "49021eb5-7f47-4c8c-b35b-67a1d72e7319",
   "metadata": {},
   "outputs": [
    {
     "name": "stdout",
     "output_type": "stream",
     "text": [
      "Flying High\n",
      "Trying to Fly\n"
     ]
    }
   ],
   "source": [
    "birds = [Sparrow(), Penguin()]\n",
    "for bird in birds:\n",
    "    bird.fly()"
   ]
  },
  {
   "cell_type": "markdown",
   "id": "821acc81-cc2d-4dfd-a8b7-fbc1331daac8",
   "metadata": {},
   "source": [
    "5. Write a program to demonstrate encapsulation by creating a class BankAccount with private attributes \n",
    "balance and methods to deposit, withdraw, and check balance."
   ]
  },
  {
   "cell_type": "code",
   "execution_count": 111,
   "id": "f4c26bf7-80c9-46b6-bc26-3df12b60fa1f",
   "metadata": {},
   "outputs": [],
   "source": [
    "class BankAccount:\n",
    "    def __init__(self, bank_balance=0):\n",
    "        self.__bank_balance = bank_balance\n",
    "\n",
    "    def deposit(self, amount):\n",
    "        if amount <= 0:\n",
    "            raise ValueError(\"Please enter correct amount\")\n",
    "        else:\n",
    "            self.__bank_balance += amount\n",
    "            print(f\"Thank You for Depositing!!\\nYour bank balance: {self.__bank_balance}\")\n",
    "\n",
    "    def withdrawl(self, amount):\n",
    "        if amount <= 0:\n",
    "            raise ValueError(\"Please enter correct amount\")\n",
    "        elif self.__bank_balance < amount:\n",
    "            print(\"Insufficent balance!!\")\n",
    "        else:\n",
    "            self.__bank_balance -= amount\n",
    "            print(f\"Withdrawl Successfull!!\\nYour bank balance: {self.__bank_balance}\")\n",
    "\n",
    "    def show_balance(self):\n",
    "        print(f\"You bank balance is {self.__bank_balance}\")"
   ]
  },
  {
   "cell_type": "code",
   "execution_count": 112,
   "id": "7cd843bd-f0d2-4c5d-a252-da3b650cc587",
   "metadata": {},
   "outputs": [
    {
     "name": "stdout",
     "output_type": "stream",
     "text": [
      "Thank You for Depositing!!\n",
      "Your bank balance: 5000\n",
      "Withdrawl Successfull!!\n",
      "Your bank balance: 3750\n",
      "You bank balance is 3750\n"
     ]
    }
   ],
   "source": [
    "sidh_account = BankAccount()\n",
    "\n",
    "sidh_account.deposit(5000)\n",
    "sidh_account.withdrawl(1250)\n",
    "sidh_account.show_balance()"
   ]
  },
  {
   "cell_type": "markdown",
   "id": "61138436-e0a5-470c-b7df-08a4301fa13a",
   "metadata": {},
   "source": [
    "6. Demonstrate runtime polymorphism using a method play() in a base class Instrument. Derive classes Guitar \n",
    "and Piano that implement their own version of play()"
   ]
  },
  {
   "cell_type": "code",
   "execution_count": 116,
   "id": "d30f72e5-5a6f-4088-8fa5-7306f292d09f",
   "metadata": {},
   "outputs": [],
   "source": [
    "class Instrument:\n",
    "    def play(self):\n",
    "        print(\"Instrument is playing\")\n",
    "\n",
    "class Guitar(Instrument):\n",
    "    def play(self):\n",
    "        print(\"Guitar is Playing\")\n",
    "\n",
    "class Piano(Instrument):\n",
    "    def play(self):\n",
    "        print(\"Piano is playing\")\n"
   ]
  },
  {
   "cell_type": "code",
   "execution_count": 117,
   "id": "ff643b32-bef8-4ca0-aa83-77a977c7c762",
   "metadata": {},
   "outputs": [
    {
     "name": "stdout",
     "output_type": "stream",
     "text": [
      "Guitar is Playing\n",
      "Piano is playing\n"
     ]
    }
   ],
   "source": [
    "# Runtime Polymorphism in Action\n",
    "def start_playing(instrument):\n",
    "    instrument.play()\n",
    "\n",
    "g = Guitar()\n",
    "p = Piano()\n",
    "\n",
    "start_playing(g)  \n",
    "start_playing(p)"
   ]
  },
  {
   "cell_type": "markdown",
   "id": "eedf2c56-e16b-4106-a0f7-1db967ca8bf7",
   "metadata": {},
   "source": [
    "7. Create a class MathOperations with a class method add_numbers() to add two numbers and a static \n",
    "method subtract_numbers() to subtract two numbers."
   ]
  },
  {
   "cell_type": "code",
   "execution_count": 118,
   "id": "65df91aa-56f9-4449-ae4e-23648355e0e0",
   "metadata": {},
   "outputs": [],
   "source": [
    "class MathOperations:\n",
    "    @classmethod\n",
    "    def add_numbers(cls, a, b):\n",
    "        return  a + b\n",
    "\n",
    "    @staticmethod\n",
    "    def subtract_numbers(a, b):\n",
    "        return a - b"
   ]
  },
  {
   "cell_type": "code",
   "execution_count": 119,
   "id": "b80ff2c9-58ea-43ac-92b8-895281f5737f",
   "metadata": {},
   "outputs": [
    {
     "data": {
      "text/plain": [
       "11"
      ]
     },
     "execution_count": 119,
     "metadata": {},
     "output_type": "execute_result"
    }
   ],
   "source": [
    "MathOperations.add_numbers(5, 6)"
   ]
  },
  {
   "cell_type": "code",
   "execution_count": 121,
   "id": "4954f908-3e6c-4c22-899d-ce91377bcb0b",
   "metadata": {},
   "outputs": [
    {
     "data": {
      "text/plain": [
       "-1"
      ]
     },
     "execution_count": 121,
     "metadata": {},
     "output_type": "execute_result"
    }
   ],
   "source": [
    "MathOperations.subtract_numbers(7, 8)"
   ]
  },
  {
   "cell_type": "markdown",
   "id": "e99a956d-d81a-48d4-a9ed-e972780181a7",
   "metadata": {},
   "source": [
    "8. Implement a class Person with a class method to count the total number of persons created"
   ]
  },
  {
   "cell_type": "code",
   "execution_count": 134,
   "id": "520edfd2-0a01-4536-a663-61998c17697a",
   "metadata": {},
   "outputs": [],
   "source": [
    "class Person:\n",
    "\n",
    "    persons = 0\n",
    "    def __init__(self):\n",
    "        pass\n",
    "\n",
    "    @classmethod\n",
    "    def add_person(cls):\n",
    "        cls.persons += 1"
   ]
  },
  {
   "cell_type": "code",
   "execution_count": 135,
   "id": "1d95470a-59a0-4eaf-948c-e57c7c2965c0",
   "metadata": {},
   "outputs": [
    {
     "data": {
      "text/plain": [
       "4"
      ]
     },
     "execution_count": 135,
     "metadata": {},
     "output_type": "execute_result"
    }
   ],
   "source": [
    "Person.add_person()\n",
    "Person.add_person()\n",
    "Person.add_person()\n",
    "Person.add_person()\n",
    "Person.persons"
   ]
  },
  {
   "cell_type": "markdown",
   "id": "c144109c-9872-4dfb-b802-4bfdde246258",
   "metadata": {},
   "source": [
    "9. Write a class Fraction with attributes numerator and denominator. Override the str method to display the \n",
    "fraction as \"numerator/denominator\""
   ]
  },
  {
   "cell_type": "code",
   "execution_count": 139,
   "id": "65606d69-8acb-45a8-85be-cf7c3da468b9",
   "metadata": {},
   "outputs": [],
   "source": [
    "class Fraction:\n",
    "    def __init__(self, n, d):\n",
    "        self.n = n \n",
    "        self.d = d\n",
    "\n",
    "    def __str__(self):\n",
    "        return f\"{self.n}/{self.d}\""
   ]
  },
  {
   "cell_type": "code",
   "execution_count": 140,
   "id": "3fec878e-83b8-4c64-8e34-a4a2c8384391",
   "metadata": {},
   "outputs": [
    {
     "name": "stdout",
     "output_type": "stream",
     "text": [
      "5/3\n"
     ]
    }
   ],
   "source": [
    "my_fac = Fraction(5, 3)\n",
    "print(my_fac)"
   ]
  },
  {
   "cell_type": "markdown",
   "id": "b40e4a42-9e0c-48af-8063-48309e40c251",
   "metadata": {},
   "source": [
    "10. Demonstrate operator overloading by creating a class Vector and overriding the add method to add two \n",
    "vectors"
   ]
  },
  {
   "cell_type": "code",
   "execution_count": 141,
   "id": "33bf91fd-1529-4c1e-832a-35f1508c78d9",
   "metadata": {},
   "outputs": [],
   "source": [
    "class Vector:\n",
    "    def __init__(self, x, y):\n",
    "        self.x = x\n",
    "        self.y = y\n",
    "\n",
    "    def __add__(self, other):\n",
    "        return Vector(self.x + other.x, self.y + other.y)\n",
    "\n",
    "    def __str__(self):\n",
    "        return f\"Vector({self.x}, {self.y})\""
   ]
  },
  {
   "cell_type": "code",
   "execution_count": 143,
   "id": "92e36288-d87f-4115-90dd-985db7fe640d",
   "metadata": {},
   "outputs": [
    {
     "name": "stdout",
     "output_type": "stream",
     "text": [
      "Vector(6, 8)\n"
     ]
    }
   ],
   "source": [
    "v1 = Vector(2, 3)\n",
    "v2 = Vector(4, 5)\n",
    "\n",
    "v3 = v1 + v2  \n",
    "\n",
    "print(v3)    \n"
   ]
  },
  {
   "cell_type": "markdown",
   "id": "8d392355-3fe6-496b-82e0-4a243390bc77",
   "metadata": {},
   "source": [
    "11. Create a class Person with attributes name and age. Add a method greet() that prints \"Hello, my name is \n",
    "{name} and I am {age} years old.\""
   ]
  },
  {
   "cell_type": "code",
   "execution_count": 146,
   "id": "140b04ef-e1e2-42fb-8cae-581c798df0da",
   "metadata": {},
   "outputs": [
    {
     "name": "stdout",
     "output_type": "stream",
     "text": [
      "Hello, my name is Siddharth Nahata and I am 19 years old.\n"
     ]
    }
   ],
   "source": [
    "class Person:\n",
    "    def __init__(self, name, age):\n",
    "        self.name = name \n",
    "        self.age = age\n",
    "\n",
    "    def greet(self):\n",
    "        print(f\"Hello, my name is {self.name} and I am {self.age} years old.\")\n",
    "\n",
    "Siddharth = Person(\"Siddharth Nahata\", 19)\n",
    "Siddharth.greet()"
   ]
  },
  {
   "cell_type": "markdown",
   "id": "3796aefa-a303-4859-9567-9155dfab63be",
   "metadata": {},
   "source": [
    "12. Implement a class Student with attributes name and grades. Create a method average_grade() to compute \n",
    "the average of the grades"
   ]
  },
  {
   "cell_type": "code",
   "execution_count": 160,
   "id": "e92d4145-1061-431f-91bc-620df52796e7",
   "metadata": {},
   "outputs": [],
   "source": [
    "class Student:\n",
    "    def __init__(self, name, grades=[]):\n",
    "        self.name = name \n",
    "        self.grades = grades\n",
    "\n",
    "    def average_grade(self):\n",
    "        total = 0\n",
    "        for g in self.grades:\n",
    "            total += g\n",
    "        return total / len(self.grades)\n",
    "        "
   ]
  },
  {
   "cell_type": "code",
   "execution_count": 161,
   "id": "928219c6-d711-49bd-8ee1-b0775ce663f6",
   "metadata": {},
   "outputs": [
    {
     "data": {
      "text/plain": [
       "98.0"
      ]
     },
     "execution_count": 161,
     "metadata": {},
     "output_type": "execute_result"
    }
   ],
   "source": [
    "Siddharth = Student(\"Siddharth Nahata\", [100, 98, 97, 96, 99])\n",
    "Siddharth.average_grade()"
   ]
  },
  {
   "cell_type": "markdown",
   "id": "3fefa384-32de-4caf-839f-22be305d7685",
   "metadata": {},
   "source": [
    "13. Create a class Rectangle with methods set_dimensions() to set the dimensions and area() to calculate the \n",
    "area."
   ]
  },
  {
   "cell_type": "code",
   "execution_count": 163,
   "id": "baaa1104-6aaa-4fee-b0f3-0b86d8c024f7",
   "metadata": {},
   "outputs": [],
   "source": [
    "class Rectangle:\n",
    "    def __init__(self):\n",
    "        self.length = 0\n",
    "        self.width = 0\n",
    "\n",
    "    def set_dimensions(self, length, width):\n",
    "        self.length = length\n",
    "        self.width = width\n",
    "\n",
    "    def area(self):\n",
    "        return self.length * self.width"
   ]
  },
  {
   "cell_type": "code",
   "execution_count": 165,
   "id": "a714d341-ab68-4124-a703-c82b064d3768",
   "metadata": {},
   "outputs": [
    {
     "name": "stdout",
     "output_type": "stream",
     "text": [
      "Area of rectangle: 50\n"
     ]
    }
   ],
   "source": [
    "r = Rectangle()\n",
    "r.set_dimensions(10, 5)\n",
    "print(\"Area of rectangle:\", r.area())  "
   ]
  },
  {
   "cell_type": "markdown",
   "id": "97e056fa-dc64-44a4-bc57-8624b5781a69",
   "metadata": {},
   "source": [
    "14. Create a class Employee with a method calculate_salary() that computes the salary based on hours worked \n",
    "and hourly rate. Create a derived class Manager that adds a bonus to the salary"
   ]
  },
  {
   "cell_type": "code",
   "execution_count": 166,
   "id": "c2b25c44-fe7d-4dc7-baa3-497201fc1b09",
   "metadata": {},
   "outputs": [],
   "source": [
    "class Employee:\n",
    "    def __init__(self, name, hours_worked, hourly_rate):\n",
    "        self.name = name\n",
    "        self.hours_worked = hours_worked\n",
    "        self.hourly_rate = hourly_rate\n",
    "\n",
    "    def calculate_salary(self):\n",
    "        return self.hours_worked * self.hourly_rate\n",
    "\n",
    "\n",
    "class Manager(Employee):\n",
    "    def __init__(self, name, hours_worked, hourly_rate, bonus):\n",
    "        super().__init__(name, hours_worked, hourly_rate)\n",
    "        self.bonus = bonus\n",
    "\n",
    "    def calculate_salary(self):\n",
    "        base_salary = super().calculate_salary()\n",
    "        return base_salary + self.bonus"
   ]
  },
  {
   "cell_type": "code",
   "execution_count": 173,
   "id": "093367ab-9557-4ad0-952b-8d60ccd3b9e9",
   "metadata": {},
   "outputs": [
    {
     "name": "stdout",
     "output_type": "stream",
     "text": [
      "144000\n",
      "169000\n"
     ]
    }
   ],
   "source": [
    "\n",
    "m = Manager(\"Siddharth\", 240, 600, 25000)\n",
    "print(e.calculate_salary()) #without Bonus\n",
    "print(m.calculate_salary()) #with"
   ]
  },
  {
   "cell_type": "markdown",
   "id": "dfb54c65-95df-4e85-bd61-d352cdb255a4",
   "metadata": {},
   "source": [
    "15. Create a class Product with attributes name, price, and quantity. Implement a method total_price() that \n",
    "calculates the total price of the product"
   ]
  },
  {
   "cell_type": "code",
   "execution_count": 174,
   "id": "817174c4-4986-49a5-8221-c05be9be0619",
   "metadata": {},
   "outputs": [],
   "source": [
    "class Product:\n",
    "    def __init__(self, name, price, quantity):\n",
    "        self.name = name\n",
    "        self.price = price\n",
    "        self.qty = quantity\n",
    "\n",
    "    def total_price(self):\n",
    "        return f\"Your Total for {self.name}: {self.price * self.qty}\""
   ]
  },
  {
   "cell_type": "code",
   "execution_count": 175,
   "id": "7105f227-77f4-4523-9688-e6398b4604db",
   "metadata": {},
   "outputs": [
    {
     "data": {
      "text/plain": [
       "'Your Total for Jam: 1377'"
      ]
     },
     "execution_count": 175,
     "metadata": {},
     "output_type": "execute_result"
    }
   ],
   "source": [
    "c = Product(\"Jam\", 459, 3)\n",
    "c.total_price()"
   ]
  },
  {
   "cell_type": "markdown",
   "id": "0d38566c-1797-4791-890b-8e48f5357d86",
   "metadata": {},
   "source": [
    "16. Create a class Animal with an abstract method sound(). Create two derived classes Cow and Sheep that \n",
    "implement the sound() method"
   ]
  },
  {
   "cell_type": "code",
   "execution_count": 178,
   "id": "e6566ba4-4892-42c9-ae69-74c67c8db5a8",
   "metadata": {},
   "outputs": [
    {
     "name": "stdout",
     "output_type": "stream",
     "text": [
      "MHMHMHHMH!!\n",
      "MOOOO!!\n"
     ]
    }
   ],
   "source": [
    "from abc import ABC, abstractmethod\n",
    "\n",
    "class Animal(ABC):\n",
    "    def __init__(self):\n",
    "        pass\n",
    "\n",
    "    @abstractmethod\n",
    "    def sound(self):\n",
    "        pass\n",
    "\n",
    "class Cow(Animal):\n",
    "    def sound(self):\n",
    "        print(\"MOOOO!!\")\n",
    "\n",
    "class Sheep(Animal):\n",
    "    def sound(self):\n",
    "        print(\"MHMHMHHMH!!\")\n",
    "\n",
    "s = Sheep()\n",
    "c = Cow()\n",
    "\n",
    "s.sound()\n",
    "c.sound()"
   ]
  },
  {
   "cell_type": "markdown",
   "id": "d7a219d3-c81a-4c17-8b26-6759b0093072",
   "metadata": {},
   "source": [
    "17. Create a class Book with attributes title, author, and year_published. Add a method get_book_info() that \n",
    "returns a formatted string with the book's details."
   ]
  },
  {
   "cell_type": "code",
   "execution_count": 179,
   "id": "0012b341-7e06-40c9-998c-e4788a267254",
   "metadata": {},
   "outputs": [],
   "source": [
    "class Book:\n",
    "    def __init__(self, title, author, year_published):\n",
    "        self.title = title\n",
    "        self.author = author\n",
    "        self.year_published = year_published\n",
    "\n",
    "    def get_book_info(self):\n",
    "        return f\"'{self.title}' by {self.author} (Published: {self.year_published})\""
   ]
  },
  {
   "cell_type": "code",
   "execution_count": 181,
   "id": "6ea5984c-7260-4ccd-ab17-86e985344945",
   "metadata": {},
   "outputs": [
    {
     "name": "stdout",
     "output_type": "stream",
     "text": [
      "'Into to DS' by XYZ (Published: 2022)\n"
     ]
    }
   ],
   "source": [
    "b = Book(\"Into to DS\", \"XYZ\", 2022)\n",
    "print(b.get_book_info())"
   ]
  },
  {
   "cell_type": "markdown",
   "id": "01a9c8b7-0f83-4d03-993e-6daff94bceee",
   "metadata": {},
   "source": [
    "18. Create a class House with attributes address and price. Create a derived class Mansion that adds an \n",
    "attribute number_of_rooms."
   ]
  },
  {
   "cell_type": "code",
   "execution_count": 182,
   "id": "5c301972-387f-4775-aa7d-14f69382ca1f",
   "metadata": {},
   "outputs": [],
   "source": [
    "class House:\n",
    "    def __init__(self, address, price):\n",
    "        self.address = address\n",
    "        self.price = price\n",
    "\n",
    "class Mansion(House):\n",
    "    def __init__(self, address, price, number_of_rooms):\n",
    "        super().__init__(address, price)\n",
    "        self.number_of_rooms = number_of_rooms"
   ]
  },
  {
   "cell_type": "code",
   "execution_count": null,
   "id": "e79830a7-cd34-4024-8b50-be0505b1fd40",
   "metadata": {},
   "outputs": [],
   "source": []
  }
 ],
 "metadata": {
  "kernelspec": {
   "display_name": "Python 3 (ipykernel)",
   "language": "python",
   "name": "python3"
  },
  "language_info": {
   "codemirror_mode": {
    "name": "ipython",
    "version": 3
   },
   "file_extension": ".py",
   "mimetype": "text/x-python",
   "name": "python",
   "nbconvert_exporter": "python",
   "pygments_lexer": "ipython3",
   "version": "3.13.3"
  }
 },
 "nbformat": 4,
 "nbformat_minor": 5
}
