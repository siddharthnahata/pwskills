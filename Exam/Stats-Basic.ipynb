{
 "cells": [
  {
   "cell_type": "markdown",
   "id": "05a79c82",
   "metadata": {},
   "source": [
    "<h1>Basic Question</h1>"
   ]
  },
  {
   "cell_type": "markdown",
   "id": "488dc9e4",
   "metadata": {},
   "source": [
    "1.  What is statistics, and why is it important"
   ]
  },
  {
   "cell_type": "markdown",
   "id": "b3fb5375",
   "metadata": {},
   "source": [
    "<b>Ans</b>- Statistics is the branch of mathematics that deals with collecting, organizing, analyzing, interpreting, and presenting data. It helps us understand patterns, trends, and relationships in data, and make informed decisions based on that information.<br>\n",
    "\n",
    "<h2>Importance of Statistics:</h2>\n",
    "Decision Making: Helps businesses, governments, and individuals make data-driven decisions.\n",
    "\n",
    "Prediction: Allows forecasting of future trends (e.g., sales, weather, stock prices).\n",
    "\n",
    "Research: Essential in scientific, social, and market research to validate findings.\n",
    "\n",
    "Understanding Variability: Measures variation and uncertainty in real-world scenarios.\n",
    "\n",
    "Problem Solving: Identifies problems and evaluates solutions using data.\n",
    "\n",
    "In short, statistics transforms data into useful insights."
   ]
  },
  {
   "cell_type": "markdown",
   "id": "7c8c0fd2",
   "metadata": {},
   "source": [
    "2.  What are the two main types of statistics"
   ]
  },
  {
   "cell_type": "markdown",
   "id": "30396acd",
   "metadata": {},
   "source": [
    "<b>Ans-</b> Descriptive Statistics and Inferential Statistics\n"
   ]
  },
  {
   "cell_type": "markdown",
   "id": "6928fb6d",
   "metadata": {},
   "source": [
    "3. What are descriptive statistics"
   ]
  },
  {
   "cell_type": "markdown",
   "id": "53755ee5",
   "metadata": {},
   "source": [
    "<b>Ans-</b> Mean, median, mode, standard deviation, bar charts, pie charts"
   ]
  },
  {
   "cell_type": "markdown",
   "id": "77b33eb8",
   "metadata": {},
   "source": [
    "4. What is inferential statistics"
   ]
  },
  {
   "cell_type": "markdown",
   "id": "bf9bf795",
   "metadata": {},
   "source": [
    "<b>Ans-</b> Hypothesis testing, confidence intervals, regression analysis"
   ]
  },
  {
   "cell_type": "markdown",
   "id": "3a2702c0",
   "metadata": {},
   "source": [
    "5. What is sampling in statistics"
   ]
  },
  {
   "cell_type": "markdown",
   "id": "cad8bab0",
   "metadata": {},
   "source": [
    "<b>Ans-</b> Sampling is getting data from a big data on random basis. Or it can be collecting data by random choice "
   ]
  },
  {
   "cell_type": "markdown",
   "id": "09563feb",
   "metadata": {},
   "source": [
    "6. What are the different types of sampling methods"
   ]
  },
  {
   "cell_type": "markdown",
   "id": "3046a5e0",
   "metadata": {},
   "source": [
    "<b>Ans-</b> \n",
    "1. Simple Random SamplingSimple Random Sampling\n",
    "2. Systematic Sampling\n",
    "3. Stratified Sampling\n",
    "4. Cluster Sampling"
   ]
  },
  {
   "cell_type": "markdown",
   "id": "9ed88150",
   "metadata": {},
   "source": [
    "7. What is the difference between random and non-random sampling"
   ]
  },
  {
   "cell_type": "markdown",
   "id": "ffbbf337",
   "metadata": {},
   "source": [
    "<b>Ans-</b>\n",
    "1. Random Sampling:\n",
    "\n",
    "Every individual has an equal and known chance of being selected.\n",
    "\n",
    "Less bias and more representative of the population.\n",
    "\n",
    "Examples: Simple random, stratified, cluster sampling.\n",
    "\n",
    "2. Non-Random Sampling:\n",
    "\n",
    "Selection is based on convenience, judgment, or quota.\n",
    "\n",
    "More bias, may not accurately represent the population.\n",
    "\n",
    "Examples: Convenience, purposive, quota sampling.\n",
    "\n",
    "Key Point:\n",
    "\n",
    "Random sampling is more reliable and scientific.\n",
    "\n",
    "Non-random sampling is quicker but less accurate.\n",
    "\n"
   ]
  },
  {
   "cell_type": "markdown",
   "id": "04d612e1",
   "metadata": {},
   "source": [
    "8.  Define and give examples of qualitative and quantitative data"
   ]
  },
  {
   "cell_type": "markdown",
   "id": "20c259a0",
   "metadata": {},
   "source": [
    "<b>Ans-</b>\n",
    "1. Qualitative Data:\n",
    "\n",
    "Definition: Data that describes qualities, characteristics, or categories. It is non-numerical.\n",
    "\n",
    "Examples:\n",
    "\n",
    "Eye color (blue, brown, green)\n",
    "\n",
    "Type of fruit (apple, mango, banana)\n",
    "\n",
    "Customer feedback (good, average, poor)\n",
    "\n",
    "2. Quantitative Data:\n",
    "\n",
    "Definition: Data that can be measured or counted. It is numerical.\n",
    "\n",
    "Examples:\n",
    "\n",
    "Height (180 cm)\n",
    "\n",
    "Age (20 years)\n",
    "\n",
    "Number of students (50)\n",
    "\n",
    "In short:\n",
    "\n",
    "Qualitative = Descriptive (words)\n",
    "\n",
    "Quantitative = Numerical (numbers)"
   ]
  },
  {
   "cell_type": "markdown",
   "id": "bc8ec384",
   "metadata": {},
   "source": [
    "9. What are the different types of data in statistics"
   ]
  },
  {
   "cell_type": "markdown",
   "id": "72a7f5d0",
   "metadata": {},
   "source": [
    "<b>Ans-</b> Qualitative Data (Categorical) and Quantitative Data (Numerical)"
   ]
  },
  {
   "cell_type": "markdown",
   "id": "9ada94cf",
   "metadata": {},
   "source": [
    "10. Explain nominal, ordinal, interval, and ratio levels of measurement "
   ]
  },
  {
   "cell_type": "markdown",
   "id": "3f89fa2d",
   "metadata": {},
   "source": [
    "<b>Ans-</b><br>\n",
    "<b>Nominal:</b>\n",
    "Categories without order.\n",
    "Examples: Gender, Religion.\n",
    "<br>\n",
    "<b>Ordinal:</b>\n",
    "Ordered categories, but gaps not measurable.\n",
    "Examples: Ranks, Satisfaction levels.\n",
    "<br>\n",
    "<b>Interval:</b>\n",
    "Ordered, equal gaps, no true zero.\n",
    "Examples: Temperature (°C), IQ scores.\n",
    "<br>\n",
    "<b>Ratio:</b>\n",
    "Ordered, equal gaps, has true zero.\n",
    "Examples: Age, Weight, Income"
   ]
  },
  {
   "cell_type": "markdown",
   "id": "de97c24a",
   "metadata": {},
   "source": [
    "11. What is the measure of central tendency"
   ]
  },
  {
   "cell_type": "markdown",
   "id": "5e8ded80",
   "metadata": {},
   "source": [
    "<b>Ans-</b> Measure of central tendency are various methods which is used to measure central point of data or a variable which can represent data. Some measure are mean, median and mode."
   ]
  },
  {
   "cell_type": "markdown",
   "id": "7061d12a",
   "metadata": {},
   "source": [
    "12.  Define mean, median, and mode"
   ]
  },
  {
   "cell_type": "markdown",
   "id": "7fc0af0f",
   "metadata": {},
   "source": [
    "<b>Ans-</b>\n",
    "<br>\n",
    "<b>Mean:</b>\n",
    "<br>\n",
    "Mean is average of a data set where every member of data set is added up and the divided by no of data. For example: Income data- [100000, 125000, 135000, 125000, 95000] now we use this formula mean = ∑x/n; Which is (100000 + 125000 + 135000 + 125000 + 95000)/5 --> 480000/5 --> mean = 96000. So we can say that in the data set there is an average salary of 96000.\n",
    "<br>\n",
    "<b>Median:</b>\n",
    "Median is middle or center point of the data also dataset is to be in accending order. \n",
    "<br>\n",
    "For example.\n",
    "<br>\n",
    "<i>For Odd Dataset</i>\n",
    "<br>\n",
    "median = Value Position (n+1)/2\n",
    "<br>​\n",
    "data = [1, 2, 3, 5, 7], n = 5\n",
    "<br>\n",
    "median = 3\n",
    "<br>\n",
    "<i>For Even Dataset</i>\n",
    "<br>\n",
    "median = ((Value Position (n+1)/2) + (Value Position n/2))/2 \n",
    "<br>​\n",
    "data = [1, 2, 3, 5, 7, 8], n = 6\n",
    "<br>\n",
    "median = (3 + 5)/2 --> 8/2 --> 4\n",
    "<br>\n",
    "<b>Mode:</b>\n",
    "<br>\n",
    "The mode is the value that appears most frequently in a dataset.\n",
    "<br>\n",
    "For example in data = [1, 2, 2, 3, 3, 3, 5]\n",
    "<br>\n",
    "mode = 3"
   ]
  },
  {
   "cell_type": "markdown",
   "id": "e6d9df21",
   "metadata": {},
   "source": [
    "13. What is the significance of the measure of central tendency"
   ]
  },
  {
   "cell_type": "markdown",
   "id": "6362b539",
   "metadata": {},
   "source": [
    "<b>Ans-</b> \n",
    "Help summarize large data into a single representative value.\n",
    "\n",
    "Useful for comparing different datasets.\n",
    "\n",
    "Assist in decision-making in fields like business, research, and economics.\n",
    "\n",
    "Help identify patterns and trends in data.\n",
    "\n",
    "Provide a quick overview of data distribution."
   ]
  },
  {
   "cell_type": "markdown",
   "id": "9ec98d6d",
   "metadata": {},
   "source": [
    "14. What is variance, and how is it calculated"
   ]
  },
  {
   "cell_type": "markdown",
   "id": "4c15dc13",
   "metadata": {},
   "source": [
    "<b>Ans-</b> Variance measures the spread or dispersion of data from the mean. It shows how much the values differ from the average."
   ]
  },
  {
   "attachments": {
    "image-2.png": {
     "image/png": "[encoded data removed]"
    },
    "image.png": {
     "image/png": "[encoded data removed]"
    }
   },
   "cell_type": "markdown",
   "id": "f92e2132",
   "metadata": {},
   "source": [
    "<b>To Calculate Variance:</b>\n",
    "<br>\n",
    "<i>For Population</i>\n",
    "<br>\n",
    "![image.png](attachment:image.png)\n",
    "<br>\n",
    "<i>For Sample</i>\n",
    "<br>\n",
    "![image-2.png](attachment:image-2.png)\n",
    "​\n"
   ]
  },
  {
   "cell_type": "markdown",
   "id": "ba864a54",
   "metadata": {},
   "source": [
    "15. What is standard deviation, and why is it important"
   ]
  },
  {
   "cell_type": "markdown",
   "id": "e4cfd421",
   "metadata": {},
   "source": [
    "<b>Ans-</b> Standard Deviation (SD) measures the average amount of variation or dispersion from the mean in a dataset."
   ]
  },
  {
   "cell_type": "markdown",
   "id": "bd0e66b6",
   "metadata": {},
   "source": [
    "16. Define and explain the term range in statistics"
   ]
  },
  {
   "cell_type": "markdown",
   "id": "d58c8302",
   "metadata": {},
   "source": [
    "<b>Ans-</b> The range is the difference between the highest and lowest values in a dataset. It shows how spread out the data is."
   ]
  },
  {
   "cell_type": "markdown",
   "id": "0d33f54a",
   "metadata": {},
   "source": [
    "17. What is the difference between variance and standard deviation"
   ]
  },
  {
   "cell_type": "markdown",
   "id": "82fde438",
   "metadata": {},
   "source": [
    "<b>Ans-</b>\n",
    "Variance = squared spread\n",
    "\n",
    "Standard Deviation = actual spread (more practical)"
   ]
  },
  {
   "cell_type": "markdown",
   "id": "3148a6cd",
   "metadata": {},
   "source": [
    "18. What is skewness in a dataset"
   ]
  },
  {
   "cell_type": "markdown",
   "id": "4bc1f5fc",
   "metadata": {},
   "source": [
    "<b>Ans-</b> Skewness measures the asymmetry or tilt of a dataset’s distribution around its mean.\n",
    "\n"
   ]
  },
  {
   "cell_type": "markdown",
   "id": "e97bbeb0",
   "metadata": {},
   "source": [
    "19. What does it mean if a dataset is positively or negatively skewed"
   ]
  },
  {
   "cell_type": "markdown",
   "id": "9f67a56e",
   "metadata": {},
   "source": [
    "<b>Ans-</b> \n",
    "Positively Skewed (Right Skewed):\n",
    "\n",
    "Tail on the right side\n",
    "\n",
    "Mean > Median > Mode\n",
    "\n",
    "Most values are lower, few high values\n",
    "\n",
    "Example: Income distribution\n",
    "\n",
    "Negatively Skewed (Left Skewed):\n",
    "\n",
    "Tail on the left side\n",
    "\n",
    "Mean < Median < Mode\n",
    "\n",
    "Most values are higher, few low values\n",
    "\n",
    "Example: Age at retirement"
   ]
  },
  {
   "cell_type": "markdown",
   "id": "5159bea5",
   "metadata": {},
   "source": [
    "20. Define and explain kurtosis"
   ]
  },
  {
   "cell_type": "markdown",
   "id": "adb79a03",
   "metadata": {},
   "source": [
    "<b>Ans-</b> Kurtosis measures the tailedness or peakedness of a data distribution — how sharp or flat the peak is compared to a normal distribution."
   ]
  },
  {
   "cell_type": "markdown",
   "id": "33914476",
   "metadata": {},
   "source": [
    "21. What is the purpose of covariance"
   ]
  },
  {
   "cell_type": "markdown",
   "id": "7bbf1cce",
   "metadata": {},
   "source": [
    "<b>Ans-</b> Covariance measures the direction of the relationship between two variables — whether they increase or decrease together."
   ]
  },
  {
   "cell_type": "markdown",
   "id": "c4c7a76f",
   "metadata": {},
   "source": [
    "22. What does correlation measure in statistics"
   ]
  },
  {
   "cell_type": "markdown",
   "id": "61b11abe",
   "metadata": {},
   "source": [
    "<b>Ans-</b> Correlation measures the strength and direction of a linear relationship between two variables."
   ]
  },
  {
   "cell_type": "markdown",
   "id": "22db1ef0",
   "metadata": {},
   "source": [
    "23. What is the difference between covariance and correlation"
   ]
  },
  {
   "cell_type": "markdown",
   "id": "c6b13211",
   "metadata": {},
   "source": [
    "<b>Ans-</b> \n",
    "Covariance tells whether variables move together.\n",
    "\n",
    "Correlation tells how strongly and in what direction they move together — and is easier to compare.\n",
    "\n",
    "\n",
    "\n",
    "\n",
    "\n",
    "\n",
    "\n",
    "\n",
    "\n"
   ]
  },
  {
   "cell_type": "markdown",
   "id": "9907afb2",
   "metadata": {},
   "source": [
    "24. What are some real-world applications of statistics"
   ]
  },
  {
   "cell_type": "markdown",
   "id": "58087108",
   "metadata": {},
   "source": [
    "<b>Ans-</b> \n",
    "Business: Market research, sales forecasting\n",
    "\n",
    "Healthcare: Medical research, patient analysis\n",
    "\n",
    "Education: Exam result trends, performance tracking\n",
    "\n",
    "Government: Census, policy planning\n",
    "\n",
    "Finance: Stock analysis, risk management\n",
    "\n",
    "Sports: Player and team performance\n",
    "\n",
    "Weather: Forecasting and climate studies\n",
    "\n",
    "Manufacturing: Quality control and process improvement"
   ]
  },
  {
   "cell_type": "markdown",
   "id": "8604f75a",
   "metadata": {},
   "source": [
    "<h1>Practical Question</h1>"
   ]
  },
  {
   "cell_type": "code",
   "execution_count": 2,
   "id": "d55a2949",
   "metadata": {},
   "outputs": [],
   "source": [
    "import pandas as pd \n",
    "import matplotlib.pyplot as plt\n",
    "import seaborn as sns\n",
    "import numpy as np\n",
    "import statistics as stats\n",
    "from scipy.stats import skew, kurtosis"
   ]
  },
  {
   "cell_type": "markdown",
   "id": "1cb1e762",
   "metadata": {},
   "source": [
    "1. How do you calculate the mean, median, and mode of a dataset"
   ]
  },
  {
   "cell_type": "code",
   "execution_count": 10,
   "id": "88c7121b",
   "metadata": {},
   "outputs": [
    {
     "name": "stdout",
     "output_type": "stream",
     "text": [
      "2.99827868852459\n",
      "2.9\n",
      "0    2.0\n",
      "Name: tip, dtype: float64\n",
      "2.99827868852459\n",
      "2.9\n",
      "2.0\n"
     ]
    }
   ],
   "source": [
    "data = sns.load_dataset('tips')\n",
    "print(data[\"tip\"].mean())\n",
    "print(data[\"tip\"].median())\n",
    "print(data[\"tip\"].mode())\n",
    "print(np.mean(data[\"tip\"]))\n",
    "print(np.median(data[\"tip\"]))\n",
    "print(stats.mode(data[\"tip\"]))"
   ]
  },
  {
   "cell_type": "markdown",
   "id": "ba6e81fe",
   "metadata": {},
   "source": [
    "2. Write a Python program to compute the variance and standard deviation of a dataset"
   ]
  },
  {
   "cell_type": "code",
   "execution_count": 24,
   "id": "00bb08f7",
   "metadata": {},
   "outputs": [
    {
     "name": "stdout",
     "output_type": "stream",
     "text": [
      "Variance: 1.9066085124966423\n",
      "Also:  1.9066085124966412\n",
      "Standard Deviation: 1.3807999538298958\n",
      "Standard Deviation: 1.3807999538298954\n"
     ]
    }
   ],
   "source": [
    "tips = list(data[\"tip\"])\n",
    "\n",
    "x_avg = data[\"tip\"].mean()\n",
    "v_sum = 0\n",
    "\n",
    "for i in tips:\n",
    "  v_sum += (i - x_avg) ** 2\n",
    "\n",
    "print(\"Variance:\", v_sum / len(tips))\n",
    "print(\"Also: \", np.var(tips))\n",
    "print(\"Standard Deviation:\", (v_sum / len(tips)) ** 0.5) \n",
    "print(\"Standard Deviation:\", np.std(tips))"
   ]
  },
  {
   "cell_type": "markdown",
   "id": "3d6b5952",
   "metadata": {},
   "source": [
    "3. Create a dataset and classify it into nominal, ordinal, interval, and ratio types"
   ]
  },
  {
   "cell_type": "code",
   "execution_count": 25,
   "id": "decae1bf",
   "metadata": {},
   "outputs": [
    {
     "name": "stdout",
     "output_type": "stream",
     "text": [
      "    Name Grade Level  Exam Score  Height (cm)  Gender\n",
      "0   Riya        12th          85          160  Female\n",
      "1  Arjun        11th          72          170    Male\n",
      "2  Sneha        10th          90          158  Female\n",
      "3    Raj        12th          78          175    Male\n",
      "Name: Nominal\n",
      "Grade Level: Ordinal\n",
      "Exam Score: Interval\n",
      "Height (cm): Ratio\n",
      "Gender: Nominal\n"
     ]
    }
   ],
   "source": [
    "data = {\n",
    "    'Name': ['Riya', 'Arjun', 'Sneha', 'Raj'],\n",
    "    'Grade Level': ['12th', '11th', '10th', '12th'],\n",
    "    'Exam Score': [85, 72, 90, 78],\n",
    "    'Height (cm)': [160, 170, 158, 175],\n",
    "    'Gender': ['Female', 'Male', 'Female', 'Male']\n",
    "}\n",
    "\n",
    "df = pd.DataFrame(data)\n",
    "\n",
    "print(df)\n",
    "\n",
    "classification = {\n",
    "    'Name': 'Nominal',\n",
    "    'Grade Level': 'Ordinal',\n",
    "    'Exam Score': 'Interval',\n",
    "    'Height (cm)': 'Ratio',\n",
    "    'Gender': 'Nominal'\n",
    "}\n",
    "\n",
    "for column, level in classification.items():\n",
    "    print(f\"{column}: {level}\")\n"
   ]
  },
  {
   "cell_type": "markdown",
   "id": "534fc1d1",
   "metadata": {},
   "source": [
    "4. Implement sampling techniques like random sampling and stratified sampling"
   ]
  },
  {
   "cell_type": "code",
   "execution_count": 26,
   "id": "525a9aaa",
   "metadata": {},
   "outputs": [
    {
     "name": "stdout",
     "output_type": "stream",
     "text": [
      "     Name Grade  Score\n",
      "0    Riya  12th     85\n",
      "1   Arjun  11th     72\n",
      "2   Sneha  10th     90\n",
      "3     Raj  12th     78\n",
      "4   Priya  11th     88\n",
      "5    Aman  10th     76\n",
      "6  Simran  11th     83\n",
      "7   Kabir  12th     91\n",
      "     Name Grade  Score\n",
      "7   Kabir  12th     91\n",
      "2   Sneha  10th     90\n",
      "1   Arjun  11th     72\n",
      "6  Simran  11th     83\n",
      "     Name Grade  Score\n",
      "0    Riya  12th     85\n",
      "1   Kabir  12th     91\n",
      "2   Arjun  11th     72\n",
      "3  Simran  11th     83\n",
      "4   Sneha  10th     90\n"
     ]
    }
   ],
   "source": [
    "data = {\n",
    "  'Name': ['Riya', 'Arjun', 'Sneha', 'Raj', 'Priya', 'Aman', 'Simran', 'Kabir'],\n",
    "  'Grade': ['12th', '11th', '10th', '12th', '11th', '10th', '11th', '12th'],\n",
    "  'Score': [85, 72, 90, 78, 88, 76, 83, 91]\n",
    "}\n",
    "\n",
    "df = pd.DataFrame(data)\n",
    "print(df)\n",
    "\n",
    "random_sample = df.sample(frac=0.5, random_state=1)\n",
    "\n",
    "print(random_sample)\n",
    "\n",
    "stratified_sample = pd.DataFrame()\n",
    "\n",
    "for grade in df['Grade'].unique():\n",
    "  group = df[df['Grade'] == grade]\n",
    "  sample = group.sample(frac=0.5, random_state=1)  \n",
    "  stratified_sample = pd.concat([stratified_sample, sample])\n",
    "\n",
    "stratified_sample.reset_index(drop=True, inplace=True)\n",
    "\n",
    "print(stratified_sample)"
   ]
  },
  {
   "cell_type": "markdown",
   "id": "4fd02da6",
   "metadata": {},
   "source": [
    "5. Write a Python function to calculate the range of a dataset"
   ]
  },
  {
   "cell_type": "code",
   "execution_count": 31,
   "id": "fb104e3a",
   "metadata": {},
   "outputs": [
    {
     "name": "stdout",
     "output_type": "stream",
     "text": [
      "243\n"
     ]
    }
   ],
   "source": [
    "data = sns.load_dataset('tips')\n",
    "x = data.shape\n",
    "range_d = x[0] - 1\n",
    "print(range_d)"
   ]
  },
  {
   "cell_type": "markdown",
   "id": "368c95ee",
   "metadata": {},
   "source": [
    "6. Create a dataset and plot its histogram to visualize skewness"
   ]
  },
  {
   "cell_type": "code",
   "execution_count": 36,
   "id": "1fe06dca",
   "metadata": {},
   "outputs": [
    {
     "data": {
      "text/plain": [
       "<Axes: xlabel='day', ylabel='Count'>"
      ]
     },
     "execution_count": 36,
     "metadata": {},
     "output_type": "execute_result"
    },
    {
     "data": {
      "image/png": "[encoded data removed]",
      "text/plain": [
       "<Figure size 640x480 with 1 Axes>"
      ]
     },
     "metadata": {},
     "output_type": "display_data"
    }
   ],
   "source": [
    "sns.histplot(data['day'], bins=range_d, kde=True)"
   ]
  },
  {
   "cell_type": "markdown",
   "id": "c58b0842",
   "metadata": {},
   "source": [
    "7. Calculate skewness and kurtosis of a dataset using Python libraries"
   ]
  },
  {
   "cell_type": "code",
   "execution_count": 39,
   "id": "72060609",
   "metadata": {},
   "outputs": [
    {
     "name": "stdout",
     "output_type": "stream",
     "text": [
      "Skewness: 1.4564\n",
      "Excess Kurtosis: 3.5496\n"
     ]
    }
   ],
   "source": [
    "skewness = skew(data['tip'])\n",
    "\n",
    "kurt = kurtosis(data['tip'])\n",
    "\n",
    "print(f\"Skewness: {skewness:.4f}\")\n",
    "print(f\"Excess Kurtosis: {kurt:.4f}\")\n"
   ]
  },
  {
   "cell_type": "markdown",
   "id": "b247ccb0",
   "metadata": {},
   "source": [
    "8. Generate a dataset and demonstrate positive and negative skewness"
   ]
  },
  {
   "cell_type": "code",
   "execution_count": 4,
   "id": "75e3d04a",
   "metadata": {},
   "outputs": [
    {
     "data": {
      "image/png": "[encoded data removed]",
      "text/plain": [
       "<Figure size 1200x500 with 2 Axes>"
      ]
     },
     "metadata": {},
     "output_type": "display_data"
    }
   ],
   "source": [
    "pos_skew = np.random.exponential(scale=2, size=1000)\n",
    "neg_skew = -np.random.exponential(scale=2, size=1000) + 10\n",
    "\n",
    "plt.figure(figsize=(12, 5))\n",
    "\n",
    "plt.subplot(1,2,1)\n",
    "sns.histplot(pos_skew, kde=True, color='skyblue')\n",
    "plt.title(f'Positive Skew\\nSkewness = {skew(pos_skew):.2f}')\n",
    "\n",
    "plt.subplot(1, 2, 2)\n",
    "sns.histplot(neg_skew, kde=True, color='salmon')\n",
    "plt.title(f'Negative Skew\\nSkewness = {skew(neg_skew):.2f}')\n",
    "\n",
    "plt.tight_layout()\n",
    "plt.show()"
   ]
  },
  {
   "cell_type": "markdown",
   "id": "f8ba66db",
   "metadata": {},
   "source": [
    "9. Write a Python script to calculate covariance between two datasets"
   ]
  },
  {
   "cell_type": "code",
   "execution_count": 7,
   "id": "e4959139",
   "metadata": {},
   "outputs": [
    {
     "name": "stdout",
     "output_type": "stream",
     "text": [
      "Manual Covariance: 7.0\n",
      "Covariance from np.cov: 7.0\n"
     ]
    }
   ],
   "source": [
    "x = [2, 4, 6, 8, 10]\n",
    "y = [1, 3, 2, 5, 7]\n",
    "\n",
    "mean_x = np.mean(x)\n",
    "mean_y = np.mean(y)\n",
    "\n",
    "cov = sum((xi - mean_x) * (yi - mean_y) for xi, yi in zip(x, y)) / (len(x) - 1)\n",
    "\n",
    "print(\"Manual Covariance:\", cov)\n",
    "\n",
    "cov_matrix = np.cov(x, y, ddof=1)\n",
    "print(\"Covariance from np.cov:\", cov_matrix[0][1])"
   ]
  },
  {
   "cell_type": "markdown",
   "id": "0f21a019",
   "metadata": {},
   "source": [
    "10. Write a Python script to calculate the correlation coefficient between two datasets "
   ]
  },
  {
   "cell_type": "code",
   "execution_count": 11,
   "id": "65bc3102",
   "metadata": {},
   "outputs": [
    {
     "name": "stdout",
     "output_type": "stream",
     "text": [
      "0.9191450300180577\n"
     ]
    }
   ],
   "source": [
    "x = [2, 4, 6, 8, 10]\n",
    "y = [1, 3, 2, 5, 7]\n",
    "\n",
    "mean_x = np.mean(x)\n",
    "mean_y = np.mean(y)\n",
    "\n",
    "cov = sum((xi - mean_x) * (yi - mean_y) for xi, yi in zip(x, y)) / (len(x) - 1)\n",
    "\n",
    "corel = cov / (np.std(x, ddof=1) * np.std(y, ddof=1))\n",
    "\n",
    "print(corel)"
   ]
  },
  {
   "cell_type": "markdown",
   "id": "6e9093bd",
   "metadata": {},
   "source": [
    "11. Create a scatter plot to visualize the relationship between two variables"
   ]
  },
  {
   "cell_type": "code",
   "execution_count": 13,
   "id": "014c15fd",
   "metadata": {},
   "outputs": [
    {
     "data": {
      "image/png": "[encoded data removed]",
      "text/plain": [
       "<Figure size 640x480 with 1 Axes>"
      ]
     },
     "metadata": {},
     "output_type": "display_data"
    }
   ],
   "source": [
    "x = [2, 4, 6, 8, 10]\n",
    "y = [1, 3, 2, 5, 7]\n",
    "\n",
    "sns.scatterplot(x=x, y=y)\n",
    "plt.title('Scatter Plot of x and y')\n",
    "plt.xlabel('x values') \n",
    "plt.ylabel('y values')\n",
    "plt.show()"
   ]
  },
  {
   "cell_type": "markdown",
   "id": "f0b5f954",
   "metadata": {},
   "source": [
    "12.  Implement and compare simple random sampling and systematic sampling"
   ]
  },
  {
   "cell_type": "code",
   "execution_count": 14,
   "id": "a8b70031",
   "metadata": {},
   "outputs": [
    {
     "name": "stdout",
     "output_type": "stream",
     "text": [
      "Simple Random Sampling:\n",
      "    ID  Value\n",
      "83  84     87\n",
      "53  54     62\n",
      "70  71     13\n",
      "45  46     48\n",
      "44  45     82\n",
      "39  40     73\n",
      "22  23     42\n",
      "80  81     57\n",
      "10  11     33\n",
      "0    1     61\n",
      "\n",
      "Systematic Sampling:\n",
      "    ID  Value\n",
      "8    9     84\n",
      "18  19     11\n",
      "28  29     68\n",
      "38  39     64\n",
      "48  49     98\n",
      "58  59     53\n",
      "68  69     15\n",
      "78  79     71\n",
      "88  89     89\n",
      "98  99     54\n"
     ]
    }
   ],
   "source": [
    "np.random.seed(42)\n",
    "data = pd.DataFrame({'ID': range(1, 101), 'Value': np.random.randint(10, 100, 100)})\n",
    "\n",
    "n = 10\n",
    "\n",
    "random_sample = data.sample(n=n, random_state=42)\n",
    "\n",
    "k = len(data) // n  # step size\n",
    "start = np.random.randint(0, k)  # random start\n",
    "systematic_indices = list(range(start, len(data), k))[:n]\n",
    "systematic_sample = data.iloc[systematic_indices]\n",
    "\n",
    "print(\"Simple Random Sampling:\")\n",
    "print(random_sample)\n",
    "\n",
    "print(\"\\nSystematic Sampling:\")\n",
    "print(systematic_sample)"
   ]
  },
  {
   "cell_type": "markdown",
   "id": "cf87a366",
   "metadata": {},
   "source": [
    "13. Calculate the mean, median, and mode of grouped data"
   ]
  },
  {
   "cell_type": "code",
   "execution_count": 15,
   "id": "b3f448f7",
   "metadata": {},
   "outputs": [
    {
     "name": "stdout",
     "output_type": "stream",
     "text": [
      "Mean: 27.0\n",
      "Median: 28.0\n"
     ]
    }
   ],
   "source": [
    "classes = [(0,10), (10,20), (20,30), (30,40), (40,50)]\n",
    "freq = [5, 8, 15, 16, 6]\n",
    "\n",
    "mid = [(a+b)/2 for a,b in classes]\n",
    "\n",
    "# Mean\n",
    "total_freq = sum(freq)\n",
    "mean = sum(f*m for f, m in zip(freq, mid)) / total_freq\n",
    "\n",
    "print(\"Mean:\", round(mean, 2))\n",
    "\n",
    "# Cumulative frequency\n",
    "cf = [sum(freq[:i+1]) for i in range(len(freq))]\n",
    "n = total_freq\n",
    "\n",
    "# Median\n",
    "for i, c in enumerate(cf):\n",
    "    if c >= n/2:\n",
    "        L = classes[i][0]\n",
    "        f = freq[i]\n",
    "        CF = cf[i-1] if i > 0 else 0\n",
    "        h = classes[i][1] - classes[i][0]\n",
    "        median = L + ((n/2 - CF) / f) * h\n",
    "        break\n",
    "\n",
    "print(\"Median:\", round(median, 2))\n"
   ]
  },
  {
   "cell_type": "markdown",
   "id": "b7e3c61d",
   "metadata": {},
   "source": [
    "14.  Simulate data using Python and calculate its central tendency and dispersion"
   ]
  },
  {
   "cell_type": "code",
   "execution_count": 16,
   "id": "76fa7653",
   "metadata": {},
   "outputs": [
    {
     "name": "stdout",
     "output_type": "stream",
     "text": [
      "Mean: 74.77\n",
      "Median: 73.5\n",
      "Mode: 93\n",
      "Range: 50\n",
      "Variance: 218.52\n",
      "Standard Deviation: 14.78\n"
     ]
    }
   ],
   "source": [
    "from scipy import stats\n",
    "\n",
    "np.random.seed(42)\n",
    "data = np.random.randint(50, 101, 100)\n",
    "df = pd.Series(data)\n",
    "\n",
    "mean = df.mean()\n",
    "median = df.median()\n",
    "mode = df.mode()[0]\n",
    "\n",
    "data_range = df.max() - df.min()\n",
    "variance = df.var()\n",
    "std_dev = df.std()\n",
    "\n",
    "print(f\"Mean: {mean:.2f}\")\n",
    "print(f\"Median: {median}\")\n",
    "print(f\"Mode: {mode}\")\n",
    "print(f\"Range: {data_range}\")\n",
    "print(f\"Variance: {variance:.2f}\")\n",
    "print(f\"Standard Deviation: {std_dev:.2f}\")"
   ]
  },
  {
   "cell_type": "markdown",
   "id": "b74e4623",
   "metadata": {},
   "source": [
    "15.  Use NumPy or pandas to summarize a dataset’s descriptive statistics"
   ]
  },
  {
   "cell_type": "code",
   "execution_count": 20,
   "id": "fef1d994",
   "metadata": {},
   "outputs": [
    {
     "data": {
      "text/html": [
       "<div>\n",
       "<style scoped>\n",
       "    .dataframe tbody tr th:only-of-type {\n",
       "        vertical-align: middle;\n",
       "    }\n",
       "\n",
       "    .dataframe tbody tr th {\n",
       "        vertical-align: top;\n",
       "    }\n",
       "\n",
       "    .dataframe thead th {\n",
       "        text-align: right;\n",
       "    }\n",
       "</style>\n",
       "<table border=\"1\" class=\"dataframe\">\n",
       "  <thead>\n",
       "    <tr style=\"text-align: right;\">\n",
       "      <th></th>\n",
       "      <th>total_bill</th>\n",
       "      <th>tip</th>\n",
       "      <th>sex</th>\n",
       "      <th>smoker</th>\n",
       "      <th>day</th>\n",
       "      <th>time</th>\n",
       "      <th>size</th>\n",
       "    </tr>\n",
       "  </thead>\n",
       "  <tbody>\n",
       "    <tr>\n",
       "      <th>count</th>\n",
       "      <td>244.000000</td>\n",
       "      <td>244.000000</td>\n",
       "      <td>244</td>\n",
       "      <td>244</td>\n",
       "      <td>244</td>\n",
       "      <td>244</td>\n",
       "      <td>244.000000</td>\n",
       "    </tr>\n",
       "    <tr>\n",
       "      <th>unique</th>\n",
       "      <td>NaN</td>\n",
       "      <td>NaN</td>\n",
       "      <td>2</td>\n",
       "      <td>2</td>\n",
       "      <td>4</td>\n",
       "      <td>2</td>\n",
       "      <td>NaN</td>\n",
       "    </tr>\n",
       "    <tr>\n",
       "      <th>top</th>\n",
       "      <td>NaN</td>\n",
       "      <td>NaN</td>\n",
       "      <td>Male</td>\n",
       "      <td>No</td>\n",
       "      <td>Sat</td>\n",
       "      <td>Dinner</td>\n",
       "      <td>NaN</td>\n",
       "    </tr>\n",
       "    <tr>\n",
       "      <th>freq</th>\n",
       "      <td>NaN</td>\n",
       "      <td>NaN</td>\n",
       "      <td>157</td>\n",
       "      <td>151</td>\n",
       "      <td>87</td>\n",
       "      <td>176</td>\n",
       "      <td>NaN</td>\n",
       "    </tr>\n",
       "    <tr>\n",
       "      <th>mean</th>\n",
       "      <td>19.785943</td>\n",
       "      <td>2.998279</td>\n",
       "      <td>NaN</td>\n",
       "      <td>NaN</td>\n",
       "      <td>NaN</td>\n",
       "      <td>NaN</td>\n",
       "      <td>2.569672</td>\n",
       "    </tr>\n",
       "    <tr>\n",
       "      <th>std</th>\n",
       "      <td>8.902412</td>\n",
       "      <td>1.383638</td>\n",
       "      <td>NaN</td>\n",
       "      <td>NaN</td>\n",
       "      <td>NaN</td>\n",
       "      <td>NaN</td>\n",
       "      <td>0.951100</td>\n",
       "    </tr>\n",
       "    <tr>\n",
       "      <th>min</th>\n",
       "      <td>3.070000</td>\n",
       "      <td>1.000000</td>\n",
       "      <td>NaN</td>\n",
       "      <td>NaN</td>\n",
       "      <td>NaN</td>\n",
       "      <td>NaN</td>\n",
       "      <td>1.000000</td>\n",
       "    </tr>\n",
       "    <tr>\n",
       "      <th>25%</th>\n",
       "      <td>13.347500</td>\n",
       "      <td>2.000000</td>\n",
       "      <td>NaN</td>\n",
       "      <td>NaN</td>\n",
       "      <td>NaN</td>\n",
       "      <td>NaN</td>\n",
       "      <td>2.000000</td>\n",
       "    </tr>\n",
       "    <tr>\n",
       "      <th>50%</th>\n",
       "      <td>17.795000</td>\n",
       "      <td>2.900000</td>\n",
       "      <td>NaN</td>\n",
       "      <td>NaN</td>\n",
       "      <td>NaN</td>\n",
       "      <td>NaN</td>\n",
       "      <td>2.000000</td>\n",
       "    </tr>\n",
       "    <tr>\n",
       "      <th>75%</th>\n",
       "      <td>24.127500</td>\n",
       "      <td>3.562500</td>\n",
       "      <td>NaN</td>\n",
       "      <td>NaN</td>\n",
       "      <td>NaN</td>\n",
       "      <td>NaN</td>\n",
       "      <td>3.000000</td>\n",
       "    </tr>\n",
       "    <tr>\n",
       "      <th>max</th>\n",
       "      <td>50.810000</td>\n",
       "      <td>10.000000</td>\n",
       "      <td>NaN</td>\n",
       "      <td>NaN</td>\n",
       "      <td>NaN</td>\n",
       "      <td>NaN</td>\n",
       "      <td>6.000000</td>\n",
       "    </tr>\n",
       "  </tbody>\n",
       "</table>\n",
       "</div>"
      ],
      "text/plain": [
       "        total_bill         tip   sex smoker  day    time        size\n",
       "count   244.000000  244.000000   244    244  244     244  244.000000\n",
       "unique         NaN         NaN     2      2    4       2         NaN\n",
       "top            NaN         NaN  Male     No  Sat  Dinner         NaN\n",
       "freq           NaN         NaN   157    151   87     176         NaN\n",
       "mean     19.785943    2.998279   NaN    NaN  NaN     NaN    2.569672\n",
       "std       8.902412    1.383638   NaN    NaN  NaN     NaN    0.951100\n",
       "min       3.070000    1.000000   NaN    NaN  NaN     NaN    1.000000\n",
       "25%      13.347500    2.000000   NaN    NaN  NaN     NaN    2.000000\n",
       "50%      17.795000    2.900000   NaN    NaN  NaN     NaN    2.000000\n",
       "75%      24.127500    3.562500   NaN    NaN  NaN     NaN    3.000000\n",
       "max      50.810000   10.000000   NaN    NaN  NaN     NaN    6.000000"
      ]
     },
     "execution_count": 20,
     "metadata": {},
     "output_type": "execute_result"
    }
   ],
   "source": [
    "df = sns.load_dataset('tips')\n",
    "df.describe(include='all')"
   ]
  },
  {
   "cell_type": "markdown",
   "id": "0bfeed58",
   "metadata": {},
   "source": [
    "16. Plot a boxplot to understand the spread and identify outliers"
   ]
  },
  {
   "cell_type": "code",
   "execution_count": 25,
   "id": "0e2fe789",
   "metadata": {},
   "outputs": [
    {
     "data": {
      "text/plain": [
       "<Axes: xlabel='smoker', ylabel='tip'>"
      ]
     },
     "execution_count": 25,
     "metadata": {},
     "output_type": "execute_result"
    },
    {
     "data": {
      "image/png": "[encoded data removed]",
      "text/plain": [
       "<Figure size 640x480 with 1 Axes>"
      ]
     },
     "metadata": {},
     "output_type": "display_data"
    }
   ],
   "source": [
    "sns.boxplot(x='smoker', y='tip', data=df)"
   ]
  },
  {
   "cell_type": "markdown",
   "id": "d21d7202",
   "metadata": {},
   "source": [
    "17. Calculate the interquartile range (IQR) of a dataset"
   ]
  },
  {
   "cell_type": "code",
   "execution_count": 26,
   "id": "debe04af",
   "metadata": {},
   "outputs": [
    {
     "name": "stdout",
     "output_type": "stream",
     "text": [
      "Interquartile Range (IQR): 1.56\n"
     ]
    }
   ],
   "source": [
    "q1 = df['tip'].quantile(0.25)\n",
    "q3 = df['tip'].quantile(0.75)\n",
    "\n",
    "iqr = q3 - q1\n",
    "print(f\"Interquartile Range (IQR): {iqr:.2f}\")"
   ]
  },
  {
   "cell_type": "markdown",
   "id": "356bd4db",
   "metadata": {},
   "source": [
    "18.  Implement Z-score normalization and explain its significance"
   ]
  },
  {
   "cell_type": "code",
   "execution_count": 27,
   "id": "9c463191",
   "metadata": {},
   "outputs": [
    {
     "name": "stdout",
     "output_type": "stream",
     "text": [
      "Original Data:\n",
      " [10, 12, 15, 18, 20, 25, 30]\n",
      "Z-score Normalized Data:\n",
      " [-1.204748031824688, -0.9236401577322608, -0.5019783465936201, -0.0803165354549794, 0.20079133863744775, 0.9035610238685156, 1.6063307090995833]\n"
     ]
    }
   ],
   "source": [
    "data = pd.Series([10, 12, 15, 18, 20, 25, 30])\n",
    "\n",
    "\n",
    "z_scores = (data - data.mean()) / data.std()\n",
    "\n",
    "print(\"Original Data:\\n\", data.tolist())\n",
    "print(\"Z-score Normalized Data:\\n\", z_scores.tolist())"
   ]
  },
  {
   "cell_type": "markdown",
   "id": "cc8fedc1",
   "metadata": {},
   "source": [
    "19. Compare two datasets using their standard deviations"
   ]
  },
  {
   "cell_type": "code",
   "execution_count": 28,
   "id": "c6d8709f",
   "metadata": {},
   "outputs": [
    {
     "name": "stdout",
     "output_type": "stream",
     "text": [
      "Standard Deviation of Dataset A: 0.98\n",
      "Standard Deviation of Dataset B: 10.8\n",
      "Dataset A is more consistent.\n"
     ]
    }
   ],
   "source": [
    "data_a = [50, 52, 51, 49, 50, 51, 50]\n",
    "\n",
    "data_b = [40, 55, 45, 65, 35, 60, 50]\n",
    "\n",
    "\n",
    "std_a = np.std(data_a, ddof=1)\n",
    "std_b = np.std(data_b, ddof=1)\n",
    "\n",
    "print(\"Standard Deviation of Dataset A:\", round(std_a, 2))\n",
    "print(\"Standard Deviation of Dataset B:\", round(std_b, 2))\n",
    "\n",
    "if std_a < std_b:\n",
    "    print(\"Dataset A is more consistent.\")\n",
    "else:\n",
    "    print(\"Dataset B is more consistent.\")"
   ]
  },
  {
   "cell_type": "markdown",
   "id": "cd4ccf0c",
   "metadata": {},
   "source": [
    "20.  Write a Python program to visualize covariance using a heatmap"
   ]
  },
  {
   "cell_type": "code",
   "execution_count": 29,
   "id": "8ec42a53",
   "metadata": {},
   "outputs": [
    {
     "data": {
      "text/plain": [
       "<Axes: >"
      ]
     },
     "execution_count": 29,
     "metadata": {},
     "output_type": "execute_result"
    },
    {
     "data": {
      "image/png": "[encoded data removed]",
      "text/plain": [
       "<Figure size 640x480 with 2 Axes>"
      ]
     },
     "metadata": {},
     "output_type": "display_data"
    }
   ],
   "source": [
    "data_a = [50, 52, 51, 49, 50, 51, 50]\n",
    "\n",
    "data_b = [40, 55, 45, 65, 35, 60, 50]\n",
    "\n",
    "sns.heatmap(np.cov([data_a, data_b]), annot=True, cmap='coolwarm', xticklabels=['Dataset A', 'Dataset B'], yticklabels=['Dataset A', 'Dataset B'])"
   ]
  },
  {
   "cell_type": "markdown",
   "id": "b55a6ead",
   "metadata": {},
   "source": [
    "21.  Use seaborn to create a correlation matrix for a dataset>"
   ]
  },
  {
   "cell_type": "code",
   "execution_count": 30,
   "id": "0850b212",
   "metadata": {},
   "outputs": [
    {
     "data": {
      "image/png": "[encoded data removed]",
      "text/plain": [
       "<Figure size 800x600 with 2 Axes>"
      ]
     },
     "metadata": {},
     "output_type": "display_data"
    }
   ],
   "source": [
    "df = sns.load_dataset('iris')  \n",
    "\n",
    "corr_matrix = df.corr(numeric_only=True)\n",
    "\n",
    "\n",
    "plt.figure(figsize=(8, 6))\n",
    "sns.heatmap(corr_matrix, annot=True, cmap='coolwarm', fmt=\".2f\", linewidths=0.5)\n",
    "plt.title(\"Correlation Matrix\")\n",
    "plt.show()"
   ]
  },
  {
   "cell_type": "markdown",
   "id": "9936f5be",
   "metadata": {},
   "source": [
    "22. Generate a dataset and implement both variance and standard deviation computations"
   ]
  },
  {
   "cell_type": "code",
   "execution_count": 31,
   "id": "3d03c0ae",
   "metadata": {},
   "outputs": [
    {
     "name": "stdout",
     "output_type": "stream",
     "text": [
      "Dataset: [74 56 58 73 50 93 57 73 60 66]\n",
      "Mean: 66.00\n",
      "Manual Variance: 158.67\n",
      "Manual Std Dev: 12.60\n",
      "Numpy Variance: 158.67\n",
      "Numpy Std Dev: 12.60\n"
     ]
    }
   ],
   "source": [
    "data = np.random.randint(50, 100, size=10)\n",
    "print(\"Dataset:\", data)\n",
    "\n",
    "mean = np.mean(data)\n",
    "\n",
    "variance_manual = sum((x - mean) ** 2 for x in data) / (len(data) - 1)\n",
    "\n",
    "std_dev_manual = variance_manual ** 0.5\n",
    "\n",
    "variance_np = np.var(data, ddof=1)\n",
    "std_dev_np = np.std(data, ddof=1)\n",
    "\n",
    "print(f\"Mean: {mean:.2f}\")\n",
    "print(f\"Manual Variance: {variance_manual:.2f}\")\n",
    "print(f\"Manual Std Dev: {std_dev_manual:.2f}\")\n",
    "print(f\"Numpy Variance: {variance_np:.2f}\")\n",
    "print(f\"Numpy Std Dev: {std_dev_np:.2f}\")"
   ]
  },
  {
   "cell_type": "markdown",
   "id": "e04e7416",
   "metadata": {},
   "source": [
    "23. Visualize skewness and kurtosis using Python libraries like matplotlib or seaborn"
   ]
  },
  {
   "cell_type": "code",
   "execution_count": 32,
   "id": "529b1384",
   "metadata": {},
   "outputs": [
    {
     "data": {
      "image/png": "[encoded data removed]",
      "text/plain": [
       "<Figure size 1000x600 with 1 Axes>"
      ]
     },
     "metadata": {},
     "output_type": "display_data"
    }
   ],
   "source": [
    "np.random.seed(42)\n",
    "data = np.random.exponential(scale=2.0, size=1000) \n",
    "\n",
    "df = pd.Series(data)\n",
    "\n",
    "data_skew = skew(df)\n",
    "data_kurt = kurtosis(df) \n",
    "\n",
    "plt.figure(figsize=(10, 6))\n",
    "sns.histplot(df, kde=True, bins=30, color='skyblue', edgecolor='black')\n",
    "plt.title(f\"Histogram (Skew: {data_skew:.2f}, Kurtosis: {data_kurt:.2f})\")\n",
    "plt.xlabel(\"Values\")\n",
    "plt.ylabel(\"Frequency\")\n",
    "plt.grid(True)\n",
    "plt.show()"
   ]
  },
  {
   "cell_type": "markdown",
   "id": "0a92edf9",
   "metadata": {},
   "source": [
    "24.  Implement the Pearson and Spearman correlation coefficients for a dataset"
   ]
  },
  {
   "cell_type": "code",
   "execution_count": 34,
   "id": "27a7e49d",
   "metadata": {},
   "outputs": [
    {
     "name": "stdout",
     "output_type": "stream",
     "text": [
      "Pearson Correlation: 0.9972 (p-value: 0.0002)\n",
      "Spearman Correlation: 1.0000 (p-value: 0.0000)\n"
     ]
    }
   ],
   "source": [
    "from scipy.stats import pearsonr, spearmanr\n",
    "\n",
    "\n",
    "data = {\n",
    "    'x': [10, 20, 30, 40, 50],\n",
    "    'y': [12, 24, 33, 47, 55] \n",
    "}\n",
    "df = pd.DataFrame(data)\n",
    "\n",
    "# Pearson correlation\n",
    "pearson_corr, p1 = pearsonr(df['x'], df['y'])\n",
    "\n",
    "# Spearman correlation\n",
    "spearman_corr, p2 = spearmanr(df['x'], df['y'])\n",
    "\n",
    "# Output results\n",
    "print(f\"Pearson Correlation: {pearson_corr:.4f} (p-value: {p1:.4f})\")\n",
    "print(f\"Spearman Correlation: {spearman_corr:.4f} (p-value: {p2:.4f})\")\n"
   ]
  }
 ],
 "metadata": {
  "kernelspec": {
   "display_name": "Python 3",
   "language": "python",
   "name": "python3"
  },
  "language_info": {
   "codemirror_mode": {
    "name": "ipython",
    "version": 3
   },
   "file_extension": ".py",
   "mimetype": "text/x-python",
   "name": "python",
   "nbconvert_exporter": "python",
   "pygments_lexer": "ipython3",
   "version": "3.13.3"
  }
 },
 "nbformat": 4,
 "nbformat_minor": 5
}
