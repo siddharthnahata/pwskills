{
 "cells": [
  {
   "cell_type": "markdown",
   "id": "2975018a",
   "metadata": {},
   "source": [
    "1. What is a random variable in probability theory"
   ]
  },
  {
   "cell_type": "markdown",
   "id": "86c11d2b",
   "metadata": {},
   "source": [
    "<b>Ans-</b> A random variable in probability theory is just posible outcome of an variable from a series"
   ]
  },
  {
   "cell_type": "markdown",
   "id": "5e3d34d1",
   "metadata": {},
   "source": [
    "2.  What are the types of random variables"
   ]
  },
  {
   "cell_type": "markdown",
   "id": "d3b3d7f6",
   "metadata": {},
   "source": [
    "<b>Ans-</b> 1. Discrete Random Variable, 2, Continuous Random Variable"
   ]
  },
  {
   "cell_type": "markdown",
   "id": "a9c212c2",
   "metadata": {},
   "source": [
    "3. What is the difference between discrete and continuous distributions"
   ]
  },
  {
   "cell_type": "markdown",
   "id": "eb7eb70c",
   "metadata": {},
   "source": [
    "<b>Ans-</b> Discrete Distribution: For countable values (e.g., number of heads). Probabilities are assigned to exact points using a Probability Mass Function (PMF).\n",
    "\n",
    "Continuous Distribution: For measurable values (e.g., height, time). Probabilities are for intervals/ranges using a Probability Density Function (PDF), where the probability is the area under the curve"
   ]
  },
  {
   "cell_type": "markdown",
   "id": "7975062e",
   "metadata": {},
   "source": [
    "4. What are probability distribution functions (PDF)"
   ]
  },
  {
   "cell_type": "markdown",
   "id": "a53e0089",
   "metadata": {},
   "source": [
    "<b>Ans-</b> A probability distribution function (PDF) describes the likelihood of different outcomes for a continuous random variable. It essentially tells you how probable it is to find the variable within a specific range of values."
   ]
  },
  {
   "cell_type": "markdown",
   "id": "4ea33ec3",
   "metadata": {},
   "source": [
    "5.  How do cumulative distribution functions (CDF) differ from probability distribution functions (PDF)"
   ]
  },
  {
   "cell_type": "markdown",
   "id": "c5f7f20c",
   "metadata": {},
   "source": [
    "<b>Ans-</b> The PDF gives the probability density at a specific point, while the CDF gives the probability that a random variable is less than or equal to a specific value. "
   ]
  },
  {
   "cell_type": "markdown",
   "id": "dcec5a7e",
   "metadata": {},
   "source": [
    "6. What is a discrete uniform distribution"
   ]
  },
  {
   "cell_type": "markdown",
   "id": "4c745844",
   "metadata": {},
   "source": [
    "<b>Ans-</b> Discrete uniform distribution is a distribution of data where getting a variable in the series is equal for all like rolling a dice."
   ]
  },
  {
   "cell_type": "markdown",
   "id": "95835f82",
   "metadata": {},
   "source": [
    "7. What are the key properties of a Bernoulli distribution"
   ]
  },
  {
   "cell_type": "markdown",
   "id": "3298a23a",
   "metadata": {},
   "source": [
    "<b>Ans</b> The Bernoulli distribution is used for the series where only two outcome are there like tossing a coin, success or fail. Here also outcome of one trail does no affect the outcome of other trail. Here p = success and (1-p) = fail. Mean = p and Var = (1-p)."
   ]
  },
  {
   "cell_type": "markdown",
   "id": "1ed242ce",
   "metadata": {},
   "source": [
    "8. What is the binomial distribution, and how is it used in probability"
   ]
  },
  {
   "cell_type": "markdown",
   "id": "06cc254e",
   "metadata": {},
   "source": [
    "<b>Ans</b> Binomial Distribution says where what is probility in series where there is only two posible outcome is there success(1) or failure(0) in numbers of trial. like for example what is the probilty of getting 4 heads in 10 times. So P(X = k) = (nCk) * p^k * (1-p)^(k - n), here k is no of success n is number of trials. "
   ]
  },
  {
   "cell_type": "code",
   "execution_count": 5,
   "id": "97b192d5",
   "metadata": {},
   "outputs": [
    {
     "name": "stdout",
     "output_type": "stream",
     "text": [
      "21.0\n"
     ]
    }
   ],
   "source": [
    "import math\n",
    "\n",
    "p = 0.5 #50-50 chance of getting\n",
    "\n",
    "n = 10\n",
    "k = 4\n",
    "nCk = math.factorial(n)/ (math.factorial(k) * math.factorial(n-k))\n",
    "\n",
    "pmf = (nCk * (p**k) * ((1-p)**(n-k))).__round__(2)\n",
    "\n",
    "print(pmf*100)"
   ]
  },
  {
   "cell_type": "markdown",
   "id": "b2ad9375",
   "metadata": {},
   "source": [
    "9. What is the Poisson distribution and where is it applied"
   ]
  },
  {
   "cell_type": "markdown",
   "id": "a5987ae4",
   "metadata": {},
   "source": [
    "<b>Ans</b> The Poisson distribution is a discrete probability distribution that expresses the probability of a given number of events occurring in a fixed interval of time or space if these events occur with a known constant mean rate and independently of the time since the last event. It's used to model the probability of a certain number of successes (events) occurring within a fixed interval, given the average rate of occurrence. "
   ]
  },
  {
   "cell_type": "markdown",
   "id": "015e89fb",
   "metadata": {},
   "source": [
    "10. What is a continuous uniform distribution"
   ]
  },
  {
   "cell_type": "markdown",
   "id": "e412be48",
   "metadata": {},
   "source": [
    "<b>Ans</b> A continuous uniform distribution is a probability distribution where a continuous random variable has an equal probability of taking any value within a specified range [a, b]. "
   ]
  },
  {
   "cell_type": "markdown",
   "id": "8e32d201",
   "metadata": {},
   "source": [
    "11. What are the characteristics of a normal distribution"
   ]
  },
  {
   "cell_type": "markdown",
   "id": "57003d9c",
   "metadata": {},
   "source": [
    "<b>Ans</b> It's symmetric around its mean, meaning the left and right sides of the curve are mirror images. The mean, median, and mode are all equal, and located at the center of the distribution. The curve is bell-shaped, with the highest point at the mean and tapering off equally in both directions. Furthermore, the total area under the curve equals 1, and the distribution is fully defined by its mean and standard deviation"
   ]
  },
  {
   "cell_type": "markdown",
   "id": "515703ac",
   "metadata": {},
   "source": [
    "12. What is the standard normal distribution, and why is it important"
   ]
  },
  {
   "cell_type": "markdown",
   "id": "ea251861",
   "metadata": {},
   "source": [
    "<b>Ans</b> The standard normal distribution is a specific type of normal distribution where the mean is 0 and the standard deviation is 1. It's a crucial concept in statistics because it allows us to compare data from different normal distributions and calculate probabilities related to those distributions. "
   ]
  },
  {
   "cell_type": "markdown",
   "id": "746368d9",
   "metadata": {},
   "source": [
    "13. What is the Central Limit Theorem (CLT), and why is it critical in statistics"
   ]
  },
  {
   "cell_type": "markdown",
   "metadata": {},
   "source": [
    "<b>Ans</b> The Central Limit Theorem (CLT) states that the distribution of sample means will approximate a normal distribution, regardless of the original population's distribution, as long as the sample size is sufficiently large. This is critical in statistics because it allows us to make inferences about population parameters (like the mean) using sample data, even when the population distribution is unknown or non-normal"
   ]
  },
  {
   "cell_type": "markdown",
   "id": "047743b0",
   "metadata": {},
   "source": [
    "14. How does the Central Limit Theorem relate to the normal distribution"
   ]
  },
  {
   "cell_type": "markdown",
   "metadata": {},
   "source": [
    "<b>Ans</b> The central limit theorem (CLT) explains the relationship between the normal distribution and sample means. It states that the distribution of sample means will approach a normal distribution, regardless of the shape of the original population distribution, as the sample size gets larger."
   ]
  },
  {
   "cell_type": "markdown",
   "id": "4a475032",
   "metadata": {},
   "source": [
    "15. What is the application of Z statistics in hypothesis testing"
   ]
  },
  {
   "cell_type": "markdown",
   "metadata": {},
   "source": [
    "<b>Ans</b> Z-statistics, calculated using a Z-test, are applied in hypothesis testing to determine if there's a significant difference between a sample's mean and a population's mean, or between the means of two independent samples. This is particularly useful when the population variance is known, or when dealing with large sample sizes (typically n ≥ 30)"
   ]
  },
  {
   "cell_type": "markdown",
   "id": "89dbf591",
   "metadata": {},
   "source": [
    "16.  How do you calculate a Z-score, and what does it represent"
   ]
  },
  {
   "cell_type": "markdown",
   "metadata": {},
   "source": [
    "<b>Ans</b> A Z-score, also known as a standard score, indicates how many standard deviations a data point is away from the mean of a dataset. It's calculated by subtracting the mean from the data point and then dividing by the standard deviation. A positive Z-score means the data point is above the mean, while a negative Z-score indicates it's below the mean. Z = (x - μ) / σ "
   ]
  },
  {
   "cell_type": "markdown",
   "id": "e38e8093",
   "metadata": {},
   "source": [
    "17. What are point estimates and interval estimates in statistics"
   ]
  },
  {
   "cell_type": "markdown",
   "id": "12407ab7",
   "metadata": {},
   "source": [
    "<b>Ans</b> In statistics, point estimates and interval estimates are two fundamental ways to estimate unknown population parameters using sample data. Point estimates provide a single value as the best guess, while interval estimates provide a range of values within which the parameter is likely to fall. "
   ]
  },
  {
   "cell_type": "markdown",
   "id": "b5d12e00",
   "metadata": {},
   "source": [
    "18. What is the significance of confidence intervals in statistical analysis"
   ]
  },
  {
   "cell_type": "markdown",
   "id": "4fa98e82",
   "metadata": {},
   "source": [
    "<b>Ans</b> Confidence intervals in statistical analysis are crucial because they provide a range of plausible values for an unknown population parameter, offering a more informative measure of uncertainty than a single point estimate. They help researchers understand the reliability and precision of their estimates, guiding them in making data-driven decisions. "
   ]
  },
  {
   "cell_type": "markdown",
   "id": "d1f5c963",
   "metadata": {},
   "source": [
    "19. What is the relationship between a Z-score and a confidence interval"
   ]
  },
  {
   "cell_type": "markdown",
   "id": "cbd3c0c2",
   "metadata": {},
   "source": [
    "<b>Ans</b> A Z-score and a confidence interval are related because Z-scores are used to calculate the margin of error, which is a crucial component of a confidence interval. The Z-score, representing the number of standard deviations from the mean, is directly linked to the desired confidence level for the interval. A higher confidence level corresponds to a larger Z-score, resulting in a wider confidence interval. "
   ]
  },
  {
   "cell_type": "markdown",
   "id": "e1f34fda",
   "metadata": {},
   "source": [
    "20. How are Z-scores used to compare different distributions"
   ]
  },
  {
   "cell_type": "markdown",
   "metadata": {},
   "source": [
    "<b>Ans</b> Z-scores are used to compare data from different distributions by standardizing the values. This means converting raw scores into a common scale based on standard deviations from the mean, allowing for direct comparison regardless of the original scale. A Z-score indicates how many standard deviations a data point is away from the mean of its distribution. "
   ]
  },
  {
   "cell_type": "markdown",
   "id": "e7d34fd1",
   "metadata": {},
   "source": [
    "21. What are the assumptions for applying the Central Limit Theorem"
   ]
  },
  {
   "cell_type": "markdown",
   "id": "23b21a20",
   "metadata": {},
   "source": [
    "<b>Ans</b> The Central Limit Theorem (CLT) requires a few key assumptions to be met for the sampling distribution of sample means to approximate a normal distribution. These include: random sampling, independence of samples, a sufficiently large sample size, and sometimes, that the sample size is less than 10% of the population when sampling without replacement. "
   ]
  },
  {
   "cell_type": "markdown",
   "id": "aa3d6b8b",
   "metadata": {},
   "source": [
    "22. What is the concept of expected value in a probability distribution"
   ]
  },
  {
   "cell_type": "markdown",
   "id": "3bdfeae2",
   "metadata": {},
   "source": [
    "<b>Ans</b> The expected value in a probability distribution represents the long-run average outcome of a random variable. It's a weighted average of all possible values, where each value is weighted by its corresponding probability. Essentially, it tells you what you can \"expect\" to see, on average, if you repeat an experiment many times. "
   ]
  },
  {
   "cell_type": "markdown",
   "id": "5e4c257e",
   "metadata": {},
   "source": [
    "23. How does a probability distribution relate to the expected outcome of a random variable"
   ]
  },
  {
   "cell_type": "markdown",
   "id": "b4b624af",
   "metadata": {},
   "source": [
    "<b>Ans</b> A probability distribution defines the likelihood of each possible outcome of a random variable, and the expected value is a way to summarize this distribution into a single, representative number. Specifically, the expected value represents the average outcome you would expect if you repeated the random experiment many times. "
   ]
  }
 ],
 "metadata": {
  "kernelspec": {
   "display_name": "Python 3",
   "language": "python",
   "name": "python3"
  },
  "language_info": {
   "codemirror_mode": {
    "name": "ipython",
    "version": 3
   },
   "file_extension": ".py",
   "mimetype": "text/x-python",
   "name": "python",
   "nbconvert_exporter": "python",
   "pygments_lexer": "ipython3",
   "version": "3.13.3"
  }
 },
 "nbformat": 4,
 "nbformat_minor": 5
}
