{
 "cells": [
  {
   "cell_type": "markdown",
   "id": "1483cc26-5d67-4687-9eee-9d8caa7937ea",
   "metadata": {},
   "source": [
    "Theroy Questions"
   ]
  },
  {
   "cell_type": "markdown",
   "id": "1bc0d372-13a2-4f0e-a695-b9c09f802ea3",
   "metadata": {},
   "source": [
    "1. What is Python, and why is it popular "
   ]
  },
  {
   "cell_type": "markdown",
   "id": "0f77224f-a851-4f98-8d9e-e442cea7e239",
   "metadata": {},
   "source": [
    "Ans- Python is an programing language which make us to communicate with computers and it is a high level programing language\n",
    "it is very popular because of its easy structure and easy to read syntax simalar to english."
   ]
  },
  {
   "cell_type": "markdown",
   "id": "276e2bde-5fec-4c06-a7ff-21bf158cbdc8",
   "metadata": {},
   "source": [
    "2. What is an interpreter in Python "
   ]
  },
  {
   "cell_type": "markdown",
   "id": "e7cc82e6-8f88-40dc-81eb-a1cd5ce6a9dc",
   "metadata": {},
   "source": [
    "Ans- Interpreter is an program in python which execute the python code line by line which help us to better the code with understandings\n",
    "and also helps us  while debbuging the code."
   ]
  },
  {
   "cell_type": "markdown",
   "id": "f1968bbc-a918-4eec-89c9-4f664d37baff",
   "metadata": {},
   "source": [
    "3. What are pre-defined keywords in Python "
   ]
  },
  {
   "cell_type": "markdown",
   "id": "75dd519a-9561-42b1-8436-f03ec5405fb0",
   "metadata": {},
   "source": [
    "Ans- Pre defined keywords in python are that words which are already defined in python and should. They mostly are function, \n",
    "types of variables and etc. For eg. if, elif, else, def, print and etc"
   ]
  },
  {
   "cell_type": "markdown",
   "id": "51ef27ec-b816-4a31-86f4-39117995512d",
   "metadata": {},
   "source": [
    " 4. Can keywords be used as variable names "
   ]
  },
  {
   "cell_type": "markdown",
   "id": "2e2a659b-e5a1-4247-997d-ded219108038",
   "metadata": {},
   "source": [
    "Ans- No, if we assign key words as name of variable it will make some error in the code. "
   ]
  },
  {
   "cell_type": "markdown",
   "id": "d68c577b-3a6e-4a08-b7f6-b6cfd1465950",
   "metadata": {},
   "source": [
    "5. What is mutability in Python "
   ]
  },
  {
   "cell_type": "markdown",
   "id": "d48bf76a-8ca1-4fc4-9814-b9629c890528",
   "metadata": {},
   "source": [
    "Ans- mutability is a thing where we can re assign varibles present in a array or list object."
   ]
  },
  {
   "cell_type": "markdown",
   "id": "05134de0-41d3-461e-9114-b983ceab627c",
   "metadata": {},
   "source": [
    "6. Why are lists mutable, but tuples are immutable \n"
   ]
  },
  {
   "cell_type": "markdown",
   "id": "d3ce7878-3b65-44a5-a363-d728d2f751b2",
   "metadata": {},
   "source": [
    "Ans- List are mutable because they are dyanmic and they meant for flexable use but tuples are fixed data type they are not \n",
    "meant to be changed as for fix data type."
   ]
  },
  {
   "cell_type": "markdown",
   "id": "9ae4cc20-fce5-416c-bf80-e0ffb1ccafd0",
   "metadata": {},
   "source": [
    "7.  What is the difference between “==” and “is” operators in Python "
   ]
  },
  {
   "cell_type": "markdown",
   "id": "193932c9-5cc0-4e2a-b378-cc58a5eb5092",
   "metadata": {},
   "source": [
    "Ans- see \"==\" refers to same value but \"is\" refers to same memory. \n",
    "For Eg."
   ]
  },
  {
   "cell_type": "code",
   "execution_count": 5,
   "id": "eb51be73-208c-4e6e-85e7-340e51d5e84c",
   "metadata": {},
   "outputs": [
    {
     "name": "stdout",
     "output_type": "stream",
     "text": [
      "True\n"
     ]
    }
   ],
   "source": [
    "a = [1, 2, 3]\n",
    "b = [1, 2, 3]\n",
    "\n",
    "print(a == b)"
   ]
  },
  {
   "cell_type": "markdown",
   "id": "5f1684a0-c81f-47f6-83bc-6ecee0bffead",
   "metadata": {},
   "source": [
    "We can see that \"==\" is matching the value and it is matched so it returned True"
   ]
  },
  {
   "cell_type": "code",
   "execution_count": 4,
   "id": "69601060-d3b5-43bd-abd7-05aaedd23e87",
   "metadata": {},
   "outputs": [
    {
     "name": "stdout",
     "output_type": "stream",
     "text": [
      "False\n"
     ]
    }
   ],
   "source": [
    "a = [1, 2, 3]\n",
    "b = [1, 2, 3]\n",
    "\n",
    "print(a is b)"
   ]
  },
  {
   "cell_type": "markdown",
   "id": "fad237e2-a3c5-48f4-af23-633ec5bf9227",
   "metadata": {},
   "source": [
    "So, we know that a and b are diffrent list/object so it returned false as they have diffrent memory blocks dispite same value"
   ]
  },
  {
   "cell_type": "markdown",
   "id": "0756fb2f-209f-46e5-a9ae-e6652d7bb344",
   "metadata": {},
   "source": [
    " 8. What are logical operators in Python "
   ]
  },
  {
   "cell_type": "markdown",
   "id": "f8a383e5-5b7d-4c30-a827-90a1279534c7",
   "metadata": {},
   "source": [
    "Ans- There are three logical operator and, or, not.\n",
    "        and - It checks two statement and sees both are true or not if both are true it will say true otherwise false\n",
    "        or- same as \"and\" but return truw when any one statement is true\n",
    "        not- it reverses the \"True\" or \"False\" like if statement is true the it will say false and same with false"
   ]
  },
  {
   "cell_type": "markdown",
   "id": "ad3e2ef2-2a5c-4d4e-a234-2826b4a50b3c",
   "metadata": {},
   "source": [
    "9. What is type casting in Python "
   ]
  },
  {
   "cell_type": "markdown",
   "id": "b5d0b10d-50b2-455a-99b2-c0de3ca18d75",
   "metadata": {},
   "source": [
    "Ans- It refers to changing type of an variable. like for an example. "
   ]
  },
  {
   "cell_type": "code",
   "execution_count": 6,
   "id": "b5fbb766-21dd-4c3d-a02b-ebd82e449a57",
   "metadata": {},
   "outputs": [
    {
     "ename": "TypeError",
     "evalue": "unsupported operand type(s) for +: 'int' and 'str'",
     "output_type": "error",
     "traceback": [
      "\u001b[31m---------------------------------------------------------------------------\u001b[39m",
      "\u001b[31mTypeError\u001b[39m                                 Traceback (most recent call last)",
      "\u001b[36mCell\u001b[39m\u001b[36m \u001b[39m\u001b[32mIn[6]\u001b[39m\u001b[32m, line 5\u001b[39m\n\u001b[32m      2\u001b[39m b = \u001b[33m\"\u001b[39m\u001b[33m6\u001b[39m\u001b[33m\"\u001b[39m \u001b[38;5;66;03m#it is an str() variable\u001b[39;00m\n\u001b[32m      4\u001b[39m \u001b[38;5;66;03m#if we do a + b it will throw an error\u001b[39;00m\n\u001b[32m----> \u001b[39m\u001b[32m5\u001b[39m \u001b[38;5;28mprint\u001b[39m(\u001b[43ma\u001b[49m\u001b[43m \u001b[49m\u001b[43m+\u001b[49m\u001b[43m \u001b[49m\u001b[43mb\u001b[49m) \n",
      "\u001b[31mTypeError\u001b[39m: unsupported operand type(s) for +: 'int' and 'str'"
     ]
    }
   ],
   "source": [
    "a = 5 #it is an int() variable\n",
    "b = \"6\" #it is an str() variable\n",
    "\n",
    "#if we do a + b it will throw an error\n",
    "print(a + b) "
   ]
  },
  {
   "cell_type": "code",
   "execution_count": 7,
   "id": "24e68938-4365-4d25-b806-7bf42bda3d53",
   "metadata": {},
   "outputs": [
    {
     "name": "stdout",
     "output_type": "stream",
     "text": [
      "11\n"
     ]
    }
   ],
   "source": [
    "#but if we change the type of the b to int by type casting.\n",
    "print(a + int(b))"
   ]
  },
  {
   "cell_type": "markdown",
   "id": "1e86ab43-1a08-4079-b25e-5595efaa72db",
   "metadata": {},
   "source": [
    "see it did not throw an this time as it change it type from str to int and completed it's operation."
   ]
  },
  {
   "cell_type": "markdown",
   "id": "f0fd3c30-5757-4ab5-ac02-493faa7109fa",
   "metadata": {},
   "source": [
    "10. What is the difference between implicit and explicit type casting \n"
   ]
  },
  {
   "cell_type": "markdown",
   "id": "148b4b3d-8d0f-4852-a758-cfbf8922cc2d",
   "metadata": {},
   "source": [
    "Ans- Implicit typecasting means that python autmaticlly changes the type of an variable and explict means that you have to \n",
    "manually change to type of an variable. Like"
   ]
  },
  {
   "cell_type": "code",
   "execution_count": 15,
   "id": "2c523f6f-3f50-466e-bb95-88d63d7915e7",
   "metadata": {},
   "outputs": [
    {
     "name": "stdout",
     "output_type": "stream",
     "text": [
      "<class 'int'> Type of a\n",
      "<class 'float'> Type of b\n",
      "<class 'float'> Type of result\n",
      "7.0\n"
     ]
    }
   ],
   "source": [
    "#Implicit\n",
    "a = 5 #it is an int() value\n",
    "b = 2.0 #it is an float value \n",
    "\n",
    "#lets check if we do  add both variable what python does and also check the type of \"a\" and \"b\" also\n",
    "print(type(a), \"Type of a\")#checking type of \"a\"\n",
    "print(type(b), \"Type of b\")#checking type of \"b\"\n",
    "\n",
    "c = a + b #adding both in a new variable \n",
    "print(type(c), \"Type of result\")#checking type of the result\n",
    "print(c)#checking the result"
   ]
  },
  {
   "cell_type": "code",
   "execution_count": 14,
   "id": "2a4ed5f2-6fce-42e3-adb5-e8c840bb230a",
   "metadata": {},
   "outputs": [
    {
     "name": "stdout",
     "output_type": "stream",
     "text": [
      "<class 'str'> Type of a\n",
      "<class 'int'> Type of b\n",
      "<class 'int'> 11\n"
     ]
    }
   ],
   "source": [
    "#Explicit\n",
    "a = \"5\" #it is an str() value\n",
    "b = 6 #it is an int() value\n",
    "\n",
    "print(type(a), \"Type of a\")#checking type of \"a\"\n",
    "print(type(b), \"Type of b\")#checking type of \"b\"\n",
    "\n",
    "c = int(a) + b #here we are manually changing the type of b else it will throw an error\n",
    "print(type(c), c)"
   ]
  },
  {
   "cell_type": "markdown",
   "id": "d46a40b8-a31c-4764-98d3-0c24c4cf5759",
   "metadata": {},
   "source": [
    "11. What is the purpose of conditional statements in Python "
   ]
  },
  {
   "cell_type": "markdown",
   "id": "98fdd027-13b3-49df-9292-517d5fd6a6de",
   "metadata": {},
   "source": [
    "Ans- Conditional statements purpose is to run code with some condition like if else slif snd etc."
   ]
  },
  {
   "cell_type": "markdown",
   "id": "48ac12f1-9ead-4277-b74b-ebdb2c925752",
   "metadata": {},
   "source": [
    "12. How does the elif statement work "
   ]
  },
  {
   "cell_type": "markdown",
   "id": "ef7bd5d4-8259-4674-b725-f393a8c338e9",
   "metadata": {},
   "source": [
    "Ans- it is like \"if\" only but like when there is an \"if\" statement and expersion is not true then it will jump to \"elif\" and check \n",
    "wheather it is true or no. In simple like in english we say if below 18 not allowed else if above 18 allowed. "
   ]
  },
  {
   "cell_type": "markdown",
   "id": "724c4861-70db-4f74-b8d6-e9f491bc7a50",
   "metadata": {},
   "source": [
    "13. What is the difference between for and while loops "
   ]
  },
  {
   "cell_type": "markdown",
   "id": "c6b83815-6b9d-4729-819b-9fac2edc23e3",
   "metadata": {},
   "source": [
    "Ans- \"for\" loops is used to iterate over a list or a range and perform the function but while is used to or perform the action\n",
    "until condition becomes false."
   ]
  },
  {
   "cell_type": "markdown",
   "id": "b46fbab3-3002-4903-bb75-60da9de7f7b1",
   "metadata": {},
   "source": [
    "14. Describe a scenario where a while loop is more suitable than a for loop"
   ]
  },
  {
   "cell_type": "markdown",
   "id": "b2212874-bf26-40a3-9acc-b36ce3aa95a4",
   "metadata": {},
   "source": [
    "Ans- Like for an example we have to enter password in a page and don't want to know that how many time or how many attemps are taken\n",
    "so we use while just check statement is true or not."
   ]
  },
  {
   "cell_type": "markdown",
   "id": "a3c862d1-fe73-45a6-92dc-fed74f2d2c77",
   "metadata": {},
   "source": [
    "Practical Questions"
   ]
  },
  {
   "cell_type": "markdown",
   "id": "66316cc8-ce96-496f-b839-e331615ec2c8",
   "metadata": {},
   "source": [
    "1. Write a Python program to print \"Hello, World!\""
   ]
  },
  {
   "cell_type": "code",
   "execution_count": 1,
   "id": "4a2cde95-1c7d-4fa5-b8ee-9ec280753d22",
   "metadata": {},
   "outputs": [
    {
     "name": "stdout",
     "output_type": "stream",
     "text": [
      "Hello World!\n"
     ]
    }
   ],
   "source": [
    "print(\"Hello World!\")"
   ]
  },
  {
   "cell_type": "markdown",
   "id": "53838fd1-ad6c-41f5-bb34-881c0cc9bd6e",
   "metadata": {},
   "source": [
    "2.  Write a Python program that displays your name and age"
   ]
  },
  {
   "cell_type": "code",
   "execution_count": 3,
   "id": "078b51ab-72d0-4f7c-b524-517893cb156d",
   "metadata": {},
   "outputs": [
    {
     "name": "stdout",
     "output_type": "stream",
     "text": [
      "My name is Siddharth and age is 18\n"
     ]
    }
   ],
   "source": [
    "name = \"Siddharth\"\n",
    "age = 18\n",
    "\n",
    "print(f\"My name is {name} and age is {age}\")"
   ]
  },
  {
   "cell_type": "markdown",
   "id": "fcea942a-7a3a-4963-8124-34b2b569732b",
   "metadata": {},
   "source": [
    "3. Write code to print all the pre-defined keywords in Python using the keyword library"
   ]
  },
  {
   "cell_type": "code",
   "execution_count": 5,
   "id": "4d72fd6f-884a-4c11-9313-1d1e4e22bb47",
   "metadata": {},
   "outputs": [
    {
     "name": "stdout",
     "output_type": "stream",
     "text": [
      "False\n",
      "None\n",
      "True\n",
      "and\n",
      "as\n",
      "assert\n",
      "async\n",
      "await\n",
      "break\n",
      "class\n",
      "continue\n",
      "def\n",
      "del\n",
      "elif\n",
      "else\n",
      "except\n",
      "finally\n",
      "for\n",
      "from\n",
      "global\n",
      "if\n",
      "import\n",
      "in\n",
      "is\n",
      "lambda\n",
      "nonlocal\n",
      "not\n",
      "or\n",
      "pass\n",
      "raise\n",
      "return\n",
      "try\n",
      "while\n",
      "with\n",
      "yield\n"
     ]
    }
   ],
   "source": [
    "import keyword\n",
    "\n",
    "for kw in keyword.kwlist:\n",
    "    print(kw)"
   ]
  },
  {
   "cell_type": "markdown",
   "id": "3438b164-7e29-438c-bb75-cc2b08899818",
   "metadata": {},
   "source": [
    "4. Write a program that checks if a given word is a Python keyword."
   ]
  },
  {
   "cell_type": "code",
   "execution_count": 8,
   "id": "38214cae-b82b-4d6a-9449-521fd707a9fc",
   "metadata": {},
   "outputs": [
    {
     "name": "stdin",
     "output_type": "stream",
     "text": [
      "Please Enter.  while\n"
     ]
    },
    {
     "name": "stdout",
     "output_type": "stream",
     "text": [
      "while is a pre defined keyword\n"
     ]
    }
   ],
   "source": [
    "import keyword\n",
    "\n",
    "#Enter the keyword to check\n",
    "check_keyword = input(\"Please Enter. \")\n",
    "\n",
    "if keyword.iskeyword(check_keyword):\n",
    "    print(f\"{check_keyword} is a pre defined keyword\")\n",
    "else:\n",
    "    print(f\"{check_keyword} is not a pre defined keyword\")"
   ]
  },
  {
   "cell_type": "markdown",
   "id": "19c82fb0-b903-4691-96e3-66d52c5b13cb",
   "metadata": {},
   "source": [
    "5.  Create a list and tuple in Python, and demonstrate how attempting to change an element works differently\n",
    "for each."
   ]
  },
  {
   "cell_type": "code",
   "execution_count": 13,
   "id": "78ad8d6f-8d34-48dc-a542-d6307c611ae9",
   "metadata": {},
   "outputs": [
    {
     "name": "stdout",
     "output_type": "stream",
     "text": [
      "<class 'list'>\n",
      "[1, 2, 3]\n"
     ]
    }
   ],
   "source": [
    "#list\n",
    "my_list = [1, 2, 3]\n",
    "\n",
    "print(type(my_list))\n",
    "print(my_list)"
   ]
  },
  {
   "cell_type": "code",
   "execution_count": 12,
   "id": "363fc487-a114-4745-aab4-070353141bcd",
   "metadata": {},
   "outputs": [
    {
     "name": "stdout",
     "output_type": "stream",
     "text": [
      "[10, 2, 3]\n"
     ]
    }
   ],
   "source": [
    "my_list[0] = 10\n",
    "print(my_list)"
   ]
  },
  {
   "cell_type": "markdown",
   "id": "be9f290a-e941-4108-8cf9-01ac056dcbfe",
   "metadata": {},
   "source": [
    "We can see that first item of list has been changed with the help of index no. Now let jump to tuples "
   ]
  },
  {
   "cell_type": "code",
   "execution_count": 15,
   "id": "b7f39e9c-abb1-44f9-8160-8c10aaec1565",
   "metadata": {},
   "outputs": [
    {
     "name": "stdout",
     "output_type": "stream",
     "text": [
      "<class 'tuple'>\n",
      "(1, 2, 3)\n"
     ]
    }
   ],
   "source": [
    "my_tuple = (1, 2, 3)\n",
    "\n",
    "print(type(my_tuple))\n",
    "print(my_tuple)"
   ]
  },
  {
   "cell_type": "code",
   "execution_count": 16,
   "id": "4faf50b2-c11a-4166-881f-b8ff0a06702a",
   "metadata": {},
   "outputs": [
    {
     "name": "stdout",
     "output_type": "stream",
     "text": [
      "1\n"
     ]
    }
   ],
   "source": [
    "print(my_tuple[0])"
   ]
  },
  {
   "cell_type": "markdown",
   "id": "f0d4dc28-a626-4728-acd3-f5b63d1e332d",
   "metadata": {},
   "source": [
    "We can see that we can access tuple by index no now lets try to change 1 to 10"
   ]
  },
  {
   "cell_type": "code",
   "execution_count": 17,
   "id": "0e764d06-4a27-42bd-ad63-efffe2a55c64",
   "metadata": {},
   "outputs": [
    {
     "ename": "TypeError",
     "evalue": "'tuple' object does not support item assignment",
     "output_type": "error",
     "traceback": [
      "\u001b[31m---------------------------------------------------------------------------\u001b[39m",
      "\u001b[31mTypeError\u001b[39m                                 Traceback (most recent call last)",
      "\u001b[36mCell\u001b[39m\u001b[36m \u001b[39m\u001b[32mIn[17]\u001b[39m\u001b[32m, line 1\u001b[39m\n\u001b[32m----> \u001b[39m\u001b[32m1\u001b[39m \u001b[43mmy_tuple\u001b[49m\u001b[43m[\u001b[49m\u001b[32;43m0\u001b[39;49m\u001b[43m]\u001b[49m = \u001b[32m10\u001b[39m\n\u001b[32m      2\u001b[39m \u001b[38;5;28mprint\u001b[39m(my_tuple)\n",
      "\u001b[31mTypeError\u001b[39m: 'tuple' object does not support item assignment"
     ]
    }
   ],
   "source": [
    "my_tuple[0] = 10\n",
    "print(my_tuple)"
   ]
  },
  {
   "cell_type": "markdown",
   "id": "336816ec-21da-48af-a8f6-135514e6e532",
   "metadata": {},
   "source": [
    "see it throws a error \"TypeError: 'tuple' object does not support item assignment\". So we can say tuples can't be reasigned."
   ]
  },
  {
   "cell_type": "markdown",
   "id": "bbd31964-cd21-4a56-b638-ddd4b6c37e3b",
   "metadata": {},
   "source": [
    "6. Write a function to demonstrate the behavior of mutable and immutable arguments."
   ]
  },
  {
   "cell_type": "code",
   "execution_count": 24,
   "id": "922380ff-60ef-44cc-9faf-aeb32654738b",
   "metadata": {},
   "outputs": [
    {
     "name": "stdout",
     "output_type": "stream",
     "text": [
      "['Sam', 'Tom', 'Ron']\n"
     ]
    }
   ],
   "source": [
    "#Mutable \n",
    "my_mutable = [\"Sam\", \"Tom\", \"Ron\"]\n",
    "\n",
    "print(my_mutable)"
   ]
  },
  {
   "cell_type": "code",
   "execution_count": 25,
   "id": "81e96bd7-b4ec-488f-b3ea-48595cb1f6b6",
   "metadata": {},
   "outputs": [
    {
     "name": "stdout",
     "output_type": "stream",
     "text": [
      "['Sam', 'Tom', 'Ron', 'Bam']\n"
     ]
    }
   ],
   "source": [
    "#if we try to add Bam in it \n",
    "my_mutable.append(\"Bam\")\n",
    "print(my_mutable)"
   ]
  },
  {
   "cell_type": "markdown",
   "id": "a260a427-8960-4677-81ef-d2fe228a8c2f",
   "metadata": {},
   "source": [
    "See we can have changed the object."
   ]
  },
  {
   "cell_type": "code",
   "execution_count": 26,
   "id": "598e9227-a581-446b-b01d-da64ca4670b6",
   "metadata": {},
   "outputs": [
    {
     "name": "stdout",
     "output_type": "stream",
     "text": [
      "Siddharth\n"
     ]
    }
   ],
   "source": [
    "my_immutable = \"Siddharth\"\n",
    "\n",
    "print(my_immutable)"
   ]
  },
  {
   "cell_type": "code",
   "execution_count": 27,
   "id": "cce6233f-435c-4ab5-b4b9-caed1e78ba75",
   "metadata": {},
   "outputs": [
    {
     "ename": "AttributeError",
     "evalue": "'str' object has no attribute 'append'",
     "output_type": "error",
     "traceback": [
      "\u001b[31m---------------------------------------------------------------------------\u001b[39m",
      "\u001b[31mAttributeError\u001b[39m                            Traceback (most recent call last)",
      "\u001b[36mCell\u001b[39m\u001b[36m \u001b[39m\u001b[32mIn[27]\u001b[39m\u001b[32m, line 1\u001b[39m\n\u001b[32m----> \u001b[39m\u001b[32m1\u001b[39m \u001b[43mmy_immutable\u001b[49m\u001b[43m.\u001b[49m\u001b[43mappend\u001b[49m(\u001b[33m\"\u001b[39m\u001b[33mN\u001b[39m\u001b[33m\"\u001b[39m)\n\u001b[32m      2\u001b[39m \u001b[38;5;28mprint\u001b[39m(my_immutable)\n",
      "\u001b[31mAttributeError\u001b[39m: 'str' object has no attribute 'append'"
     ]
    }
   ],
   "source": [
    "my_immutable.append(\"N\")\n",
    "print(my_immutable)"
   ]
  },
  {
   "cell_type": "code",
   "execution_count": 28,
   "id": "cb115ea4-fa8a-4810-a9f6-fe827db7a76e",
   "metadata": {},
   "outputs": [
    {
     "ename": "TypeError",
     "evalue": "'str' object does not support item assignment",
     "output_type": "error",
     "traceback": [
      "\u001b[31m---------------------------------------------------------------------------\u001b[39m",
      "\u001b[31mTypeError\u001b[39m                                 Traceback (most recent call last)",
      "\u001b[36mCell\u001b[39m\u001b[36m \u001b[39m\u001b[32mIn[28]\u001b[39m\u001b[32m, line 2\u001b[39m\n\u001b[32m      1\u001b[39m \u001b[38;5;66;03m#Lets try to change by  indexing\u001b[39;00m\n\u001b[32m----> \u001b[39m\u001b[32m2\u001b[39m \u001b[43mmy_immutable\u001b[49m\u001b[43m[\u001b[49m\u001b[32;43m0\u001b[39;49m\u001b[43m]\u001b[49m = \u001b[33m\"\u001b[39m\u001b[33mN\u001b[39m\u001b[33m\"\u001b[39m\n",
      "\u001b[31mTypeError\u001b[39m: 'str' object does not support item assignment"
     ]
    }
   ],
   "source": [
    "#Lets try to change by  indexing\n",
    "my_immutable[0] = \"N\"\n"
   ]
  },
  {
   "cell_type": "markdown",
   "id": "46ee5713-2e0d-45c0-aed6-ed19b3a048f2",
   "metadata": {},
   "source": [
    "See."
   ]
  },
  {
   "cell_type": "markdown",
   "id": "f3ead524-20c0-43d8-8238-5e1ccad24fab",
   "metadata": {},
   "source": [
    "7. Write a program that performs basic arithmetic operations on two user-input numbers."
   ]
  },
  {
   "cell_type": "code",
   "execution_count": 40,
   "id": "fe25cdc2-2d8b-4207-b5e6-67dce805ddd4",
   "metadata": {},
   "outputs": [
    {
     "name": "stdin",
     "output_type": "stream",
     "text": [
      "Please Enter No. 1.  1\n",
      "Please Enter +,-,*,/.  +\n",
      "Please Enter No. 2.  1\n"
     ]
    },
    {
     "name": "stdout",
     "output_type": "stream",
     "text": [
      "Your Addition is  2.0\n"
     ]
    }
   ],
   "source": [
    "a = float(input(\"Please Enter No. 1. \"))\n",
    "x = input(\"Please Enter +,-,*,/. \")\n",
    "b = float(input(\"Please Enter No. 2. \"))\n",
    "\n",
    "if x == \"+\":\n",
    "    result = a + b\n",
    "    print(\"Your Addition is \", result)\n",
    "elif x == \"-\":\n",
    "    result = a - b\n",
    "    print(\"Your Subtraction is \", result)\n",
    "elif x == \"*\":\n",
    "    result = a * b\n",
    "    print(\"Your Multiplication is \", result)\n",
    "elif x == \"/\":\n",
    "    result = a / b\n",
    "    print(\"Your division is \", result)\n",
    "\n"
   ]
  },
  {
   "cell_type": "markdown",
   "id": "8870d74f-7387-4b5e-9c80-a5e3ca44e286",
   "metadata": {},
   "source": [
    "8.  Write a program to demonstrate the use of logical operators"
   ]
  },
  {
   "cell_type": "markdown",
   "id": "ba10db5f-ee7a-4351-9455-0291326cf508",
   "metadata": {},
   "source": [
    "Logical operators are \"and\", \"or\", \"not\". now lets just learn this from some example"
   ]
  },
  {
   "cell_type": "code",
   "execution_count": 55,
   "id": "8d2197f1-3fa9-41f5-8723-b21f58ecf244",
   "metadata": {},
   "outputs": [
    {
     "name": "stdout",
     "output_type": "stream",
     "text": [
      "You are appicable for discount\n"
     ]
    }
   ],
   "source": [
    "#\"and\" It checks that both te statement should be true\n",
    "\n",
    "age = 18\n",
    "vip_status = True\n",
    "\n",
    "if age > 65 and vip_status is True:\n",
    "    print(\"You are appicable for special senior citzen discount\")\n",
    "elif 65 >= age >= 18 and vip_status is True:\n",
    "    print(\"You are appicable for discount\")\n",
    "else:\n",
    "    print(\"Sorry you are not applicable for dicount.\")"
   ]
  },
  {
   "cell_type": "code",
   "execution_count": 59,
   "id": "e436f497-5f11-4658-ac1f-1a79ef8dd979",
   "metadata": {},
   "outputs": [
    {
     "name": "stdout",
     "output_type": "stream",
     "text": [
      "You are appicable for discount\n"
     ]
    }
   ],
   "source": [
    "#\"or\" It only checks one condition should be true \n",
    "\n",
    "age = 66\n",
    "vip_status = False\n",
    "\n",
    "if age >= 65 or vip_status is True:\n",
    "    print(\"You are appicable for discount\")\n",
    "else:\n",
    "    print(\"You should have a vip status or should be senior citizen to be applicable for discount\")"
   ]
  },
  {
   "cell_type": "code",
   "execution_count": 70,
   "id": "9bfa27e0-4f3c-48d7-aaaf-09265e28a11b",
   "metadata": {},
   "outputs": [
    {
     "name": "stdout",
     "output_type": "stream",
     "text": [
      "False\n",
      "True\n"
     ]
    }
   ],
   "source": [
    "#\"not\" it reverse the \"True\" and \"False\"\n",
    "\n",
    "a = True\n",
    "print(not a)\n",
    "\n",
    "b = False \n",
    "print(not b)"
   ]
  },
  {
   "cell_type": "markdown",
   "id": "65b130e1-89a7-40fa-af1e-3154c6653ea9",
   "metadata": {},
   "source": [
    " 9. Write a Python program to convert user input from string to integer, float, and boolean types"
   ]
  },
  {
   "cell_type": "code",
   "execution_count": 74,
   "id": "168c4168-67f0-499f-9c32-c5583e381be6",
   "metadata": {},
   "outputs": [
    {
     "name": "stdin",
     "output_type": "stream",
     "text": [
      "Please Enter.  1\n",
      "Please Enter what you want to convert 1 into. enter in  a-int, b-float, c-bool.  c\n"
     ]
    },
    {
     "name": "stdout",
     "output_type": "stream",
     "text": [
      "Your boolean is. True\n"
     ]
    }
   ],
   "source": [
    "input_user = input(\"Please Enter. \") #Enter any thing which should be converted. Default it is str()\n",
    "input_user_convert = input(f\"Please Enter what you want to convert {input_user} into. enter in  a-int, b-float, c-bool. \")\n",
    "\n",
    "if input_user_convert == \"a\":#Convertion to int\n",
    "    converted_input_user = int(input_user)\n",
    "    print(f\"Your integer is. {converted_input_user}\")\n",
    "elif input_user_convert == \"b\":#Convertion to float\n",
    "    converted_input_user = float(input_user)\n",
    "    print(f\"Your float is. {converted_input_user}\")\n",
    "elif input_user_convert == \"c\":#Convertion to bool\n",
    "    converted_input_user = bool(input_user)\n",
    "    print(f\"Your boolean is. {converted_input_user}\")\n",
    "else:\n",
    "    print(\"Please Enter logical details. \")\n"
   ]
  },
  {
   "cell_type": "markdown",
   "id": "0d34d05a-b693-4d7a-9f32-d3dfc00edbb3",
   "metadata": {},
   "source": [
    "10. Write code to demonstrate type casting with list elements."
   ]
  },
  {
   "cell_type": "code",
   "execution_count": 76,
   "id": "4c142e37-cf73-429e-85af-7717db0db427",
   "metadata": {},
   "outputs": [
    {
     "name": "stdout",
     "output_type": "stream",
     "text": [
      "Original List.  ['10', '20', '30']\n",
      "Converted List.  [10, 20, 30]\n"
     ]
    }
   ],
   "source": [
    "str_list = [\"10\", \"20\", \"30\"]#This is a list with numbers in form of string. Now we convert them into int\n",
    "\n",
    "int_list = [int(item) for item in str_list]#Converting\n",
    "\n",
    "print(\"Original List. \", str_list)\n",
    "print(\"Converted List. \", int_list)"
   ]
  },
  {
   "cell_type": "markdown",
   "id": "80839d38-3d41-419c-992e-7400d7b2c732",
   "metadata": {},
   "source": [
    "11. Write a program that checks if a number is positive, negative, or zero."
   ]
  },
  {
   "cell_type": "code",
   "execution_count": 79,
   "id": "c8113bc3-9130-4b7e-b247-d0721b41466e",
   "metadata": {},
   "outputs": [
    {
     "name": "stdin",
     "output_type": "stream",
     "text": [
      "Please Enter a Number.  -1\n"
     ]
    },
    {
     "name": "stdout",
     "output_type": "stream",
     "text": [
      "Number -1.0 is Negative\n"
     ]
    }
   ],
   "source": [
    "number_input = float(input(\"Please Enter a Number. \"))\n",
    "\n",
    "if number_input > 0:\n",
    "    print(f\"Number {number_input} is Positive\")\n",
    "elif number_input == 0:\n",
    "    print(f\"Number {number_input} is Zero\")\n",
    "elif number_input < 0:\n",
    "    print(f\"Number {number_input} is Negative\") \n",
    "    "
   ]
  },
  {
   "cell_type": "markdown",
   "id": "5e57b362-f295-42c2-b39b-aa5372549b8e",
   "metadata": {},
   "source": [
    "12. Write a for loop to print numbers from 1 to 10."
   ]
  },
  {
   "cell_type": "code",
   "execution_count": 83,
   "id": "2eaac0ec-77bc-4db4-b129-489b187bf4ba",
   "metadata": {},
   "outputs": [
    {
     "name": "stdout",
     "output_type": "stream",
     "text": [
      "1\n",
      "2\n",
      "3\n",
      "4\n",
      "5\n",
      "6\n",
      "7\n",
      "8\n",
      "9\n",
      "10\n"
     ]
    }
   ],
   "source": [
    "for i in range (1,11):\n",
    "    print(i)\n",
    "    i+=1"
   ]
  },
  {
   "cell_type": "markdown",
   "id": "720c845c-9ab0-48d3-bb1f-3ccb86daac67",
   "metadata": {},
   "source": [
    "13. Write a Python program to find the sum of all even numbers between 1 and 50."
   ]
  },
  {
   "cell_type": "code",
   "execution_count": 87,
   "id": "2f3a4669-aea3-401b-ac63-0eb1d19167b0",
   "metadata": {},
   "outputs": [
    {
     "name": "stdout",
     "output_type": "stream",
     "text": [
      "650\n"
     ]
    }
   ],
   "source": [
    "s = 0\n",
    "\n",
    "for i in range (1, 51):\n",
    "    if i % 2 == 0:\n",
    "        s = s + i\n",
    "print(s)"
   ]
  },
  {
   "cell_type": "markdown",
   "id": "5bbfa026-e8f9-448f-bb20-424ca18ac0e7",
   "metadata": {},
   "source": [
    "14. Write a program to reverse a string using a while loop"
   ]
  },
  {
   "cell_type": "code",
   "execution_count": 90,
   "id": "3586ac60-03ff-4de8-9939-1c9d15c517c7",
   "metadata": {},
   "outputs": [
    {
     "name": "stdin",
     "output_type": "stream",
     "text": [
      "Please enter some Text.  Python\n"
     ]
    },
    {
     "name": "stdout",
     "output_type": "stream",
     "text": [
      "nohtyP\n"
     ]
    }
   ],
   "source": [
    "text = input(\"Please enter some Text. \")\n",
    "\n",
    "reversed_text = \"\"\n",
    "index = len(text) - 1\n",
    "\n",
    "while index >= 0:\n",
    "    reversed_text += text[index]\n",
    "    index-=1\n",
    "print(reversed_text)"
   ]
  },
  {
   "cell_type": "markdown",
   "id": "a99f2334-b57d-4c5a-a8f3-ca1584c791bb",
   "metadata": {},
   "source": [
    "15. Write a Python program to calculate the factorial of a number provided by the user using a while loop."
   ]
  },
  {
   "cell_type": "code",
   "execution_count": 91,
   "id": "e4c567aa-2d0f-4995-a7ba-be1fe9d6332c",
   "metadata": {},
   "outputs": [
    {
     "name": "stdin",
     "output_type": "stream",
     "text": [
      "Enter a number:  5\n"
     ]
    },
    {
     "name": "stdout",
     "output_type": "stream",
     "text": [
      "Factorial of 5 is: 120\n"
     ]
    }
   ],
   "source": [
    "num = int(input(\"Enter a number: \"))\n",
    "\n",
    "factorial = 1\n",
    "i = 1\n",
    "\n",
    "while i <= num:\n",
    "    factorial *= i\n",
    "    i += 1\n",
    "\n",
    "print(\"Factorial of\", num, \"is:\", factorial)"
   ]
  },
  {
   "cell_type": "code",
   "execution_count": null,
   "id": "3e154042-4e64-405e-9a7e-d14a629d6459",
   "metadata": {},
   "outputs": [],
   "source": []
  }
 ],
 "metadata": {
  "kernelspec": {
   "display_name": "Python 3 (ipykernel)",
   "language": "python",
   "name": "python3"
  },
  "language_info": {
   "codemirror_mode": {
    "name": "ipython",
    "version": 3
   },
   "file_extension": ".py",
   "mimetype": "text/x-python",
   "name": "python",
   "nbconvert_exporter": "python",
   "pygments_lexer": "ipython3",
   "version": "3.13.3"
  }
 },
 "nbformat": 4,
 "nbformat_minor": 5
}
